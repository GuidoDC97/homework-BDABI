{
 "cells": [
  {
   "cell_type": "markdown",
   "metadata": {
    "application/vnd.databricks.v1+cell": {
     "inputWidgets": {},
     "nuid": "4c177a8c-9e47-4a54-8491-4af323d52935",
     "showTitle": false,
     "title": ""
    }
   },
   "source": [
    "# Homework 2 - Spark"
   ]
  },
  {
   "cell_type": "markdown",
   "metadata": {
    "application/vnd.databricks.v1+cell": {
     "inputWidgets": {},
     "nuid": "0f846f7c-4767-4dc5-b01f-39e42720b7be",
     "showTitle": false,
     "title": ""
    }
   },
   "source": [
    "## Lettura dei dati"
   ]
  },
  {
   "cell_type": "code",
   "execution_count": 0,
   "metadata": {
    "application/vnd.databricks.v1+cell": {
     "inputWidgets": {},
     "nuid": "d9427763-a8f3-49a3-aa76-09bc422ec6d1",
     "showTitle": false,
     "title": ""
    }
   },
   "outputs": [
    {
     "data": {
      "text/html": [
       "<style scoped>\n",
       "  .ansiout {\n",
       "    display: block;\n",
       "    unicode-bidi: embed;\n",
       "    white-space: pre-wrap;\n",
       "    word-wrap: break-word;\n",
       "    word-break: break-all;\n",
       "    font-family: \"Source Code Pro\", \"Menlo\", monospace;;\n",
       "    font-size: 13px;\n",
       "    color: #555;\n",
       "    margin-left: 4px;\n",
       "    line-height: 19px;\n",
       "  }\n",
       "</style>\n",
       "<div class=\"ansiout\"></div>"
      ]
     },
     "metadata": {
      "application/vnd.databricks.v1+output": {
       "addedWidgets": {},
       "arguments": {},
       "data": "<div class=\"ansiout\"></div>",
       "datasetInfos": [],
       "removedWidgets": [],
       "type": "html"
      }
     },
     "output_type": "display_data"
    }
   ],
   "source": [
    "import requests\n",
    "import sys\n",
    "\n",
    "from pyspark.sql.functions import when, count, isnull, expr, current_date, col, date_format, year, month, lag, sum, round, max, min, datediff, explode, lit\n",
    "from pyspark.sql.window import Window"
   ]
  },
  {
   "cell_type": "code",
   "execution_count": 0,
   "metadata": {
    "application/vnd.databricks.v1+cell": {
     "inputWidgets": {},
     "nuid": "c341ae02-1980-4d98-835d-bbb3bc2a974f",
     "showTitle": false,
     "title": ""
    }
   },
   "outputs": [
    {
     "data": {
      "text/html": [
       "<style scoped>\n",
       "  .ansiout {\n",
       "    display: block;\n",
       "    unicode-bidi: embed;\n",
       "    white-space: pre-wrap;\n",
       "    word-wrap: break-word;\n",
       "    word-break: break-all;\n",
       "    font-family: \"Source Code Pro\", \"Menlo\", monospace;;\n",
       "    font-size: 13px;\n",
       "    color: #555;\n",
       "    margin-left: 4px;\n",
       "    line-height: 19px;\n",
       "  }\n",
       "</style>\n",
       "<div class=\"ansiout\">Wrote 17300 bytes.\n",
       "Wrote 1505911 bytes.\n",
       "Wrote 4018007 bytes.\n",
       "</div>"
      ]
     },
     "metadata": {
      "application/vnd.databricks.v1+output": {
       "addedWidgets": {},
       "arguments": {},
       "data": "<div class=\"ansiout\">Wrote 17300 bytes.\nWrote 1505911 bytes.\nWrote 4018007 bytes.\n</div>",
       "datasetInfos": [],
       "removedWidgets": [],
       "type": "html"
      }
     },
     "output_type": "display_data"
    }
   ],
   "source": [
    "local_path_popolazione_regioni = \"dbfs:/FileStore/shared_uploads/gu.dichiara@studenti.unina.it/popolazione_regioni.csv\"\n",
    "local_path_dati_covid_regioni = \"dbfs:/FileStore/shared_uploads/gu.dichiara@studenti.unina.it/dati_covid_regioni.csv\"\n",
    "local_path_dati_vaccini_somministrazioni = \"dbfs:/FileStore/shared_uploads/gu.dichiara@studenti.unina.it/dati_vaccini_somministrazioni.csv\"\n",
    "\n",
    "# local_path_popolazione_regioni = \"dbfs:/FileStore/shared_uploads/fabio.dandrea@studenti.unina.it/popolazione_regioni.csv\"\n",
    "# local_path_dati_covid_regioni = \"dbfs:/FileStore/shared_uploads/fabio.dandrea@studenti.unina.it/dati_covid_regioni.csv\"\n",
    "# local_path_dati_vaccini_somministrazioni = \"dbfs:/FileStore/shared_uploads/fabio.dandrea@studenti.unina.it/dati_vaccini_somministrazioni.csv\"\n",
    "# local_path_dati_vaccini_consegne = \"dbfs:/FileStore/shared_uploads/fabio.dandrea@studenti.unina.it/dati_vaccini_consegne.csv\"\n",
    "\n",
    "popolazione_regioni_URL = \"https://raw.githubusercontent.com/pcm-dpc/COVID-19/master/dati-statistici-riferimento/popolazione-istat-regione-range.csv\"\n",
    "dati_covid_regioni_URL = \"https://raw.githubusercontent.com/pcm-dpc/COVID-19/master/dati-regioni/dpc-covid19-ita-regioni.csv\"\n",
    "dati_vaccini_somministrazioni_URL = \"https://raw.githubusercontent.com/italia/covid19-opendata-vaccini/master/dati/somministrazioni-vaccini-latest.csv\"\n",
    "\n",
    "dbutils.fs.put(local_path_popolazione_regioni, requests.get(popolazione_regioni_URL).text, True)\n",
    "dbutils.fs.put(local_path_dati_covid_regioni, requests.get(dati_covid_regioni_URL).text, True)\n",
    "dbutils.fs.put(local_path_dati_vaccini_somministrazioni, requests.get(dati_vaccini_somministrazioni_URL).text, True)\n",
    "\n",
    "popolazione_regioni = spark.read.option(\"inferSchema\", \"true\") \\\n",
    "                                .option(\"header\", \"true\") \\\n",
    "                                .csv(local_path_popolazione_regioni)\n",
    "dati_covid_regioni = spark.read.option(\"inferSchema\", \"true\") \\\n",
    "                                .option(\"header\", \"true\") \\\n",
    "                                .csv(local_path_dati_covid_regioni)\n",
    "dati_vaccini_somministrazioni = spark.read.option(\"inferSchema\", \"true\") \\\n",
    "                                          .option(\"header\", \"true\") \\\n",
    "                                          .csv(local_path_dati_vaccini_somministrazioni)"
   ]
  },
  {
   "cell_type": "markdown",
   "metadata": {
    "application/vnd.databricks.v1+cell": {
     "inputWidgets": {},
     "nuid": "ab8be572-d4ec-4378-b89d-9326b41ad746",
     "showTitle": false,
     "title": ""
    }
   },
   "source": [
    "## Preprocessing"
   ]
  },
  {
   "cell_type": "markdown",
   "metadata": {
    "application/vnd.databricks.v1+cell": {
     "inputWidgets": {},
     "nuid": "875562b5-8b37-4318-89c6-625c7d91731e",
     "showTitle": false,
     "title": ""
    }
   },
   "source": [
    "### Popolazione Regioni\n",
    "Si eliminano le colonne che non sono di interesse."
   ]
  },
  {
   "cell_type": "code",
   "execution_count": 0,
   "metadata": {
    "application/vnd.databricks.v1+cell": {
     "inputWidgets": {},
     "nuid": "2e102df6-4134-429e-bd3b-cd665bc3fea3",
     "showTitle": false,
     "title": ""
    }
   },
   "outputs": [
    {
     "data": {
      "text/html": [
       "<style scoped>\n",
       "  .ansiout {\n",
       "    display: block;\n",
       "    unicode-bidi: embed;\n",
       "    white-space: pre-wrap;\n",
       "    word-wrap: break-word;\n",
       "    word-break: break-all;\n",
       "    font-family: \"Source Code Pro\", \"Menlo\", monospace;;\n",
       "    font-size: 13px;\n",
       "    color: #555;\n",
       "    margin-left: 4px;\n",
       "    line-height: 19px;\n",
       "  }\n",
       "</style>\n",
       "<div class=\"ansiout\">+-------------+---------------------+---------+---------------+\n",
       "codice_nuts_2|denominazione_regione|range_eta|totale_generale|\n",
       "+-------------+---------------------+---------+---------------+\n",
       "         ITF1|              Abruzzo|     0-15|         169897|\n",
       "         ITF1|              Abruzzo|    16-19|          46751|\n",
       "+-------------+---------------------+---------+---------------+\n",
       "only showing top 2 rows\n",
       "\n",
       "</div>"
      ]
     },
     "metadata": {
      "application/vnd.databricks.v1+output": {
       "addedWidgets": {},
       "arguments": {},
       "data": "<div class=\"ansiout\">+-------------+---------------------+---------+---------------+\n|codice_nuts_2|denominazione_regione|range_eta|totale_generale|\n+-------------+---------------------+---------+---------------+\n|         ITF1|              Abruzzo|     0-15|         169897|\n|         ITF1|              Abruzzo|    16-19|          46751|\n+-------------+---------------------+---------+---------------+\nonly showing top 2 rows\n\n</div>",
       "datasetInfos": [],
       "removedWidgets": [],
       "type": "html"
      }
     },
     "output_type": "display_data"
    }
   ],
   "source": [
    "popolazione_regioni = popolazione_regioni.drop('codice_regione', 'codice_nuts_1', \n",
    "                                               'descrizione_nuts_1', 'sigla_regione', \n",
    "                                               'latitudine_regione', 'longitudine_regione',\n",
    "                                               'totale_genere_maschile', 'totale_genere_femminile')\n",
    "\n",
    "popolazione_regioni.show(2)"
   ]
  },
  {
   "cell_type": "markdown",
   "metadata": {
    "application/vnd.databricks.v1+cell": {
     "inputWidgets": {},
     "nuid": "cc2226eb-2eae-426c-95fe-dd3117c6024a",
     "showTitle": false,
     "title": ""
    }
   },
   "source": [
    "Si verifica che il formato dei dati sia corretto."
   ]
  },
  {
   "cell_type": "code",
   "execution_count": 0,
   "metadata": {
    "application/vnd.databricks.v1+cell": {
     "inputWidgets": {},
     "nuid": "8a90fae0-7d26-473a-98a9-be6dfaee40f7",
     "showTitle": false,
     "title": ""
    }
   },
   "outputs": [
    {
     "data": {
      "text/html": [
       "<style scoped>\n",
       "  .ansiout {\n",
       "    display: block;\n",
       "    unicode-bidi: embed;\n",
       "    white-space: pre-wrap;\n",
       "    word-wrap: break-word;\n",
       "    word-break: break-all;\n",
       "    font-family: \"Source Code Pro\", \"Menlo\", monospace;;\n",
       "    font-size: 13px;\n",
       "    color: #555;\n",
       "    margin-left: 4px;\n",
       "    line-height: 19px;\n",
       "  }\n",
       "</style>\n",
       "<div class=\"ansiout\">Out[4]: [(&#39;codice_nuts_2&#39;, &#39;string&#39;),\n",
       " (&#39;denominazione_regione&#39;, &#39;string&#39;),\n",
       " (&#39;range_eta&#39;, &#39;string&#39;),\n",
       " (&#39;totale_generale&#39;, &#39;int&#39;)]</div>"
      ]
     },
     "metadata": {
      "application/vnd.databricks.v1+output": {
       "addedWidgets": {},
       "arguments": {},
       "data": "<div class=\"ansiout\">Out[4]: [(&#39;codice_nuts_2&#39;, &#39;string&#39;),\n (&#39;denominazione_regione&#39;, &#39;string&#39;),\n (&#39;range_eta&#39;, &#39;string&#39;),\n (&#39;totale_generale&#39;, &#39;int&#39;)]</div>",
       "datasetInfos": [],
       "removedWidgets": [],
       "type": "html"
      }
     },
     "output_type": "display_data"
    }
   ],
   "source": [
    "popolazione_regioni.dtypes"
   ]
  },
  {
   "cell_type": "markdown",
   "metadata": {
    "application/vnd.databricks.v1+cell": {
     "inputWidgets": {},
     "nuid": "e741a6b4-31b1-4356-a1b7-466f520e4570",
     "showTitle": false,
     "title": ""
    }
   },
   "source": [
    "Si verifica la correttezza delle colonne categoriche."
   ]
  },
  {
   "cell_type": "code",
   "execution_count": 0,
   "metadata": {
    "application/vnd.databricks.v1+cell": {
     "inputWidgets": {},
     "nuid": "49fe8865-b989-4731-a44a-87849764365a",
     "showTitle": false,
     "title": ""
    }
   },
   "outputs": [
    {
     "data": {
      "text/html": [
       "<style scoped>\n",
       "  .ansiout {\n",
       "    display: block;\n",
       "    unicode-bidi: embed;\n",
       "    white-space: pre-wrap;\n",
       "    word-wrap: break-word;\n",
       "    word-break: break-all;\n",
       "    font-family: \"Source Code Pro\", \"Menlo\", monospace;;\n",
       "    font-size: 13px;\n",
       "    color: #555;\n",
       "    margin-left: 4px;\n",
       "    line-height: 19px;\n",
       "  }\n",
       "</style>\n",
       "<div class=\"ansiout\">Il numero di regioni è: 21\n",
       "\n",
       "+-------------+---------------------+\n",
       "codice_nuts_2|denominazione_regione|\n",
       "+-------------+---------------------+\n",
       "         ITC1|             Piemonte|\n",
       "         ITC2|        Valle d&#39;Aosta|\n",
       "         ITC3|              Liguria|\n",
       "         ITC4|            Lombardia|\n",
       "         ITF1|              Abruzzo|\n",
       "         ITF2|               Molise|\n",
       "         ITF3|             Campania|\n",
       "         ITF4|               Puglia|\n",
       "         ITF5|           Basilicata|\n",
       "         ITF6|             Calabria|\n",
       "         ITG1|              Sicilia|\n",
       "         ITG2|             Sardegna|\n",
       "         ITH1|              Bolzano|\n",
       "         ITH2|               Trento|\n",
       "         ITH3|               Veneto|\n",
       "         ITH4| Friuli Venezia Gi...|\n",
       "         ITH5|       Emilia-Romagna|\n",
       "         ITI1|              Toscana|\n",
       "         ITI2|               Umbria|\n",
       "         ITI3|               Marche|\n",
       "         ITI4|                Lazio|\n",
       "+-------------+---------------------+\n",
       "\n",
       "</div>"
      ]
     },
     "metadata": {
      "application/vnd.databricks.v1+output": {
       "addedWidgets": {},
       "arguments": {},
       "data": "<div class=\"ansiout\">Il numero di regioni è: 21\n\n+-------------+---------------------+\n|codice_nuts_2|denominazione_regione|\n+-------------+---------------------+\n|         ITC1|             Piemonte|\n|         ITC2|        Valle d&#39;Aosta|\n|         ITC3|              Liguria|\n|         ITC4|            Lombardia|\n|         ITF1|              Abruzzo|\n|         ITF2|               Molise|\n|         ITF3|             Campania|\n|         ITF4|               Puglia|\n|         ITF5|           Basilicata|\n|         ITF6|             Calabria|\n|         ITG1|              Sicilia|\n|         ITG2|             Sardegna|\n|         ITH1|              Bolzano|\n|         ITH2|               Trento|\n|         ITH3|               Veneto|\n|         ITH4| Friuli Venezia Gi...|\n|         ITH5|       Emilia-Romagna|\n|         ITI1|              Toscana|\n|         ITI2|               Umbria|\n|         ITI3|               Marche|\n|         ITI4|                Lazio|\n+-------------+---------------------+\n\n</div>",
       "datasetInfos": [],
       "removedWidgets": [],
       "type": "html"
      }
     },
     "output_type": "display_data"
    }
   ],
   "source": [
    "num_regioni = popolazione_regioni.groupBy('denominazione_regione') \\\n",
    "                .count() \\\n",
    "                .count()\n",
    "print('Il numero di regioni è:', num_regioni)\n",
    "print()\n",
    "popolazione_regioni.groupBy('codice_nuts_2', 'denominazione_regione') \\\n",
    "                    .count() \\\n",
    "                    .drop('count') \\\n",
    "                    .orderBy('codice_nuts_2') \\\n",
    "                    .show(num_regioni)"
   ]
  },
  {
   "cell_type": "code",
   "execution_count": 0,
   "metadata": {
    "application/vnd.databricks.v1+cell": {
     "inputWidgets": {},
     "nuid": "9d9f05dd-fadd-4517-92ff-d27594adc206",
     "showTitle": false,
     "title": ""
    }
   },
   "outputs": [
    {
     "data": {
      "text/html": [
       "<style scoped>\n",
       "  .ansiout {\n",
       "    display: block;\n",
       "    unicode-bidi: embed;\n",
       "    white-space: pre-wrap;\n",
       "    word-wrap: break-word;\n",
       "    word-break: break-all;\n",
       "    font-family: \"Source Code Pro\", \"Menlo\", monospace;;\n",
       "    font-size: 13px;\n",
       "    color: #555;\n",
       "    margin-left: 4px;\n",
       "    line-height: 19px;\n",
       "  }\n",
       "</style>\n",
       "<div class=\"ansiout\">+---------+-----+\n",
       "range_eta|count|\n",
       "+---------+-----+\n",
       "     0-15|   21|\n",
       "    16-19|   21|\n",
       "    20-29|   21|\n",
       "    30-39|   21|\n",
       "    40-49|   21|\n",
       "    50-59|   21|\n",
       "    60-69|   21|\n",
       "    70-79|   21|\n",
       "    80-89|   21|\n",
       "      90+|   21|\n",
       "+---------+-----+\n",
       "\n",
       "</div>"
      ]
     },
     "metadata": {
      "application/vnd.databricks.v1+output": {
       "addedWidgets": {},
       "arguments": {},
       "data": "<div class=\"ansiout\">+---------+-----+\n|range_eta|count|\n+---------+-----+\n|     0-15|   21|\n|    16-19|   21|\n|    20-29|   21|\n|    30-39|   21|\n|    40-49|   21|\n|    50-59|   21|\n|    60-69|   21|\n|    70-79|   21|\n|    80-89|   21|\n|      90+|   21|\n+---------+-----+\n\n</div>",
       "datasetInfos": [],
       "removedWidgets": [],
       "type": "html"
      }
     },
     "output_type": "display_data"
    }
   ],
   "source": [
    "popolazione_regioni.groupBy('range_eta') \\\n",
    "                    .count() \\\n",
    "                    .orderBy('range_eta') \\\n",
    "                    .show()"
   ]
  },
  {
   "cell_type": "markdown",
   "metadata": {
    "application/vnd.databricks.v1+cell": {
     "inputWidgets": {},
     "nuid": "9ece82eb-fc97-4b1a-a1ce-7dd05ea8ad2c",
     "showTitle": false,
     "title": ""
    }
   },
   "source": [
    "Si verifica la correttezza delle colonne numeriche."
   ]
  },
  {
   "cell_type": "code",
   "execution_count": 0,
   "metadata": {
    "application/vnd.databricks.v1+cell": {
     "inputWidgets": {},
     "nuid": "31e2cd7d-3745-418c-972b-eb0a29eecdc3",
     "showTitle": false,
     "title": ""
    }
   },
   "outputs": [
    {
     "data": {
      "text/html": [
       "<style scoped>\n",
       "  .ansiout {\n",
       "    display: block;\n",
       "    unicode-bidi: embed;\n",
       "    white-space: pre-wrap;\n",
       "    word-wrap: break-word;\n",
       "    word-break: break-all;\n",
       "    font-family: \"Source Code Pro\", \"Menlo\", monospace;;\n",
       "    font-size: 13px;\n",
       "    color: #555;\n",
       "    margin-left: 4px;\n",
       "    line-height: 19px;\n",
       "  }\n",
       "</style>\n",
       "<div class=\"ansiout\">+-------+-----------------+\n",
       "summary|  totale_generale|\n",
       "+-------+-----------------+\n",
       "  count|              210|\n",
       "   mean|284007.0857142857|\n",
       " stddev|303588.4857882117|\n",
       "    min|             1764|\n",
       "    max|          1592109|\n",
       "+-------+-----------------+\n",
       "\n",
       "</div>"
      ]
     },
     "metadata": {
      "application/vnd.databricks.v1+output": {
       "addedWidgets": {},
       "arguments": {},
       "data": "<div class=\"ansiout\">+-------+-----------------+\n|summary|  totale_generale|\n+-------+-----------------+\n|  count|              210|\n|   mean|284007.0857142857|\n| stddev|303588.4857882117|\n|    min|             1764|\n|    max|          1592109|\n+-------+-----------------+\n\n</div>",
       "datasetInfos": [],
       "removedWidgets": [],
       "type": "html"
      }
     },
     "output_type": "display_data"
    }
   ],
   "source": [
    "popolazione_regioni.describe('totale_generale') \\\n",
    "                   .show()"
   ]
  },
  {
   "cell_type": "markdown",
   "metadata": {
    "application/vnd.databricks.v1+cell": {
     "inputWidgets": {},
     "nuid": "aaca7209-b4cd-4485-967c-6cbd42f859d8",
     "showTitle": false,
     "title": ""
    }
   },
   "source": [
    "Si verifica la presenza di *missing values*."
   ]
  },
  {
   "cell_type": "code",
   "execution_count": 0,
   "metadata": {
    "application/vnd.databricks.v1+cell": {
     "inputWidgets": {},
     "nuid": "21c1ad3f-aeb2-4758-bf79-2e182e8c8f24",
     "showTitle": false,
     "title": ""
    }
   },
   "outputs": [
    {
     "data": {
      "text/html": [
       "<style scoped>\n",
       "  .ansiout {\n",
       "    display: block;\n",
       "    unicode-bidi: embed;\n",
       "    white-space: pre-wrap;\n",
       "    word-wrap: break-word;\n",
       "    word-break: break-all;\n",
       "    font-family: \"Source Code Pro\", \"Menlo\", monospace;;\n",
       "    font-size: 13px;\n",
       "    color: #555;\n",
       "    margin-left: 4px;\n",
       "    line-height: 19px;\n",
       "  }\n",
       "</style>\n",
       "<div class=\"ansiout\">+-------------+---------------------+---------+---------------+\n",
       "codice_nuts_2|denominazione_regione|range_eta|totale_generale|\n",
       "+-------------+---------------------+---------+---------------+\n",
       "            0|                    0|        0|              0|\n",
       "+-------------+---------------------+---------+---------------+\n",
       "\n",
       "</div>"
      ]
     },
     "metadata": {
      "application/vnd.databricks.v1+output": {
       "addedWidgets": {},
       "arguments": {},
       "data": "<div class=\"ansiout\">+-------------+---------------------+---------+---------------+\n|codice_nuts_2|denominazione_regione|range_eta|totale_generale|\n+-------------+---------------------+---------+---------------+\n|            0|                    0|        0|              0|\n+-------------+---------------------+---------+---------------+\n\n</div>",
       "datasetInfos": [],
       "removedWidgets": [],
       "type": "html"
      }
     },
     "output_type": "display_data"
    }
   ],
   "source": [
    "popolazione_regioni.select([count(when(isnull(c), c)).alias(c) for c in popolazione_regioni.columns]).show()"
   ]
  },
  {
   "cell_type": "markdown",
   "metadata": {
    "application/vnd.databricks.v1+cell": {
     "inputWidgets": {},
     "nuid": "e6712c1f-dd57-482f-a1c2-92f9c438df68",
     "showTitle": false,
     "title": ""
    }
   },
   "source": [
    "### Dati Covid Regioni\n",
    "Si eliminano le colonne che non sono di interesse."
   ]
  },
  {
   "cell_type": "code",
   "execution_count": 0,
   "metadata": {
    "application/vnd.databricks.v1+cell": {
     "inputWidgets": {},
     "nuid": "9099bc3f-49b8-47a2-90a5-0d77955792f8",
     "showTitle": false,
     "title": ""
    }
   },
   "outputs": [
    {
     "data": {
      "text/html": [
       "<style scoped>\n",
       "  .ansiout {\n",
       "    display: block;\n",
       "    unicode-bidi: embed;\n",
       "    white-space: pre-wrap;\n",
       "    word-wrap: break-word;\n",
       "    word-break: break-all;\n",
       "    font-family: \"Source Code Pro\", \"Menlo\", monospace;;\n",
       "    font-size: 13px;\n",
       "    color: #555;\n",
       "    margin-left: 4px;\n",
       "    line-height: 19px;\n",
       "  }\n",
       "</style>\n",
       "<div class=\"ansiout\">+-------------------+---------------------+----------------------+-----------------+--------------------+---------------+--------------+--------+-------+-------------+\n",
       "               data|denominazione_regione|ricoverati_con_sintomi|terapia_intensiva|totale_ospedalizzati|totale_positivi|nuovi_positivi|deceduti|tamponi|codice_nuts_2|\n",
       "+-------------------+---------------------+----------------------+-----------------+--------------------+---------------+--------------+--------+-------+-------------+\n",
       "2020-02-24 18:00:00|              Abruzzo|                     0|                0|                   0|              0|             0|       0|      5|         null|\n",
       "2020-02-24 18:00:00|           Basilicata|                     0|                0|                   0|              0|             0|       0|      0|         null|\n",
       "+-------------------+---------------------+----------------------+-----------------+--------------------+---------------+--------------+--------+-------+-------------+\n",
       "only showing top 2 rows\n",
       "\n",
       "</div>"
      ]
     },
     "metadata": {
      "application/vnd.databricks.v1+output": {
       "addedWidgets": {},
       "arguments": {},
       "data": "<div class=\"ansiout\">+-------------------+---------------------+----------------------+-----------------+--------------------+---------------+--------------+--------+-------+-------------+\n|               data|denominazione_regione|ricoverati_con_sintomi|terapia_intensiva|totale_ospedalizzati|totale_positivi|nuovi_positivi|deceduti|tamponi|codice_nuts_2|\n+-------------------+---------------------+----------------------+-----------------+--------------------+---------------+--------------+--------+-------+-------------+\n|2020-02-24 18:00:00|              Abruzzo|                     0|                0|                   0|              0|             0|       0|      5|         null|\n|2020-02-24 18:00:00|           Basilicata|                     0|                0|                   0|              0|             0|       0|      0|         null|\n+-------------------+---------------------+----------------------+-----------------+--------------------+---------------+--------------+--------+-------+-------------+\nonly showing top 2 rows\n\n</div>",
       "datasetInfos": [],
       "removedWidgets": [],
       "type": "html"
      }
     },
     "output_type": "display_data"
    }
   ],
   "source": [
    "dati_covid_regioni = dati_covid_regioni.drop('stato', 'codice_nuts_1', 'codice_regione', \n",
    "                                             'lat', 'long', 'note_test', 'note_casi',\n",
    "                                             'note', 'casi_da_sospetto_diagnostico', \n",
    "                                             'casi_da_screening','casi_testati', \n",
    "                                             'ingressi_terapia_intensiva', \n",
    "                                             'totale_positivi_test_molecolare', \n",
    "                                             'totale_positivi_test_antigenico_rapido',\n",
    "                                             'tamponi_test_molecolare', \n",
    "                                             'tamponi_test_antigenico_rapido', \n",
    "                                             'isolamento_domiciliare', \n",
    "                                             'variazione_totale_positivi', \n",
    "                                             'dimessi_guariti', 'totale_casi')\n",
    "dati_covid_regioni.show(2)"
   ]
  },
  {
   "cell_type": "markdown",
   "metadata": {
    "application/vnd.databricks.v1+cell": {
     "inputWidgets": {},
     "nuid": "d05550f5-e918-4fdf-b5dc-d050322bc831",
     "showTitle": false,
     "title": ""
    }
   },
   "source": [
    "Si verifica che il formato dei dati sia corretto."
   ]
  },
  {
   "cell_type": "code",
   "execution_count": 0,
   "metadata": {
    "application/vnd.databricks.v1+cell": {
     "inputWidgets": {},
     "nuid": "8657312c-af22-4d1e-9ce8-38c0dcdc739e",
     "showTitle": false,
     "title": ""
    }
   },
   "outputs": [
    {
     "data": {
      "text/html": [
       "<style scoped>\n",
       "  .ansiout {\n",
       "    display: block;\n",
       "    unicode-bidi: embed;\n",
       "    white-space: pre-wrap;\n",
       "    word-wrap: break-word;\n",
       "    word-break: break-all;\n",
       "    font-family: \"Source Code Pro\", \"Menlo\", monospace;;\n",
       "    font-size: 13px;\n",
       "    color: #555;\n",
       "    margin-left: 4px;\n",
       "    line-height: 19px;\n",
       "  }\n",
       "</style>\n",
       "<div class=\"ansiout\">Out[10]: [(&#39;data&#39;, &#39;timestamp&#39;),\n",
       " (&#39;denominazione_regione&#39;, &#39;string&#39;),\n",
       " (&#39;ricoverati_con_sintomi&#39;, &#39;int&#39;),\n",
       " (&#39;terapia_intensiva&#39;, &#39;int&#39;),\n",
       " (&#39;totale_ospedalizzati&#39;, &#39;int&#39;),\n",
       " (&#39;totale_positivi&#39;, &#39;int&#39;),\n",
       " (&#39;nuovi_positivi&#39;, &#39;int&#39;),\n",
       " (&#39;deceduti&#39;, &#39;int&#39;),\n",
       " (&#39;tamponi&#39;, &#39;int&#39;),\n",
       " (&#39;codice_nuts_2&#39;, &#39;string&#39;)]</div>"
      ]
     },
     "metadata": {
      "application/vnd.databricks.v1+output": {
       "addedWidgets": {},
       "arguments": {},
       "data": "<div class=\"ansiout\">Out[10]: [(&#39;data&#39;, &#39;timestamp&#39;),\n (&#39;denominazione_regione&#39;, &#39;string&#39;),\n (&#39;ricoverati_con_sintomi&#39;, &#39;int&#39;),\n (&#39;terapia_intensiva&#39;, &#39;int&#39;),\n (&#39;totale_ospedalizzati&#39;, &#39;int&#39;),\n (&#39;totale_positivi&#39;, &#39;int&#39;),\n (&#39;nuovi_positivi&#39;, &#39;int&#39;),\n (&#39;deceduti&#39;, &#39;int&#39;),\n (&#39;tamponi&#39;, &#39;int&#39;),\n (&#39;codice_nuts_2&#39;, &#39;string&#39;)]</div>",
       "datasetInfos": [],
       "removedWidgets": [],
       "type": "html"
      }
     },
     "output_type": "display_data"
    }
   ],
   "source": [
    "dati_covid_regioni.dtypes"
   ]
  },
  {
   "cell_type": "code",
   "execution_count": 0,
   "metadata": {
    "application/vnd.databricks.v1+cell": {
     "inputWidgets": {},
     "nuid": "dd8002d1-69d9-435c-a4d0-41ffb0b359eb",
     "showTitle": false,
     "title": ""
    }
   },
   "outputs": [
    {
     "data": {
      "text/html": [
       "<style scoped>\n",
       "  .ansiout {\n",
       "    display: block;\n",
       "    unicode-bidi: embed;\n",
       "    white-space: pre-wrap;\n",
       "    word-wrap: break-word;\n",
       "    word-break: break-all;\n",
       "    font-family: \"Source Code Pro\", \"Menlo\", monospace;;\n",
       "    font-size: 13px;\n",
       "    color: #555;\n",
       "    margin-left: 4px;\n",
       "    line-height: 19px;\n",
       "  }\n",
       "</style>\n",
       "<div class=\"ansiout\"></div>"
      ]
     },
     "metadata": {
      "application/vnd.databricks.v1+output": {
       "addedWidgets": {},
       "arguments": {},
       "data": "<div class=\"ansiout\"></div>",
       "datasetInfos": [],
       "removedWidgets": [],
       "type": "html"
      }
     },
     "output_type": "display_data"
    }
   ],
   "source": [
    "dati_covid_regioni = dati_covid_regioni.withColumn('data', date_format(dati_covid_regioni.data, 'yyyy-MM-dd').cast('date'))"
   ]
  },
  {
   "cell_type": "code",
   "execution_count": 0,
   "metadata": {
    "application/vnd.databricks.v1+cell": {
     "inputWidgets": {},
     "nuid": "94334a53-9793-42f7-a987-756c13769f29",
     "showTitle": false,
     "title": ""
    }
   },
   "outputs": [
    {
     "data": {
      "text/html": [
       "<style scoped>\n",
       "  .ansiout {\n",
       "    display: block;\n",
       "    unicode-bidi: embed;\n",
       "    white-space: pre-wrap;\n",
       "    word-wrap: break-word;\n",
       "    word-break: break-all;\n",
       "    font-family: \"Source Code Pro\", \"Menlo\", monospace;;\n",
       "    font-size: 13px;\n",
       "    color: #555;\n",
       "    margin-left: 4px;\n",
       "    line-height: 19px;\n",
       "  }\n",
       "</style>\n",
       "<div class=\"ansiout\">Out[12]: [(&#39;data&#39;, &#39;date&#39;),\n",
       " (&#39;denominazione_regione&#39;, &#39;string&#39;),\n",
       " (&#39;ricoverati_con_sintomi&#39;, &#39;int&#39;),\n",
       " (&#39;terapia_intensiva&#39;, &#39;int&#39;),\n",
       " (&#39;totale_ospedalizzati&#39;, &#39;int&#39;),\n",
       " (&#39;totale_positivi&#39;, &#39;int&#39;),\n",
       " (&#39;nuovi_positivi&#39;, &#39;int&#39;),\n",
       " (&#39;deceduti&#39;, &#39;int&#39;),\n",
       " (&#39;tamponi&#39;, &#39;int&#39;),\n",
       " (&#39;codice_nuts_2&#39;, &#39;string&#39;)]</div>"
      ]
     },
     "metadata": {
      "application/vnd.databricks.v1+output": {
       "addedWidgets": {},
       "arguments": {},
       "data": "<div class=\"ansiout\">Out[12]: [(&#39;data&#39;, &#39;date&#39;),\n (&#39;denominazione_regione&#39;, &#39;string&#39;),\n (&#39;ricoverati_con_sintomi&#39;, &#39;int&#39;),\n (&#39;terapia_intensiva&#39;, &#39;int&#39;),\n (&#39;totale_ospedalizzati&#39;, &#39;int&#39;),\n (&#39;totale_positivi&#39;, &#39;int&#39;),\n (&#39;nuovi_positivi&#39;, &#39;int&#39;),\n (&#39;deceduti&#39;, &#39;int&#39;),\n (&#39;tamponi&#39;, &#39;int&#39;),\n (&#39;codice_nuts_2&#39;, &#39;string&#39;)]</div>",
       "datasetInfos": [],
       "removedWidgets": [],
       "type": "html"
      }
     },
     "output_type": "display_data"
    }
   ],
   "source": [
    "dati_covid_regioni.dtypes"
   ]
  },
  {
   "cell_type": "markdown",
   "metadata": {
    "application/vnd.databricks.v1+cell": {
     "inputWidgets": {},
     "nuid": "6b321c47-66e3-4ce8-94f3-1597e3920058",
     "showTitle": false,
     "title": ""
    }
   },
   "source": [
    "Si verifica la correttezza delle colonne categoriche."
   ]
  },
  {
   "cell_type": "code",
   "execution_count": 0,
   "metadata": {
    "application/vnd.databricks.v1+cell": {
     "inputWidgets": {},
     "nuid": "8a16be3e-010b-4d80-b25c-7c759298471c",
     "showTitle": false,
     "title": ""
    }
   },
   "outputs": [
    {
     "data": {
      "text/html": [
       "<style scoped>\n",
       "  .ansiout {\n",
       "    display: block;\n",
       "    unicode-bidi: embed;\n",
       "    white-space: pre-wrap;\n",
       "    word-wrap: break-word;\n",
       "    word-break: break-all;\n",
       "    font-family: \"Source Code Pro\", \"Menlo\", monospace;;\n",
       "    font-size: 13px;\n",
       "    color: #555;\n",
       "    margin-left: 4px;\n",
       "    line-height: 19px;\n",
       "  }\n",
       "</style>\n",
       "<div class=\"ansiout\">Il numero di regioni è: 21\n",
       "\n",
       "+-------------+---------------------+\n",
       "codice_nuts_2|denominazione_regione|\n",
       "+-------------+---------------------+\n",
       "         null|              Abruzzo|\n",
       "         null|            Lombardia|\n",
       "         null|             Piemonte|\n",
       "         null|       Emilia-Romagna|\n",
       "         null|             Calabria|\n",
       "+-------------+---------------------+\n",
       "only showing top 5 rows\n",
       "\n",
       "</div>"
      ]
     },
     "metadata": {
      "application/vnd.databricks.v1+output": {
       "addedWidgets": {},
       "arguments": {},
       "data": "<div class=\"ansiout\">Il numero di regioni è: 21\n\n+-------------+---------------------+\n|codice_nuts_2|denominazione_regione|\n+-------------+---------------------+\n|         null|              Abruzzo|\n|         null|            Lombardia|\n|         null|             Piemonte|\n|         null|       Emilia-Romagna|\n|         null|             Calabria|\n+-------------+---------------------+\nonly showing top 5 rows\n\n</div>",
       "datasetInfos": [],
       "removedWidgets": [],
       "type": "html"
      }
     },
     "output_type": "display_data"
    }
   ],
   "source": [
    "num_regioni = dati_covid_regioni.groupBy('denominazione_regione') \\\n",
    "                .count() \\\n",
    "                .count()\n",
    "\n",
    "print('Il numero di regioni è:', num_regioni)\n",
    "print()\n",
    "\n",
    "dati_covid_regioni.groupBy('codice_nuts_2', 'denominazione_regione') \\\n",
    "                    .count() \\\n",
    "                    .drop('count') \\\n",
    "                    .orderBy('codice_nuts_2') \\\n",
    "                    .show(5)"
   ]
  },
  {
   "cell_type": "markdown",
   "metadata": {
    "application/vnd.databricks.v1+cell": {
     "inputWidgets": {},
     "nuid": "36b5ad82-6cb7-4502-a5b5-aee53f78c310",
     "showTitle": false,
     "title": ""
    }
   },
   "source": [
    "Si possono fare alcune osservazioni:\n",
    "- per alcune entry mancano i codici nuts;\n",
    "- per aclune entry i codici nuts sono sbagliati (problema dovuto alla lettura del file csv);\n",
    "- alcune regioni (Bolzano e Trento) hanno una denominazione diversa rispetto alla tabella `popolazione_regioni`;"
   ]
  },
  {
   "cell_type": "code",
   "execution_count": 0,
   "metadata": {
    "application/vnd.databricks.v1+cell": {
     "inputWidgets": {},
     "nuid": "bb75c5e1-5063-4add-a242-045995ef5990",
     "showTitle": false,
     "title": ""
    }
   },
   "outputs": [
    {
     "data": {
      "text/html": [
       "<style scoped>\n",
       "  .ansiout {\n",
       "    display: block;\n",
       "    unicode-bidi: embed;\n",
       "    white-space: pre-wrap;\n",
       "    word-wrap: break-word;\n",
       "    word-break: break-all;\n",
       "    font-family: \"Source Code Pro\", \"Menlo\", monospace;;\n",
       "    font-size: 13px;\n",
       "    color: #555;\n",
       "    margin-left: 4px;\n",
       "    line-height: 19px;\n",
       "  }\n",
       "</style>\n",
       "<div class=\"ansiout\">+-------------+-----------------------------------------+----------------------------------------+\n",
       "codice_nuts_2|popolazione_regioni_denominazione_regione|dati_covid_regioni_denominazione_regione|\n",
       "+-------------+-----------------------------------------+----------------------------------------+\n",
       "         ITH1|                                  Bolzano|                            P.A. Bolzano|\n",
       "         ITH2|                                   Trento|                             P.A. Trento|\n",
       "+-------------+-----------------------------------------+----------------------------------------+\n",
       "\n",
       "</div>"
      ]
     },
     "metadata": {
      "application/vnd.databricks.v1+output": {
       "addedWidgets": {},
       "arguments": {},
       "data": "<div class=\"ansiout\">+-------------+-----------------------------------------+----------------------------------------+\n|codice_nuts_2|popolazione_regioni_denominazione_regione|dati_covid_regioni_denominazione_regione|\n+-------------+-----------------------------------------+----------------------------------------+\n|         ITH1|                                  Bolzano|                            P.A. Bolzano|\n|         ITH2|                                   Trento|                             P.A. Trento|\n+-------------+-----------------------------------------+----------------------------------------+\n\n</div>",
       "datasetInfos": [],
       "removedWidgets": [],
       "type": "html"
      }
     },
     "output_type": "display_data"
    }
   ],
   "source": [
    "join1 = popolazione_regioni.join(dati_covid_regioni, on='denominazione_regione', how='anti') \\\n",
    "                    .groupBy('codice_nuts_2', 'denominazione_regione') \\\n",
    "                    .count() \\\n",
    "                    .drop('count') \\\n",
    "                    .withColumnRenamed('denominazione_regione', 'popolazione_regioni_denominazione_regione')\n",
    "\n",
    "join2 = dati_covid_regioni.join(popolazione_regioni, on='denominazione_regione', how='anti') \\\n",
    "                    .groupBy('codice_nuts_2', 'denominazione_regione') \\\n",
    "                    .count() \\\n",
    "                    .drop('count') \\\n",
    "                    .withColumnRenamed('denominazione_regione', 'dati_covid_regioni_denominazione_regione')\n",
    "\n",
    "join1.join(join2, on='codice_nuts_2').show()\n",
    "\n",
    "dati_covid_regioni = dati_covid_regioni.replace('P.A. Trento', value='Trento', subset='denominazione_regione')\n",
    "dati_covid_regioni = dati_covid_regioni.replace('P.A. Bolzano', value='Bolzano', subset='denominazione_regione')"
   ]
  },
  {
   "cell_type": "code",
   "execution_count": 0,
   "metadata": {
    "application/vnd.databricks.v1+cell": {
     "inputWidgets": {},
     "nuid": "d44ff9d7-7a22-49f4-8092-8ea116c16248",
     "showTitle": false,
     "title": ""
    }
   },
   "outputs": [
    {
     "data": {
      "text/html": [
       "<style scoped>\n",
       "  .ansiout {\n",
       "    display: block;\n",
       "    unicode-bidi: embed;\n",
       "    white-space: pre-wrap;\n",
       "    word-wrap: break-word;\n",
       "    word-break: break-all;\n",
       "    font-family: \"Source Code Pro\", \"Menlo\", monospace;;\n",
       "    font-size: 13px;\n",
       "    color: #555;\n",
       "    margin-left: 4px;\n",
       "    line-height: 19px;\n",
       "  }\n",
       "</style>\n",
       "<div class=\"ansiout\">+-------------+---------------------+\n",
       "codice_nuts_2|denominazione_regione|\n",
       "+-------------+---------------------+\n",
       "         ITC1|             Piemonte|\n",
       "         ITC2|        Valle d&#39;Aosta|\n",
       "         ITC3|              Liguria|\n",
       "         ITC4|            Lombardia|\n",
       "         ITF1|              Abruzzo|\n",
       "         ITF2|               Molise|\n",
       "         ITF3|             Campania|\n",
       "         ITF4|               Puglia|\n",
       "         ITF5|           Basilicata|\n",
       "         ITF6|             Calabria|\n",
       "         ITG1|              Sicilia|\n",
       "         ITG2|             Sardegna|\n",
       "         ITH1|              Bolzano|\n",
       "         ITH2|               Trento|\n",
       "         ITH3|               Veneto|\n",
       "         ITH4| Friuli Venezia Gi...|\n",
       "         ITH5|       Emilia-Romagna|\n",
       "         ITI1|              Toscana|\n",
       "         ITI2|               Umbria|\n",
       "         ITI3|               Marche|\n",
       "         ITI4|                Lazio|\n",
       "+-------------+---------------------+\n",
       "\n",
       "</div>"
      ]
     },
     "metadata": {
      "application/vnd.databricks.v1+output": {
       "addedWidgets": {},
       "arguments": {},
       "data": "<div class=\"ansiout\">+-------------+---------------------+\n|codice_nuts_2|denominazione_regione|\n+-------------+---------------------+\n|         ITC1|             Piemonte|\n|         ITC2|        Valle d&#39;Aosta|\n|         ITC3|              Liguria|\n|         ITC4|            Lombardia|\n|         ITF1|              Abruzzo|\n|         ITF2|               Molise|\n|         ITF3|             Campania|\n|         ITF4|               Puglia|\n|         ITF5|           Basilicata|\n|         ITF6|             Calabria|\n|         ITG1|              Sicilia|\n|         ITG2|             Sardegna|\n|         ITH1|              Bolzano|\n|         ITH2|               Trento|\n|         ITH3|               Veneto|\n|         ITH4| Friuli Venezia Gi...|\n|         ITH5|       Emilia-Romagna|\n|         ITI1|              Toscana|\n|         ITI2|               Umbria|\n|         ITI3|               Marche|\n|         ITI4|                Lazio|\n+-------------+---------------------+\n\n</div>",
       "datasetInfos": [],
       "removedWidgets": [],
       "type": "html"
      }
     },
     "output_type": "display_data"
    }
   ],
   "source": [
    "dati_covid_regioni = dati_covid_regioni.drop('codice_nuts_2')\n",
    "\n",
    "nuts_2 = popolazione_regioni.groupBy('codice_nuts_2', 'denominazione_regione') \\\n",
    "                            .count() \\\n",
    "                            .drop('count')\n",
    "\n",
    "dati_covid_regioni = dati_covid_regioni.join(nuts_2, on='denominazione_regione', how='left')\n",
    "\n",
    "dati_covid_regioni.groupBy('codice_nuts_2', 'denominazione_regione') \\\n",
    "                  .count() \\\n",
    "                  .drop('count') \\\n",
    "                  .orderBy('codice_nuts_2').show(num_regioni)"
   ]
  },
  {
   "cell_type": "markdown",
   "metadata": {
    "application/vnd.databricks.v1+cell": {
     "inputWidgets": {},
     "nuid": "c9ffaf59-fc8f-4829-8077-2e71a29cb716",
     "showTitle": false,
     "title": ""
    }
   },
   "source": [
    "Si verifica la correttezza delle colonne numeriche."
   ]
  },
  {
   "cell_type": "code",
   "execution_count": 0,
   "metadata": {
    "application/vnd.databricks.v1+cell": {
     "inputWidgets": {},
     "nuid": "b010eb55-fd21-40a0-9974-d6ae1fa85dbf",
     "showTitle": false,
     "title": ""
    }
   },
   "outputs": [
    {
     "data": {
      "text/html": [
       "<style scoped>\n",
       "  .ansiout {\n",
       "    display: block;\n",
       "    unicode-bidi: embed;\n",
       "    white-space: pre-wrap;\n",
       "    word-wrap: break-word;\n",
       "    word-break: break-all;\n",
       "    font-family: \"Source Code Pro\", \"Menlo\", monospace;;\n",
       "    font-size: 13px;\n",
       "    color: #555;\n",
       "    margin-left: 4px;\n",
       "    line-height: 19px;\n",
       "  }\n",
       "</style>\n",
       "<div class=\"ansiout\">+-------+----------------------+-----------------+--------------------+------------------+-----------------+------------------+------------------+\n",
       "summary|ricoverati_con_sintomi|terapia_intensiva|totale_ospedalizzati|   totale_positivi|   nuovi_positivi|          deceduti|           tamponi|\n",
       "+-------+----------------------+-----------------+--------------------+------------------+-----------------+------------------+------------------+\n",
       "  count|                  9072|             9072|                9072|              9072|             9072|              9072|              9072|\n",
       "   mean|     712.4712301587301|81.71847442680776|   794.1897045855379|12468.846560846561|442.7234347442681|2470.1935626102295| 848671.4441137566|\n",
       " stddev|    1289.9373804295726|143.0112526568166|  1428.1841519339673| 22237.61213787529| 853.939588083822| 4695.206250550821|1338368.1129099485|\n",
       "    min|                     0|                0|                   0|                 0|             -229|                 0|                 0|\n",
       "    max|                 12077|             1381|               13328|            164406|            11489|             32870|           9475296|\n",
       "+-------+----------------------+-----------------+--------------------+------------------+-----------------+------------------+------------------+\n",
       "\n",
       "</div>"
      ]
     },
     "metadata": {
      "application/vnd.databricks.v1+output": {
       "addedWidgets": {},
       "arguments": {},
       "data": "<div class=\"ansiout\">+-------+----------------------+-----------------+--------------------+------------------+-----------------+------------------+------------------+\n|summary|ricoverati_con_sintomi|terapia_intensiva|totale_ospedalizzati|   totale_positivi|   nuovi_positivi|          deceduti|           tamponi|\n+-------+----------------------+-----------------+--------------------+------------------+-----------------+------------------+------------------+\n|  count|                  9072|             9072|                9072|              9072|             9072|              9072|              9072|\n|   mean|     712.4712301587301|81.71847442680776|   794.1897045855379|12468.846560846561|442.7234347442681|2470.1935626102295| 848671.4441137566|\n| stddev|    1289.9373804295726|143.0112526568166|  1428.1841519339673| 22237.61213787529| 853.939588083822| 4695.206250550821|1338368.1129099485|\n|    min|                     0|                0|                   0|                 0|             -229|                 0|                 0|\n|    max|                 12077|             1381|               13328|            164406|            11489|             32870|           9475296|\n+-------+----------------------+-----------------+--------------------+------------------+-----------------+------------------+------------------+\n\n</div>",
       "datasetInfos": [],
       "removedWidgets": [],
       "type": "html"
      }
     },
     "output_type": "display_data"
    }
   ],
   "source": [
    "dati_covid_regioni.describe(['ricoverati_con_sintomi', 'terapia_intensiva', 'totale_ospedalizzati', 'totale_positivi', 'nuovi_positivi', 'deceduti', 'tamponi']) \\\n",
    "                  .show()"
   ]
  },
  {
   "cell_type": "code",
   "execution_count": 0,
   "metadata": {
    "application/vnd.databricks.v1+cell": {
     "inputWidgets": {},
     "nuid": "b64177df-0280-42c0-85ea-32d8fcfffbfd",
     "showTitle": false,
     "title": ""
    }
   },
   "outputs": [
    {
     "data": {
      "text/html": [
       "<style scoped>\n",
       "  .ansiout {\n",
       "    display: block;\n",
       "    unicode-bidi: embed;\n",
       "    white-space: pre-wrap;\n",
       "    word-wrap: break-word;\n",
       "    word-break: break-all;\n",
       "    font-family: \"Source Code Pro\", \"Menlo\", monospace;;\n",
       "    font-size: 13px;\n",
       "    color: #555;\n",
       "    margin-left: 4px;\n",
       "    line-height: 19px;\n",
       "  }\n",
       "</style>\n",
       "<div class=\"ansiout\">+---------------------+----------+----------------------+-----------------+--------------------+---------------+--------------+--------+-------+-------------+\n",
       "denominazione_regione|      data|ricoverati_con_sintomi|terapia_intensiva|totale_ospedalizzati|totale_positivi|nuovi_positivi|deceduti|tamponi|codice_nuts_2|\n",
       "+---------------------+----------+----------------------+-----------------+--------------------+---------------+--------------+--------+-------+-------------+\n",
       "             Piemonte|2020-02-27|                     2|                0|                   2|              2|            -1|       0|    156|         ITC1|\n",
       "              Liguria|2020-03-01|                    12|                1|                  13|             21|           -17|       0|    121|         ITC3|\n",
       "              Liguria|2020-03-02|                    12|                1|                  13|             18|            -3|       0|    121|         ITC3|\n",
       "              Sicilia|2020-03-02|                     2|                0|                   2|              5|            -2|       0|    307|         ITG1|\n",
       "             Piemonte|2020-03-09|                   222|               50|                 272|            337|           -10|      13|   1681|         ITC1|\n",
       "             Calabria|2020-04-17|                   154|                7|                 161|            819|           -18|      73|  21657|         ITF6|\n",
       "             Sardegna|2020-05-04|                    91|                9|                 100|            653|            -2|     119|  28052|         ITG2|\n",
       "           Basilicata|2020-05-07|                    48|                2|                  50|            155|           -16|      26|  16272|         ITF5|\n",
       "           Basilicata|2020-05-08|                    48|                2|                  50|            152|            -1|      26|  16777|         ITF5|\n",
       "               Marche|2020-05-19|                   144|               17|                 161|           2128|            -3|     986|  89985|         ITI3|\n",
       "             Sardegna|2020-05-25|                    49|                3|                  52|            231|            -2|     129|  51073|         ITG2|\n",
       "             Sardegna|2020-06-09|                     9|                1|                  10|             54|            -1|     131|  64272|         ITG2|\n",
       "             Campania|2020-06-12|                    61|                2|                  63|            346|          -229|     430| 230551|         ITF3|\n",
       "+---------------------+----------+----------------------+-----------------+--------------------+---------------+--------------+--------+-------+-------------+\n",
       "\n",
       "</div>"
      ]
     },
     "metadata": {
      "application/vnd.databricks.v1+output": {
       "addedWidgets": {},
       "arguments": {},
       "data": "<div class=\"ansiout\">+---------------------+----------+----------------------+-----------------+--------------------+---------------+--------------+--------+-------+-------------+\n|denominazione_regione|      data|ricoverati_con_sintomi|terapia_intensiva|totale_ospedalizzati|totale_positivi|nuovi_positivi|deceduti|tamponi|codice_nuts_2|\n+---------------------+----------+----------------------+-----------------+--------------------+---------------+--------------+--------+-------+-------------+\n|             Piemonte|2020-02-27|                     2|                0|                   2|              2|            -1|       0|    156|         ITC1|\n|              Liguria|2020-03-01|                    12|                1|                  13|             21|           -17|       0|    121|         ITC3|\n|              Liguria|2020-03-02|                    12|                1|                  13|             18|            -3|       0|    121|         ITC3|\n|              Sicilia|2020-03-02|                     2|                0|                   2|              5|            -2|       0|    307|         ITG1|\n|             Piemonte|2020-03-09|                   222|               50|                 272|            337|           -10|      13|   1681|         ITC1|\n|             Calabria|2020-04-17|                   154|                7|                 161|            819|           -18|      73|  21657|         ITF6|\n|             Sardegna|2020-05-04|                    91|                9|                 100|            653|            -2|     119|  28052|         ITG2|\n|           Basilicata|2020-05-07|                    48|                2|                  50|            155|           -16|      26|  16272|         ITF5|\n|           Basilicata|2020-05-08|                    48|                2|                  50|            152|            -1|      26|  16777|         ITF5|\n|               Marche|2020-05-19|                   144|               17|                 161|           2128|            -3|     986|  89985|         ITI3|\n|             Sardegna|2020-05-25|                    49|                3|                  52|            231|            -2|     129|  51073|         ITG2|\n|             Sardegna|2020-06-09|                     9|                1|                  10|             54|            -1|     131|  64272|         ITG2|\n|             Campania|2020-06-12|                    61|                2|                  63|            346|          -229|     430| 230551|         ITF3|\n+---------------------+----------+----------------------+-----------------+--------------------+---------------+--------------+--------+-------+-------------+\n\n</div>",
       "datasetInfos": [],
       "removedWidgets": [],
       "type": "html"
      }
     },
     "output_type": "display_data"
    }
   ],
   "source": [
    "dati_covid_regioni.filter(condition='nuovi_positivi < 0').show()"
   ]
  },
  {
   "cell_type": "markdown",
   "metadata": {
    "application/vnd.databricks.v1+cell": {
     "inputWidgets": {},
     "nuid": "3ca39916-37a5-4b50-9fc9-10cb730ec67c",
     "showTitle": false,
     "title": ""
    }
   },
   "source": [
    "Si verifica la presenza di *missing values*."
   ]
  },
  {
   "cell_type": "code",
   "execution_count": 0,
   "metadata": {
    "application/vnd.databricks.v1+cell": {
     "inputWidgets": {},
     "nuid": "48107f0b-3376-4f7f-b080-7876b6882a40",
     "showTitle": false,
     "title": ""
    }
   },
   "outputs": [
    {
     "data": {
      "text/html": [
       "<style scoped>\n",
       "  .ansiout {\n",
       "    display: block;\n",
       "    unicode-bidi: embed;\n",
       "    white-space: pre-wrap;\n",
       "    word-wrap: break-word;\n",
       "    word-break: break-all;\n",
       "    font-family: \"Source Code Pro\", \"Menlo\", monospace;;\n",
       "    font-size: 13px;\n",
       "    color: #555;\n",
       "    margin-left: 4px;\n",
       "    line-height: 19px;\n",
       "  }\n",
       "</style>\n",
       "<div class=\"ansiout\">+---------------------+----------------------+-----------------+--------------------+---------------+--------------+--------+-------+-------------+\n",
       "denominazione_regione|ricoverati_con_sintomi|terapia_intensiva|totale_ospedalizzati|totale_positivi|nuovi_positivi|deceduti|tamponi|codice_nuts_2|\n",
       "+---------------------+----------------------+-----------------+--------------------+---------------+--------------+--------+-------+-------------+\n",
       "                    0|                     0|                0|                   0|              0|             0|       0|      0|            0|\n",
       "+---------------------+----------------------+-----------------+--------------------+---------------+--------------+--------+-------+-------------+\n",
       "\n",
       "</div>"
      ]
     },
     "metadata": {
      "application/vnd.databricks.v1+output": {
       "addedWidgets": {},
       "arguments": {},
       "data": "<div class=\"ansiout\">+---------------------+----------------------+-----------------+--------------------+---------------+--------------+--------+-------+-------------+\n|denominazione_regione|ricoverati_con_sintomi|terapia_intensiva|totale_ospedalizzati|totale_positivi|nuovi_positivi|deceduti|tamponi|codice_nuts_2|\n+---------------------+----------------------+-----------------+--------------------+---------------+--------------+--------+-------+-------------+\n|                    0|                     0|                0|                   0|              0|             0|       0|      0|            0|\n+---------------------+----------------------+-----------------+--------------------+---------------+--------------+--------+-------+-------------+\n\n</div>",
       "datasetInfos": [],
       "removedWidgets": [],
       "type": "html"
      }
     },
     "output_type": "display_data"
    }
   ],
   "source": [
    "dati_covid_regioni.select([count(when(isnull(c), c)).alias(c) for c in dati_covid_regioni.drop('data').columns]).show()"
   ]
  },
  {
   "cell_type": "markdown",
   "metadata": {
    "application/vnd.databricks.v1+cell": {
     "inputWidgets": {},
     "nuid": "7a5b214e-8565-4179-9c91-ed5e271a39de",
     "showTitle": false,
     "title": ""
    }
   },
   "source": [
    "Si verifica la presenza di *missing values* nella serie temporale."
   ]
  },
  {
   "cell_type": "code",
   "execution_count": 0,
   "metadata": {
    "application/vnd.databricks.v1+cell": {
     "inputWidgets": {},
     "nuid": "52b3f330-4d3f-47b8-bb86-fb7661dad5d5",
     "showTitle": false,
     "title": ""
    }
   },
   "outputs": [
    {
     "data": {
      "text/html": [
       "<style scoped>\n",
       "  .ansiout {\n",
       "    display: block;\n",
       "    unicode-bidi: embed;\n",
       "    white-space: pre-wrap;\n",
       "    word-wrap: break-word;\n",
       "    word-break: break-all;\n",
       "    font-family: \"Source Code Pro\", \"Menlo\", monospace;;\n",
       "    font-size: 13px;\n",
       "    color: #555;\n",
       "    margin-left: 4px;\n",
       "    line-height: 19px;\n",
       "  }\n",
       "</style>\n",
       "<div class=\"ansiout\">+----------+----------+\n",
       "    minimo|   massimo|\n",
       "+----------+----------+\n",
       "2020-02-24|2021-04-30|\n",
       "+----------+----------+\n",
       "\n",
       "</div>"
      ]
     },
     "metadata": {
      "application/vnd.databricks.v1+output": {
       "addedWidgets": {},
       "arguments": {},
       "data": "<div class=\"ansiout\">+----------+----------+\n|    minimo|   massimo|\n+----------+----------+\n|2020-02-24|2021-04-30|\n+----------+----------+\n\n</div>",
       "datasetInfos": [],
       "removedWidgets": [],
       "type": "html"
      }
     },
     "output_type": "display_data"
    }
   ],
   "source": [
    "min_data = dati_covid_regioni.agg(min('data').alias('minimo'))\n",
    "max_data = dati_covid_regioni.agg(max('data').alias('massimo'))\n",
    "\n",
    "date = min_data.join(max_data)\n",
    "\n",
    "date.show()"
   ]
  },
  {
   "cell_type": "code",
   "execution_count": 0,
   "metadata": {
    "application/vnd.databricks.v1+cell": {
     "inputWidgets": {},
     "nuid": "e52f7f31-3772-4578-a064-f70532c7a4a6",
     "showTitle": false,
     "title": ""
    }
   },
   "outputs": [
    {
     "data": {
      "text/html": [
       "<style scoped>\n",
       "  .ansiout {\n",
       "    display: block;\n",
       "    unicode-bidi: embed;\n",
       "    white-space: pre-wrap;\n",
       "    word-wrap: break-word;\n",
       "    word-break: break-all;\n",
       "    font-family: \"Source Code Pro\", \"Menlo\", monospace;;\n",
       "    font-size: 13px;\n",
       "    color: #555;\n",
       "    margin-left: 4px;\n",
       "    line-height: 19px;\n",
       "  }\n",
       "</style>\n",
       "<div class=\"ansiout\">+----------+\n",
       "      data|\n",
       "+----------+\n",
       "2020-02-24|\n",
       "2020-02-25|\n",
       "2020-02-26|\n",
       "2020-02-27|\n",
       "2020-02-28|\n",
       "2020-02-29|\n",
       "2020-03-01|\n",
       "2020-03-02|\n",
       "2020-03-03|\n",
       "2020-03-04|\n",
       "2020-03-05|\n",
       "2020-03-06|\n",
       "2020-03-07|\n",
       "2020-03-08|\n",
       "2020-03-09|\n",
       "2020-03-10|\n",
       "2020-03-11|\n",
       "2020-03-12|\n",
       "2020-03-13|\n",
       "2020-03-14|\n",
       "+----------+\n",
       "only showing top 20 rows\n",
       "\n",
       "</div>"
      ]
     },
     "metadata": {
      "application/vnd.databricks.v1+output": {
       "addedWidgets": {},
       "arguments": {},
       "data": "<div class=\"ansiout\">+----------+\n|      data|\n+----------+\n|2020-02-24|\n|2020-02-25|\n|2020-02-26|\n|2020-02-27|\n|2020-02-28|\n|2020-02-29|\n|2020-03-01|\n|2020-03-02|\n|2020-03-03|\n|2020-03-04|\n|2020-03-05|\n|2020-03-06|\n|2020-03-07|\n|2020-03-08|\n|2020-03-09|\n|2020-03-10|\n|2020-03-11|\n|2020-03-12|\n|2020-03-13|\n|2020-03-14|\n+----------+\nonly showing top 20 rows\n\n</div>",
       "datasetInfos": [],
       "removedWidgets": [],
       "type": "html"
      }
     },
     "output_type": "display_data"
    }
   ],
   "source": [
    "time_series = date.withColumn('data', explode(expr('sequence(minimo, massimo, interval 1 day)'))) \\\n",
    "                  .select('data')\n",
    "\n",
    "time_series.show()"
   ]
  },
  {
   "cell_type": "code",
   "execution_count": 0,
   "metadata": {
    "application/vnd.databricks.v1+cell": {
     "inputWidgets": {},
     "nuid": "0b0b6362-87b2-43a7-bb6b-3f79e557c243",
     "showTitle": false,
     "title": ""
    }
   },
   "outputs": [
    {
     "data": {
      "text/html": [
       "<style scoped>\n",
       "  .ansiout {\n",
       "    display: block;\n",
       "    unicode-bidi: embed;\n",
       "    white-space: pre-wrap;\n",
       "    word-wrap: break-word;\n",
       "    word-break: break-all;\n",
       "    font-family: \"Source Code Pro\", \"Menlo\", monospace;;\n",
       "    font-size: 13px;\n",
       "    color: #555;\n",
       "    margin-left: 4px;\n",
       "    line-height: 19px;\n",
       "  }\n",
       "</style>\n",
       "<div class=\"ansiout\">+----+\n",
       "data|\n",
       "+----+\n",
       "+----+\n",
       "\n",
       "</div>"
      ]
     },
     "metadata": {
      "application/vnd.databricks.v1+output": {
       "addedWidgets": {},
       "arguments": {},
       "data": "<div class=\"ansiout\">+----+\n|data|\n+----+\n+----+\n\n</div>",
       "datasetInfos": [],
       "removedWidgets": [],
       "type": "html"
      }
     },
     "output_type": "display_data"
    }
   ],
   "source": [
    "date_covid = dati_covid_regioni.select('data') \\\n",
    "                               .distinct() \\\n",
    "                               .orderBy('data')\n",
    "\n",
    "date_covid.join(time_series, on='data', how='anti').show()"
   ]
  },
  {
   "cell_type": "markdown",
   "metadata": {
    "application/vnd.databricks.v1+cell": {
     "inputWidgets": {},
     "nuid": "876f6f5e-cd86-4a28-8953-95378dedb468",
     "showTitle": false,
     "title": ""
    }
   },
   "source": [
    "### Dati Somministrazioni Vaccini\n",
    "\n",
    "Si elmininano le colonne che non sono di interesse"
   ]
  },
  {
   "cell_type": "code",
   "execution_count": 0,
   "metadata": {
    "application/vnd.databricks.v1+cell": {
     "inputWidgets": {},
     "nuid": "1398032f-896c-4c76-9345-ed4d5e3569d9",
     "showTitle": false,
     "title": ""
    }
   },
   "outputs": [
    {
     "data": {
      "text/html": [
       "<style scoped>\n",
       "  .ansiout {\n",
       "    display: block;\n",
       "    unicode-bidi: embed;\n",
       "    white-space: pre-wrap;\n",
       "    word-wrap: break-word;\n",
       "    word-break: break-all;\n",
       "    font-family: \"Source Code Pro\", \"Menlo\", monospace;;\n",
       "    font-size: 13px;\n",
       "    color: #555;\n",
       "    margin-left: 4px;\n",
       "    line-height: 19px;\n",
       "  }\n",
       "</style>\n",
       "<div class=\"ansiout\">+---------------------+---------------+-----------------+---------------+------------------------------------------+---------------------------------+--------------------+---------------+---------------+----------------+----------------------+------------------------------+--------------------------+---------------+----------+------------+------------+------------+----------+\n",
       "data_somministrazione|      fornitore|fascia_anagrafica|sesso_femminile|categoria_operatori_sanitari_sociosanitari|categoria_personale_non_sanitario|categoria_ospiti_rsa|categoria_60_69|categoria_70_79|categoria_over80|categoria_forze_armate|categoria_personale_scolastico|categoria_soggetti_fragili|categoria_altro|prima_dose|seconda_dose|codice_NUTS1|codice_NUTS2| nome_area|\n",
       "+---------------------+---------------+-----------------+---------------+------------------------------------------+---------------------------------+--------------------+---------------+---------------+----------------+----------------------+------------------------------+--------------------------+---------------+----------+------------+------------+------------+----------+\n",
       "           2020-12-27|Pfizer/BioNTech|            20-29|              0|                                         1|                                0|                   0|              0|              0|               0|                     0|                             0|                         0|              0|         1|           0|         ITF|        ITF1|   Abruzzo|\n",
       "           2020-12-27|Pfizer/BioNTech|            30-39|              3|                                         4|                                0|                   0|              0|              0|               0|                     0|                             0|                         0|              0|         4|           0|         ITF|        ITF1|   Abruzzo|\n",
       "           2020-12-27|Pfizer/BioNTech|            40-49|              6|                                         7|                                0|                   0|              0|              0|               0|                     0|                             0|                         0|              0|         7|           0|         ITF|        ITF1|   Abruzzo|\n",
       "           2020-12-27|Pfizer/BioNTech|            50-59|              5|                                         9|                                0|                   0|              0|              0|               0|                     0|                             0|                         0|              0|         9|           0|         ITF|        ITF1|   Abruzzo|\n",
       "           2020-12-27|Pfizer/BioNTech|            60-69|              4|                                        13|                                1|                   0|              0|              0|               0|                     0|                             0|                         0|              0|        14|           0|         ITF|        ITF1|   Abruzzo|\n",
       "           2020-12-27|Pfizer/BioNTech|            70-79|              0|                                         0|                                0|                   1|              0|              0|               0|                     0|                             0|                         0|              0|         1|           0|         ITF|        ITF1|   Abruzzo|\n",
       "           2020-12-27|Pfizer/BioNTech|            80-89|              0|                                         0|                                0|                   1|              0|              0|               0|                     0|                             0|                         0|              0|         1|           0|         ITF|        ITF1|   Abruzzo|\n",
       "           2020-12-27|Pfizer/BioNTech|            20-29|              5|                                         9|                                0|                   0|              0|              0|               0|                     0|                             0|                         0|              0|         9|           0|         ITF|        ITF5|Basilicata|\n",
       "           2020-12-27|Pfizer/BioNTech|            30-39|             18|                                        27|                                0|                   0|              0|              0|               0|                     0|                             0|                         0|              1|        28|           0|         ITF|        ITF5|Basilicata|\n",
       "           2020-12-27|Pfizer/BioNTech|            40-49|             23|                                        29|                                0|                   0|              0|              0|               0|                     0|                             0|                         0|              1|        30|           0|         ITF|        ITF5|Basilicata|\n",
       "           2020-12-27|Pfizer/BioNTech|            50-59|             15|                                        26|                                0|                   0|              0|              0|               0|                     0|                             0|                         0|              0|        26|           0|         ITF|        ITF5|Basilicata|\n",
       "           2020-12-27|Pfizer/BioNTech|            60-69|              4|                                        13|                                0|                   0|              0|              0|               0|                     0|                             0|                         0|              0|        13|           0|         ITF|        ITF5|Basilicata|\n",
       "           2020-12-27|Pfizer/BioNTech|            20-29|             34|                                        49|                                0|                   0|              0|              0|               0|                     0|                             0|                         0|              0|        49|           0|         ITF|        ITF6|  Calabria|\n",
       "           2020-12-27|Pfizer/BioNTech|            30-39|             20|                                        43|                                0|                   0|              0|              0|               0|                     0|                             0|                         0|              0|        43|           0|         ITF|        ITF6|  Calabria|\n",
       "           2020-12-27|Pfizer/BioNTech|            40-49|             27|                                        50|                                0|                   0|              0|              0|               0|                     0|                             0|                         0|              0|        50|           0|         ITF|        ITF6|  Calabria|\n",
       "           2020-12-27|Pfizer/BioNTech|            50-59|             28|                                        76|                                1|                   0|              0|              0|               0|                     0|                             0|                         0|              0|        77|           0|         ITF|        ITF6|  Calabria|\n",
       "           2020-12-27|Pfizer/BioNTech|            60-69|             16|                                        60|                                0|                   0|              0|              0|               0|                     0|                             0|                         0|              0|        60|           0|         ITF|        ITF6|  Calabria|\n",
       "           2020-12-27|Pfizer/BioNTech|            20-29|             33|                                        59|                                1|                   0|              0|              0|               0|                     0|                             0|                         0|              0|        60|           0|         ITF|        ITF3|  Campania|\n",
       "           2020-12-27|Pfizer/BioNTech|            30-39|             64|                                       122|                                2|                   0|              0|              0|               0|                     0|                             0|                         0|              1|       125|           0|         ITF|        ITF3|  Campania|\n",
       "           2020-12-27|Pfizer/BioNTech|            40-49|             87|                                       164|                                3|                   0|              0|              0|               0|                     0|                             0|                         0|              0|       167|           0|         ITF|        ITF3|  Campania|\n",
       "+---------------------+---------------+-----------------+---------------+------------------------------------------+---------------------------------+--------------------+---------------+---------------+----------------+----------------------+------------------------------+--------------------------+---------------+----------+------------+------------+------------+----------+\n",
       "only showing top 20 rows\n",
       "\n",
       "</div>"
      ]
     },
     "metadata": {
      "application/vnd.databricks.v1+output": {
       "addedWidgets": {},
       "arguments": {},
       "data": "<div class=\"ansiout\">+---------------------+---------------+-----------------+---------------+------------------------------------------+---------------------------------+--------------------+---------------+---------------+----------------+----------------------+------------------------------+--------------------------+---------------+----------+------------+------------+------------+----------+\n|data_somministrazione|      fornitore|fascia_anagrafica|sesso_femminile|categoria_operatori_sanitari_sociosanitari|categoria_personale_non_sanitario|categoria_ospiti_rsa|categoria_60_69|categoria_70_79|categoria_over80|categoria_forze_armate|categoria_personale_scolastico|categoria_soggetti_fragili|categoria_altro|prima_dose|seconda_dose|codice_NUTS1|codice_NUTS2| nome_area|\n+---------------------+---------------+-----------------+---------------+------------------------------------------+---------------------------------+--------------------+---------------+---------------+----------------+----------------------+------------------------------+--------------------------+---------------+----------+------------+------------+------------+----------+\n|           2020-12-27|Pfizer/BioNTech|            20-29|              0|                                         1|                                0|                   0|              0|              0|               0|                     0|                             0|                         0|              0|         1|           0|         ITF|        ITF1|   Abruzzo|\n|           2020-12-27|Pfizer/BioNTech|            30-39|              3|                                         4|                                0|                   0|              0|              0|               0|                     0|                             0|                         0|              0|         4|           0|         ITF|        ITF1|   Abruzzo|\n|           2020-12-27|Pfizer/BioNTech|            40-49|              6|                                         7|                                0|                   0|              0|              0|               0|                     0|                             0|                         0|              0|         7|           0|         ITF|        ITF1|   Abruzzo|\n|           2020-12-27|Pfizer/BioNTech|            50-59|              5|                                         9|                                0|                   0|              0|              0|               0|                     0|                             0|                         0|              0|         9|           0|         ITF|        ITF1|   Abruzzo|\n|           2020-12-27|Pfizer/BioNTech|            60-69|              4|                                        13|                                1|                   0|              0|              0|               0|                     0|                             0|                         0|              0|        14|           0|         ITF|        ITF1|   Abruzzo|\n|           2020-12-27|Pfizer/BioNTech|            70-79|              0|                                         0|                                0|                   1|              0|              0|               0|                     0|                             0|                         0|              0|         1|           0|         ITF|        ITF1|   Abruzzo|\n|           2020-12-27|Pfizer/BioNTech|            80-89|              0|                                         0|                                0|                   1|              0|              0|               0|                     0|                             0|                         0|              0|         1|           0|         ITF|        ITF1|   Abruzzo|\n|           2020-12-27|Pfizer/BioNTech|            20-29|              5|                                         9|                                0|                   0|              0|              0|               0|                     0|                             0|                         0|              0|         9|           0|         ITF|        ITF5|Basilicata|\n|           2020-12-27|Pfizer/BioNTech|            30-39|             18|                                        27|                                0|                   0|              0|              0|               0|                     0|                             0|                         0|              1|        28|           0|         ITF|        ITF5|Basilicata|\n|           2020-12-27|Pfizer/BioNTech|            40-49|             23|                                        29|                                0|                   0|              0|              0|               0|                     0|                             0|                         0|              1|        30|           0|         ITF|        ITF5|Basilicata|\n|           2020-12-27|Pfizer/BioNTech|            50-59|             15|                                        26|                                0|                   0|              0|              0|               0|                     0|                             0|                         0|              0|        26|           0|         ITF|        ITF5|Basilicata|\n|           2020-12-27|Pfizer/BioNTech|            60-69|              4|                                        13|                                0|                   0|              0|              0|               0|                     0|                             0|                         0|              0|        13|           0|         ITF|        ITF5|Basilicata|\n|           2020-12-27|Pfizer/BioNTech|            20-29|             34|                                        49|                                0|                   0|              0|              0|               0|                     0|                             0|                         0|              0|        49|           0|         ITF|        ITF6|  Calabria|\n|           2020-12-27|Pfizer/BioNTech|            30-39|             20|                                        43|                                0|                   0|              0|              0|               0|                     0|                             0|                         0|              0|        43|           0|         ITF|        ITF6|  Calabria|\n|           2020-12-27|Pfizer/BioNTech|            40-49|             27|                                        50|                                0|                   0|              0|              0|               0|                     0|                             0|                         0|              0|        50|           0|         ITF|        ITF6|  Calabria|\n|           2020-12-27|Pfizer/BioNTech|            50-59|             28|                                        76|                                1|                   0|              0|              0|               0|                     0|                             0|                         0|              0|        77|           0|         ITF|        ITF6|  Calabria|\n|           2020-12-27|Pfizer/BioNTech|            60-69|             16|                                        60|                                0|                   0|              0|              0|               0|                     0|                             0|                         0|              0|        60|           0|         ITF|        ITF6|  Calabria|\n|           2020-12-27|Pfizer/BioNTech|            20-29|             33|                                        59|                                1|                   0|              0|              0|               0|                     0|                             0|                         0|              0|        60|           0|         ITF|        ITF3|  Campania|\n|           2020-12-27|Pfizer/BioNTech|            30-39|             64|                                       122|                                2|                   0|              0|              0|               0|                     0|                             0|                         0|              1|       125|           0|         ITF|        ITF3|  Campania|\n|           2020-12-27|Pfizer/BioNTech|            40-49|             87|                                       164|                                3|                   0|              0|              0|               0|                     0|                             0|                         0|              0|       167|           0|         ITF|        ITF3|  Campania|\n+---------------------+---------------+-----------------+---------------+------------------------------------------+---------------------------------+--------------------+---------------+---------------+----------------+----------------------+------------------------------+--------------------------+---------------+----------+------------+------------+------------+----------+\nonly showing top 20 rows\n\n</div>",
       "datasetInfos": [],
       "removedWidgets": [],
       "type": "html"
      }
     },
     "output_type": "display_data"
    }
   ],
   "source": [
    "dati_vaccini_somministrazioni = dati_vaccini_somministrazioni.drop('area', 'codice_regione_ISTAT', 'sesso_maschile', 'sesso_femminile' 'codice_NUTS1')\n",
    "dati_vaccini_somministrazioni.show()"
   ]
  },
  {
   "cell_type": "markdown",
   "metadata": {
    "application/vnd.databricks.v1+cell": {
     "inputWidgets": {},
     "nuid": "a43b3aa0-ca11-498d-8861-c39ccae87725",
     "showTitle": false,
     "title": ""
    }
   },
   "source": [
    "Si verifica che il formato dei dati sia corretto"
   ]
  },
  {
   "cell_type": "code",
   "execution_count": 0,
   "metadata": {
    "application/vnd.databricks.v1+cell": {
     "inputWidgets": {},
     "nuid": "46aee58d-6836-453f-8933-4cf71e5f10cf",
     "showTitle": false,
     "title": ""
    }
   },
   "outputs": [
    {
     "data": {
      "text/html": [
       "<style scoped>\n",
       "  .ansiout {\n",
       "    display: block;\n",
       "    unicode-bidi: embed;\n",
       "    white-space: pre-wrap;\n",
       "    word-wrap: break-word;\n",
       "    word-break: break-all;\n",
       "    font-family: \"Source Code Pro\", \"Menlo\", monospace;;\n",
       "    font-size: 13px;\n",
       "    color: #555;\n",
       "    margin-left: 4px;\n",
       "    line-height: 19px;\n",
       "  }\n",
       "</style>\n",
       "<div class=\"ansiout\">Out[23]: [(&#39;data_somministrazione&#39;, &#39;string&#39;),\n",
       " (&#39;fornitore&#39;, &#39;string&#39;),\n",
       " (&#39;fascia_anagrafica&#39;, &#39;string&#39;),\n",
       " (&#39;sesso_femminile&#39;, &#39;int&#39;),\n",
       " (&#39;categoria_operatori_sanitari_sociosanitari&#39;, &#39;int&#39;),\n",
       " (&#39;categoria_personale_non_sanitario&#39;, &#39;int&#39;),\n",
       " (&#39;categoria_ospiti_rsa&#39;, &#39;int&#39;),\n",
       " (&#39;categoria_60_69&#39;, &#39;int&#39;),\n",
       " (&#39;categoria_70_79&#39;, &#39;int&#39;),\n",
       " (&#39;categoria_over80&#39;, &#39;int&#39;),\n",
       " (&#39;categoria_forze_armate&#39;, &#39;int&#39;),\n",
       " (&#39;categoria_personale_scolastico&#39;, &#39;int&#39;),\n",
       " (&#39;categoria_soggetti_fragili&#39;, &#39;int&#39;),\n",
       " (&#39;categoria_altro&#39;, &#39;int&#39;),\n",
       " (&#39;prima_dose&#39;, &#39;int&#39;),\n",
       " (&#39;seconda_dose&#39;, &#39;int&#39;),\n",
       " (&#39;codice_NUTS1&#39;, &#39;string&#39;),\n",
       " (&#39;codice_NUTS2&#39;, &#39;string&#39;),\n",
       " (&#39;nome_area&#39;, &#39;string&#39;)]</div>"
      ]
     },
     "metadata": {
      "application/vnd.databricks.v1+output": {
       "addedWidgets": {},
       "arguments": {},
       "data": "<div class=\"ansiout\">Out[23]: [(&#39;data_somministrazione&#39;, &#39;string&#39;),\n (&#39;fornitore&#39;, &#39;string&#39;),\n (&#39;fascia_anagrafica&#39;, &#39;string&#39;),\n (&#39;sesso_femminile&#39;, &#39;int&#39;),\n (&#39;categoria_operatori_sanitari_sociosanitari&#39;, &#39;int&#39;),\n (&#39;categoria_personale_non_sanitario&#39;, &#39;int&#39;),\n (&#39;categoria_ospiti_rsa&#39;, &#39;int&#39;),\n (&#39;categoria_60_69&#39;, &#39;int&#39;),\n (&#39;categoria_70_79&#39;, &#39;int&#39;),\n (&#39;categoria_over80&#39;, &#39;int&#39;),\n (&#39;categoria_forze_armate&#39;, &#39;int&#39;),\n (&#39;categoria_personale_scolastico&#39;, &#39;int&#39;),\n (&#39;categoria_soggetti_fragili&#39;, &#39;int&#39;),\n (&#39;categoria_altro&#39;, &#39;int&#39;),\n (&#39;prima_dose&#39;, &#39;int&#39;),\n (&#39;seconda_dose&#39;, &#39;int&#39;),\n (&#39;codice_NUTS1&#39;, &#39;string&#39;),\n (&#39;codice_NUTS2&#39;, &#39;string&#39;),\n (&#39;nome_area&#39;, &#39;string&#39;)]</div>",
       "datasetInfos": [],
       "removedWidgets": [],
       "type": "html"
      }
     },
     "output_type": "display_data"
    }
   ],
   "source": [
    "dati_vaccini_somministrazioni.dtypes"
   ]
  },
  {
   "cell_type": "code",
   "execution_count": 0,
   "metadata": {
    "application/vnd.databricks.v1+cell": {
     "inputWidgets": {},
     "nuid": "d9d98c7f-3ce3-47f9-bc95-0d87ac461dd7",
     "showTitle": false,
     "title": ""
    }
   },
   "outputs": [
    {
     "data": {
      "text/html": [
       "<style scoped>\n",
       "  .ansiout {\n",
       "    display: block;\n",
       "    unicode-bidi: embed;\n",
       "    white-space: pre-wrap;\n",
       "    word-wrap: break-word;\n",
       "    word-break: break-all;\n",
       "    font-family: \"Source Code Pro\", \"Menlo\", monospace;;\n",
       "    font-size: 13px;\n",
       "    color: #555;\n",
       "    margin-left: 4px;\n",
       "    line-height: 19px;\n",
       "  }\n",
       "</style>\n",
       "<div class=\"ansiout\"></div>"
      ]
     },
     "metadata": {
      "application/vnd.databricks.v1+output": {
       "addedWidgets": {},
       "arguments": {},
       "data": "<div class=\"ansiout\"></div>",
       "datasetInfos": [],
       "removedWidgets": [],
       "type": "html"
      }
     },
     "output_type": "display_data"
    }
   ],
   "source": [
    "dati_vaccini_somministrazioni = dati_vaccini_somministrazioni.withColumn('data_somministrazione', date_format(dati_vaccini_somministrazioni.data_somministrazione, 'yyyy-MM-dd').cast('date'))"
   ]
  },
  {
   "cell_type": "code",
   "execution_count": 0,
   "metadata": {
    "application/vnd.databricks.v1+cell": {
     "inputWidgets": {},
     "nuid": "161e5e33-fb94-4a0d-a06d-a48ddf459752",
     "showTitle": false,
     "title": ""
    }
   },
   "outputs": [
    {
     "data": {
      "text/html": [
       "<style scoped>\n",
       "  .ansiout {\n",
       "    display: block;\n",
       "    unicode-bidi: embed;\n",
       "    white-space: pre-wrap;\n",
       "    word-wrap: break-word;\n",
       "    word-break: break-all;\n",
       "    font-family: \"Source Code Pro\", \"Menlo\", monospace;;\n",
       "    font-size: 13px;\n",
       "    color: #555;\n",
       "    margin-left: 4px;\n",
       "    line-height: 19px;\n",
       "  }\n",
       "</style>\n",
       "<div class=\"ansiout\">Out[25]: [(&#39;data_somministrazione&#39;, &#39;date&#39;),\n",
       " (&#39;fornitore&#39;, &#39;string&#39;),\n",
       " (&#39;fascia_anagrafica&#39;, &#39;string&#39;),\n",
       " (&#39;sesso_femminile&#39;, &#39;int&#39;),\n",
       " (&#39;categoria_operatori_sanitari_sociosanitari&#39;, &#39;int&#39;),\n",
       " (&#39;categoria_personale_non_sanitario&#39;, &#39;int&#39;),\n",
       " (&#39;categoria_ospiti_rsa&#39;, &#39;int&#39;),\n",
       " (&#39;categoria_60_69&#39;, &#39;int&#39;),\n",
       " (&#39;categoria_70_79&#39;, &#39;int&#39;),\n",
       " (&#39;categoria_over80&#39;, &#39;int&#39;),\n",
       " (&#39;categoria_forze_armate&#39;, &#39;int&#39;),\n",
       " (&#39;categoria_personale_scolastico&#39;, &#39;int&#39;),\n",
       " (&#39;categoria_soggetti_fragili&#39;, &#39;int&#39;),\n",
       " (&#39;categoria_altro&#39;, &#39;int&#39;),\n",
       " (&#39;prima_dose&#39;, &#39;int&#39;),\n",
       " (&#39;seconda_dose&#39;, &#39;int&#39;),\n",
       " (&#39;codice_NUTS1&#39;, &#39;string&#39;),\n",
       " (&#39;codice_NUTS2&#39;, &#39;string&#39;),\n",
       " (&#39;nome_area&#39;, &#39;string&#39;)]</div>"
      ]
     },
     "metadata": {
      "application/vnd.databricks.v1+output": {
       "addedWidgets": {},
       "arguments": {},
       "data": "<div class=\"ansiout\">Out[25]: [(&#39;data_somministrazione&#39;, &#39;date&#39;),\n (&#39;fornitore&#39;, &#39;string&#39;),\n (&#39;fascia_anagrafica&#39;, &#39;string&#39;),\n (&#39;sesso_femminile&#39;, &#39;int&#39;),\n (&#39;categoria_operatori_sanitari_sociosanitari&#39;, &#39;int&#39;),\n (&#39;categoria_personale_non_sanitario&#39;, &#39;int&#39;),\n (&#39;categoria_ospiti_rsa&#39;, &#39;int&#39;),\n (&#39;categoria_60_69&#39;, &#39;int&#39;),\n (&#39;categoria_70_79&#39;, &#39;int&#39;),\n (&#39;categoria_over80&#39;, &#39;int&#39;),\n (&#39;categoria_forze_armate&#39;, &#39;int&#39;),\n (&#39;categoria_personale_scolastico&#39;, &#39;int&#39;),\n (&#39;categoria_soggetti_fragili&#39;, &#39;int&#39;),\n (&#39;categoria_altro&#39;, &#39;int&#39;),\n (&#39;prima_dose&#39;, &#39;int&#39;),\n (&#39;seconda_dose&#39;, &#39;int&#39;),\n (&#39;codice_NUTS1&#39;, &#39;string&#39;),\n (&#39;codice_NUTS2&#39;, &#39;string&#39;),\n (&#39;nome_area&#39;, &#39;string&#39;)]</div>",
       "datasetInfos": [],
       "removedWidgets": [],
       "type": "html"
      }
     },
     "output_type": "display_data"
    }
   ],
   "source": [
    "dati_vaccini_somministrazioni.dtypes"
   ]
  },
  {
   "cell_type": "markdown",
   "metadata": {
    "application/vnd.databricks.v1+cell": {
     "inputWidgets": {},
     "nuid": "2e845c13-b168-414d-86a5-cb694281127d",
     "showTitle": false,
     "title": ""
    }
   },
   "source": [
    "Si verifica la correttezza delle colonne categoriche."
   ]
  },
  {
   "cell_type": "code",
   "execution_count": 0,
   "metadata": {
    "application/vnd.databricks.v1+cell": {
     "inputWidgets": {},
     "nuid": "1b4d14e7-8c3a-4664-b6b5-af850295137b",
     "showTitle": false,
     "title": ""
    }
   },
   "outputs": [
    {
     "data": {
      "text/html": [
       "<style scoped>\n",
       "  .ansiout {\n",
       "    display: block;\n",
       "    unicode-bidi: embed;\n",
       "    white-space: pre-wrap;\n",
       "    word-wrap: break-word;\n",
       "    word-break: break-all;\n",
       "    font-family: \"Source Code Pro\", \"Menlo\", monospace;;\n",
       "    font-size: 13px;\n",
       "    color: #555;\n",
       "    margin-left: 4px;\n",
       "    line-height: 19px;\n",
       "  }\n",
       "</style>\n",
       "<div class=\"ansiout\">Il numero di regioni è: 21\n",
       "\n",
       "+------------+--------------------+\n",
       "codice_NUTS2|           nome_area|\n",
       "+------------+--------------------+\n",
       "        ITC1|            Piemonte|\n",
       "        ITC2|Valle d&#39;Aosta / V...|\n",
       "        ITC3|             Liguria|\n",
       "        ITC4|           Lombardia|\n",
       "        ITF1|             Abruzzo|\n",
       "        ITF2|              Molise|\n",
       "        ITF3|            Campania|\n",
       "        ITF4|              Puglia|\n",
       "        ITF5|          Basilicata|\n",
       "        ITF6|            Calabria|\n",
       "        ITG1|             Sicilia|\n",
       "        ITG2|            Sardegna|\n",
       "        ITH1|Provincia Autonom...|\n",
       "        ITH2|Provincia Autonom...|\n",
       "        ITH3|              Veneto|\n",
       "        ITH4|Friuli-Venezia Gi...|\n",
       "        ITH5|      Emilia-Romagna|\n",
       "        ITI1|             Toscana|\n",
       "        ITI2|              Umbria|\n",
       "        ITI3|              Marche|\n",
       "        ITI4|               Lazio|\n",
       "+------------+--------------------+\n",
       "\n",
       "</div>"
      ]
     },
     "metadata": {
      "application/vnd.databricks.v1+output": {
       "addedWidgets": {},
       "arguments": {},
       "data": "<div class=\"ansiout\">Il numero di regioni è: 21\n\n+------------+--------------------+\n|codice_NUTS2|           nome_area|\n+------------+--------------------+\n|        ITC1|            Piemonte|\n|        ITC2|Valle d&#39;Aosta / V...|\n|        ITC3|             Liguria|\n|        ITC4|           Lombardia|\n|        ITF1|             Abruzzo|\n|        ITF2|              Molise|\n|        ITF3|            Campania|\n|        ITF4|              Puglia|\n|        ITF5|          Basilicata|\n|        ITF6|            Calabria|\n|        ITG1|             Sicilia|\n|        ITG2|            Sardegna|\n|        ITH1|Provincia Autonom...|\n|        ITH2|Provincia Autonom...|\n|        ITH3|              Veneto|\n|        ITH4|Friuli-Venezia Gi...|\n|        ITH5|      Emilia-Romagna|\n|        ITI1|             Toscana|\n|        ITI2|              Umbria|\n|        ITI3|              Marche|\n|        ITI4|               Lazio|\n+------------+--------------------+\n\n</div>",
       "datasetInfos": [],
       "removedWidgets": [],
       "type": "html"
      }
     },
     "output_type": "display_data"
    }
   ],
   "source": [
    "num_regioni = dati_vaccini_somministrazioni.groupBy('nome_area') \\\n",
    "                                           .count() \\\n",
    "                                           .count()\n",
    "print('Il numero di regioni è:', num_regioni)\n",
    "print()\n",
    "dati_vaccini_somministrazioni.groupBy('codice_NUTS2', 'nome_area') \\\n",
    "                             .count() \\\n",
    "                             .drop('count') \\\n",
    "                             .orderBy('codice_NUTS2') \\\n",
    "                             .show(num_regioni)"
   ]
  },
  {
   "cell_type": "code",
   "execution_count": 0,
   "metadata": {
    "application/vnd.databricks.v1+cell": {
     "inputWidgets": {},
     "nuid": "792e4ab3-a81b-4320-82eb-8c71f283fe57",
     "showTitle": false,
     "title": ""
    }
   },
   "outputs": [
    {
     "data": {
      "text/html": [
       "<style scoped>\n",
       "  .ansiout {\n",
       "    display: block;\n",
       "    unicode-bidi: embed;\n",
       "    white-space: pre-wrap;\n",
       "    word-wrap: break-word;\n",
       "    word-break: break-all;\n",
       "    font-family: \"Source Code Pro\", \"Menlo\", monospace;;\n",
       "    font-size: 13px;\n",
       "    color: #555;\n",
       "    margin-left: 4px;\n",
       "    line-height: 19px;\n",
       "  }\n",
       "</style>\n",
       "<div class=\"ansiout\">+-------------+---------------------+------------+--------------------+\n",
       "codice_nuts_2|denominazione_regione|codice_NUTS2|           nome_area|\n",
       "+-------------+---------------------+------------+--------------------+\n",
       "         ITC2|        Valle d&#39;Aosta|        ITC2|Valle d&#39;Aosta / V...|\n",
       "         ITH2|               Trento|        ITH2|Provincia Autonom...|\n",
       "         ITH4| Friuli Venezia Gi...|        ITH4|Friuli-Venezia Gi...|\n",
       "         ITH1|              Bolzano|        ITH1|Provincia Autonom...|\n",
       "+-------------+---------------------+------------+--------------------+\n",
       "\n",
       "</div>"
      ]
     },
     "metadata": {
      "application/vnd.databricks.v1+output": {
       "addedWidgets": {},
       "arguments": {},
       "data": "<div class=\"ansiout\">+-------------+---------------------+------------+--------------------+\n|codice_nuts_2|denominazione_regione|codice_NUTS2|           nome_area|\n+-------------+---------------------+------------+--------------------+\n|         ITC2|        Valle d&#39;Aosta|        ITC2|Valle d&#39;Aosta / V...|\n|         ITH2|               Trento|        ITH2|Provincia Autonom...|\n|         ITH4| Friuli Venezia Gi...|        ITH4|Friuli-Venezia Gi...|\n|         ITH1|              Bolzano|        ITH1|Provincia Autonom...|\n+-------------+---------------------+------------+--------------------+\n\n</div>",
       "datasetInfos": [],
       "removedWidgets": [],
       "type": "html"
      }
     },
     "output_type": "display_data"
    }
   ],
   "source": [
    "join1 = popolazione_regioni.join(dati_vaccini_somministrazioni, popolazione_regioni.denominazione_regione == dati_vaccini_somministrazioni.nome_area, how='anti') \\\n",
    "                    .groupBy('codice_nuts_2', 'denominazione_regione') \\\n",
    "                    .count() \\\n",
    "                    .drop('count') \n",
    "\n",
    "join2 = dati_vaccini_somministrazioni.join(popolazione_regioni, popolazione_regioni.denominazione_regione == dati_vaccini_somministrazioni.nome_area, how='anti') \\\n",
    "                    .groupBy('codice_NUTS2', 'nome_area') \\\n",
    "                    .count() \\\n",
    "                    .drop('count') \n",
    "\n",
    "join1.join(join2, popolazione_regioni.codice_nuts_2 == dati_vaccini_somministrazioni.codice_NUTS2).show()\n",
    "\n",
    "dati_vaccini_somministrazioni = dati_vaccini_somministrazioni.replace('Provincia Autonoma Trento', value='Trento', subset='nome_area')\n",
    "dati_vaccini_somministrazioni = dati_vaccini_somministrazioni.replace('Provincia Autonoma Bolzano / Bozen', value='Bolzano', subset='nome_area')\n",
    "dati_vaccini_somministrazioni = dati_vaccini_somministrazioni.replace('Friuli-Venezia Giulia', value='Friuli Venezia Giulia', subset='nome_area')\n",
    "dati_vaccini_somministrazioni = dati_vaccini_somministrazioni.replace('Valle d\\'Aosta / Vallée d\\'Aoste', value='Valle d\\'Aosta', subset='nome_area')"
   ]
  },
  {
   "cell_type": "code",
   "execution_count": 0,
   "metadata": {
    "application/vnd.databricks.v1+cell": {
     "inputWidgets": {},
     "nuid": "a984dfca-9bf4-4295-907b-2944b8814841",
     "showTitle": false,
     "title": ""
    }
   },
   "outputs": [
    {
     "data": {
      "text/html": [
       "<style scoped>\n",
       "  .ansiout {\n",
       "    display: block;\n",
       "    unicode-bidi: embed;\n",
       "    white-space: pre-wrap;\n",
       "    word-wrap: break-word;\n",
       "    word-break: break-all;\n",
       "    font-family: \"Source Code Pro\", \"Menlo\", monospace;;\n",
       "    font-size: 13px;\n",
       "    color: #555;\n",
       "    margin-left: 4px;\n",
       "    line-height: 19px;\n",
       "  }\n",
       "</style>\n",
       "<div class=\"ansiout\">+------------+--------------------+\n",
       "codice_NUTS2|           nome_area|\n",
       "+------------+--------------------+\n",
       "        ITC1|            Piemonte|\n",
       "        ITC2|       Valle d&#39;Aosta|\n",
       "        ITC3|             Liguria|\n",
       "        ITC4|           Lombardia|\n",
       "        ITF1|             Abruzzo|\n",
       "        ITF2|              Molise|\n",
       "        ITF3|            Campania|\n",
       "        ITF4|              Puglia|\n",
       "        ITF5|          Basilicata|\n",
       "        ITF6|            Calabria|\n",
       "        ITG1|             Sicilia|\n",
       "        ITG2|            Sardegna|\n",
       "        ITH1|             Bolzano|\n",
       "        ITH2|              Trento|\n",
       "        ITH3|              Veneto|\n",
       "        ITH4|Friuli Venezia Gi...|\n",
       "        ITH5|      Emilia-Romagna|\n",
       "        ITI1|             Toscana|\n",
       "        ITI2|              Umbria|\n",
       "        ITI3|              Marche|\n",
       "        ITI4|               Lazio|\n",
       "+------------+--------------------+\n",
       "\n",
       "</div>"
      ]
     },
     "metadata": {
      "application/vnd.databricks.v1+output": {
       "addedWidgets": {},
       "arguments": {},
       "data": "<div class=\"ansiout\">+------------+--------------------+\n|codice_NUTS2|           nome_area|\n+------------+--------------------+\n|        ITC1|            Piemonte|\n|        ITC2|       Valle d&#39;Aosta|\n|        ITC3|             Liguria|\n|        ITC4|           Lombardia|\n|        ITF1|             Abruzzo|\n|        ITF2|              Molise|\n|        ITF3|            Campania|\n|        ITF4|              Puglia|\n|        ITF5|          Basilicata|\n|        ITF6|            Calabria|\n|        ITG1|             Sicilia|\n|        ITG2|            Sardegna|\n|        ITH1|             Bolzano|\n|        ITH2|              Trento|\n|        ITH3|              Veneto|\n|        ITH4|Friuli Venezia Gi...|\n|        ITH5|      Emilia-Romagna|\n|        ITI1|             Toscana|\n|        ITI2|              Umbria|\n|        ITI3|              Marche|\n|        ITI4|               Lazio|\n+------------+--------------------+\n\n</div>",
       "datasetInfos": [],
       "removedWidgets": [],
       "type": "html"
      }
     },
     "output_type": "display_data"
    }
   ],
   "source": [
    "dati_vaccini_somministrazioni.groupBy('codice_NUTS2', 'nome_area') \\\n",
    "                             .count() \\\n",
    "                             .drop('count') \\\n",
    "                             .orderBy('codice_NUTS2') \\\n",
    "                             .show(num_regioni)"
   ]
  },
  {
   "cell_type": "code",
   "execution_count": 0,
   "metadata": {
    "application/vnd.databricks.v1+cell": {
     "inputWidgets": {},
     "nuid": "1f2b362c-748c-4424-a712-18aa624b9b6f",
     "showTitle": false,
     "title": ""
    }
   },
   "outputs": [
    {
     "data": {
      "text/html": [
       "<style scoped>\n",
       "  .ansiout {\n",
       "    display: block;\n",
       "    unicode-bidi: embed;\n",
       "    white-space: pre-wrap;\n",
       "    word-wrap: break-word;\n",
       "    word-break: break-all;\n",
       "    font-family: \"Source Code Pro\", \"Menlo\", monospace;;\n",
       "    font-size: 13px;\n",
       "    color: #555;\n",
       "    margin-left: 4px;\n",
       "    line-height: 19px;\n",
       "  }\n",
       "</style>\n",
       "<div class=\"ansiout\">+-----------------+\n",
       "fascia_anagrafica|\n",
       "+-----------------+\n",
       "            16-19|\n",
       "            20-29|\n",
       "            30-39|\n",
       "            40-49|\n",
       "            50-59|\n",
       "            60-69|\n",
       "            70-79|\n",
       "            80-89|\n",
       "              90+|\n",
       "+-----------------+\n",
       "\n",
       "</div>"
      ]
     },
     "metadata": {
      "application/vnd.databricks.v1+output": {
       "addedWidgets": {},
       "arguments": {},
       "data": "<div class=\"ansiout\">+-----------------+\n|fascia_anagrafica|\n+-----------------+\n|            16-19|\n|            20-29|\n|            30-39|\n|            40-49|\n|            50-59|\n|            60-69|\n|            70-79|\n|            80-89|\n|              90+|\n+-----------------+\n\n</div>",
       "datasetInfos": [],
       "removedWidgets": [],
       "type": "html"
      }
     },
     "output_type": "display_data"
    }
   ],
   "source": [
    "dati_vaccini_somministrazioni.groupBy('fascia_anagrafica') \\\n",
    "                    .count() \\\n",
    "                    .drop('count') \\\n",
    "                    .orderBy('fascia_anagrafica') \\\n",
    "                    .show()"
   ]
  },
  {
   "cell_type": "markdown",
   "metadata": {
    "application/vnd.databricks.v1+cell": {
     "inputWidgets": {},
     "nuid": "413c86b9-2fa5-43fd-a59c-33d17fce1e08",
     "showTitle": false,
     "title": ""
    }
   },
   "source": [
    "Si osserva che rispetto alla tabella popolazione_regioni manca la `fascia_anagrafica` 0-15"
   ]
  },
  {
   "cell_type": "markdown",
   "metadata": {
    "application/vnd.databricks.v1+cell": {
     "inputWidgets": {},
     "nuid": "8c0d918d-f645-476f-8fab-8c955a0688bf",
     "showTitle": false,
     "title": ""
    }
   },
   "source": [
    "Si verifica la correttezza delle colonne numeriche."
   ]
  },
  {
   "cell_type": "code",
   "execution_count": 0,
   "metadata": {
    "application/vnd.databricks.v1+cell": {
     "inputWidgets": {},
     "nuid": "c9582001-ccef-4382-9817-08a2695c8a00",
     "showTitle": false,
     "title": ""
    }
   },
   "outputs": [
    {
     "data": {
      "text/html": [
       "<style scoped>\n",
       "  .ansiout {\n",
       "    display: block;\n",
       "    unicode-bidi: embed;\n",
       "    white-space: pre-wrap;\n",
       "    word-wrap: break-word;\n",
       "    word-break: break-all;\n",
       "    font-family: \"Source Code Pro\", \"Menlo\", monospace;;\n",
       "    font-size: 13px;\n",
       "    color: #555;\n",
       "    margin-left: 4px;\n",
       "    line-height: 19px;\n",
       "  }\n",
       "</style>\n",
       "<div class=\"ansiout\">+-------+------------------+------------------+\n",
       "summary|        prima_dose|      seconda_dose|\n",
       "+-------+------------------+------------------+\n",
       "  count|             42748|             42748|\n",
       "   mean|328.72164779638814|137.94502666791428|\n",
       " stddev|1000.9215678340463| 558.9414535757198|\n",
       "    min|                 0|                 0|\n",
       "    max|             29498|             19243|\n",
       "+-------+------------------+------------------+\n",
       "\n",
       "</div>"
      ]
     },
     "metadata": {
      "application/vnd.databricks.v1+output": {
       "addedWidgets": {},
       "arguments": {},
       "data": "<div class=\"ansiout\">+-------+------------------+------------------+\n|summary|        prima_dose|      seconda_dose|\n+-------+------------------+------------------+\n|  count|             42748|             42748|\n|   mean|328.72164779638814|137.94502666791428|\n| stddev|1000.9215678340463| 558.9414535757198|\n|    min|                 0|                 0|\n|    max|             29498|             19243|\n+-------+------------------+------------------+\n\n</div>",
       "datasetInfos": [],
       "removedWidgets": [],
       "type": "html"
      }
     },
     "output_type": "display_data"
    }
   ],
   "source": [
    "dati_vaccini_somministrazioni.describe(['prima_dose', 'seconda_dose']) \\\n",
    "                             .show()"
   ]
  },
  {
   "cell_type": "code",
   "execution_count": 0,
   "metadata": {
    "application/vnd.databricks.v1+cell": {
     "inputWidgets": {},
     "nuid": "bbc9fb2b-2891-42cb-93d6-da535824b2f6",
     "showTitle": false,
     "title": ""
    }
   },
   "outputs": [
    {
     "data": {
      "text/html": [
       "<style scoped>\n",
       "  .ansiout {\n",
       "    display: block;\n",
       "    unicode-bidi: embed;\n",
       "    white-space: pre-wrap;\n",
       "    word-wrap: break-word;\n",
       "    word-break: break-all;\n",
       "    font-family: \"Source Code Pro\", \"Menlo\", monospace;;\n",
       "    font-size: 13px;\n",
       "    color: #555;\n",
       "    margin-left: 4px;\n",
       "    line-height: 19px;\n",
       "  }\n",
       "</style>\n",
       "<div class=\"ansiout\">+-------+------------------------------------------+---------------------------------+--------------------+-----------------+-----------------+\n",
       "summary|categoria_operatori_sanitari_sociosanitari|categoria_personale_non_sanitario|categoria_ospiti_rsa|  categoria_60_69|  categoria_70_79|\n",
       "+-------+------------------------------------------+---------------------------------+--------------------+-----------------+-----------------+\n",
       "  count|                                     42748|                            42748|               42748|            42748|            42748|\n",
       "   mean|                         75.81898568354075|                20.82904463366707|  15.316506035370075| 25.2064424066623|69.76822307476372|\n",
       " stddev|                         226.9536664572629|                66.15868493516085|  61.102737050086844|325.9967518509442|679.4798418900963|\n",
       "    min|                                         0|                                0|                   0|                0|                0|\n",
       "    max|                                      4662|                             2303|                2317|            20021|            28033|\n",
       "+-------+------------------------------------------+---------------------------------+--------------------+-----------------+-----------------+\n",
       "\n",
       "</div>"
      ]
     },
     "metadata": {
      "application/vnd.databricks.v1+output": {
       "addedWidgets": {},
       "arguments": {},
       "data": "<div class=\"ansiout\">+-------+------------------------------------------+---------------------------------+--------------------+-----------------+-----------------+\n|summary|categoria_operatori_sanitari_sociosanitari|categoria_personale_non_sanitario|categoria_ospiti_rsa|  categoria_60_69|  categoria_70_79|\n+-------+------------------------------------------+---------------------------------+--------------------+-----------------+-----------------+\n|  count|                                     42748|                            42748|               42748|            42748|            42748|\n|   mean|                         75.81898568354075|                20.82904463366707|  15.316506035370075| 25.2064424066623|69.76822307476372|\n| stddev|                         226.9536664572629|                66.15868493516085|  61.102737050086844|325.9967518509442|679.4798418900963|\n|    min|                                         0|                                0|                   0|                0|                0|\n|    max|                                      4662|                             2303|                2317|            20021|            28033|\n+-------+------------------------------------------+---------------------------------+--------------------+-----------------+-----------------+\n\n</div>",
       "datasetInfos": [],
       "removedWidgets": [],
       "type": "html"
      }
     },
     "output_type": "display_data"
    }
   ],
   "source": [
    "dati_vaccini_somministrazioni.describe(['categoria_operatori_sanitari_sociosanitari', 'categoria_personale_non_sanitario', 'categoria_ospiti_rsa', 'categoria_60_69', 'categoria_70_79']) \\\n",
    "                             .show()"
   ]
  },
  {
   "cell_type": "code",
   "execution_count": 0,
   "metadata": {
    "application/vnd.databricks.v1+cell": {
     "inputWidgets": {},
     "nuid": "5fd7a373-1e75-4865-92a1-e458c734dc2d",
     "showTitle": false,
     "title": ""
    }
   },
   "outputs": [
    {
     "data": {
      "text/html": [
       "<style scoped>\n",
       "  .ansiout {\n",
       "    display: block;\n",
       "    unicode-bidi: embed;\n",
       "    white-space: pre-wrap;\n",
       "    word-wrap: break-word;\n",
       "    word-break: break-all;\n",
       "    font-family: \"Source Code Pro\", \"Menlo\", monospace;;\n",
       "    font-size: 13px;\n",
       "    color: #555;\n",
       "    margin-left: 4px;\n",
       "    line-height: 19px;\n",
       "  }\n",
       "</style>\n",
       "<div class=\"ansiout\">+-------+------------------+----------------------+------------------------------+--------------------------+-----------------+\n",
       "summary|  categoria_over80|categoria_forze_armate|categoria_personale_scolastico|categoria_soggetti_fragili|  categoria_altro|\n",
       "+-------+------------------+----------------------+------------------------------+--------------------------+-----------------+\n",
       "  count|             42748|                 42748|                         42748|                     42748|            42748|\n",
       "   mean|144.24272480583886|     7.601548610461308|            27.258023767193787|         72.07352390755123|8.551651539253298|\n",
       " stddev| 911.4114589394183|      42.6170651430661|             151.6780634008098|        312.05108674408626|39.96799868320293|\n",
       "    min|                 0|                     0|                             0|                         0|                0|\n",
       "    max|             31064|                  1214|                          3583|                     10910|             2008|\n",
       "+-------+------------------+----------------------+------------------------------+--------------------------+-----------------+\n",
       "\n",
       "</div>"
      ]
     },
     "metadata": {
      "application/vnd.databricks.v1+output": {
       "addedWidgets": {},
       "arguments": {},
       "data": "<div class=\"ansiout\">+-------+------------------+----------------------+------------------------------+--------------------------+-----------------+\n|summary|  categoria_over80|categoria_forze_armate|categoria_personale_scolastico|categoria_soggetti_fragili|  categoria_altro|\n+-------+------------------+----------------------+------------------------------+--------------------------+-----------------+\n|  count|             42748|                 42748|                         42748|                     42748|            42748|\n|   mean|144.24272480583886|     7.601548610461308|            27.258023767193787|         72.07352390755123|8.551651539253298|\n| stddev| 911.4114589394183|      42.6170651430661|             151.6780634008098|        312.05108674408626|39.96799868320293|\n|    min|                 0|                     0|                             0|                         0|                0|\n|    max|             31064|                  1214|                          3583|                     10910|             2008|\n+-------+------------------+----------------------+------------------------------+--------------------------+-----------------+\n\n</div>",
       "datasetInfos": [],
       "removedWidgets": [],
       "type": "html"
      }
     },
     "output_type": "display_data"
    }
   ],
   "source": [
    "dati_vaccini_somministrazioni.describe(['categoria_over80', 'categoria_forze_armate', 'categoria_personale_scolastico', 'categoria_soggetti_fragili', 'categoria_altro']) \\\n",
    "                             .show()"
   ]
  },
  {
   "cell_type": "markdown",
   "metadata": {
    "application/vnd.databricks.v1+cell": {
     "inputWidgets": {},
     "nuid": "be66ec0b-5c34-46e4-bea1-f400878d6cdd",
     "showTitle": false,
     "title": ""
    }
   },
   "source": [
    "Si verifica la presenza di *missing values*."
   ]
  },
  {
   "cell_type": "code",
   "execution_count": 0,
   "metadata": {
    "application/vnd.databricks.v1+cell": {
     "inputWidgets": {},
     "nuid": "79dad1ec-e438-4832-8c13-88a2bd9a5c19",
     "showTitle": false,
     "title": ""
    }
   },
   "outputs": [
    {
     "data": {
      "text/html": [
       "<style scoped>\n",
       "  .ansiout {\n",
       "    display: block;\n",
       "    unicode-bidi: embed;\n",
       "    white-space: pre-wrap;\n",
       "    word-wrap: break-word;\n",
       "    word-break: break-all;\n",
       "    font-family: \"Source Code Pro\", \"Menlo\", monospace;;\n",
       "    font-size: 13px;\n",
       "    color: #555;\n",
       "    margin-left: 4px;\n",
       "    line-height: 19px;\n",
       "  }\n",
       "</style>\n",
       "<div class=\"ansiout\">+---------------------+---------+-----------------+---------------+------------------------------------------+---------------------------------+--------------------+---------------+---------------+----------------+----------------------+------------------------------+--------------------------+---------------+----------+------------+------------+------------+---------+\n",
       "data_somministrazione|fornitore|fascia_anagrafica|sesso_femminile|categoria_operatori_sanitari_sociosanitari|categoria_personale_non_sanitario|categoria_ospiti_rsa|categoria_60_69|categoria_70_79|categoria_over80|categoria_forze_armate|categoria_personale_scolastico|categoria_soggetti_fragili|categoria_altro|prima_dose|seconda_dose|codice_NUTS1|codice_NUTS2|nome_area|\n",
       "+---------------------+---------+-----------------+---------------+------------------------------------------+---------------------------------+--------------------+---------------+---------------+----------------+----------------------+------------------------------+--------------------------+---------------+----------+------------+------------+------------+---------+\n",
       "                    0|        0|                0|              0|                                         0|                                0|                   0|              0|              0|               0|                     0|                             0|                         0|              0|         0|           0|           0|           0|        0|\n",
       "+---------------------+---------+-----------------+---------------+------------------------------------------+---------------------------------+--------------------+---------------+---------------+----------------+----------------------+------------------------------+--------------------------+---------------+----------+------------+------------+------------+---------+\n",
       "\n",
       "</div>"
      ]
     },
     "metadata": {
      "application/vnd.databricks.v1+output": {
       "addedWidgets": {},
       "arguments": {},
       "data": "<div class=\"ansiout\">+---------------------+---------+-----------------+---------------+------------------------------------------+---------------------------------+--------------------+---------------+---------------+----------------+----------------------+------------------------------+--------------------------+---------------+----------+------------+------------+------------+---------+\n|data_somministrazione|fornitore|fascia_anagrafica|sesso_femminile|categoria_operatori_sanitari_sociosanitari|categoria_personale_non_sanitario|categoria_ospiti_rsa|categoria_60_69|categoria_70_79|categoria_over80|categoria_forze_armate|categoria_personale_scolastico|categoria_soggetti_fragili|categoria_altro|prima_dose|seconda_dose|codice_NUTS1|codice_NUTS2|nome_area|\n+---------------------+---------+-----------------+---------------+------------------------------------------+---------------------------------+--------------------+---------------+---------------+----------------+----------------------+------------------------------+--------------------------+---------------+----------+------------+------------+------------+---------+\n|                    0|        0|                0|              0|                                         0|                                0|                   0|              0|              0|               0|                     0|                             0|                         0|              0|         0|           0|           0|           0|        0|\n+---------------------+---------+-----------------+---------------+------------------------------------------+---------------------------------+--------------------+---------------+---------------+----------------+----------------------+------------------------------+--------------------------+---------------+----------+------------+------------+------------+---------+\n\n</div>",
       "datasetInfos": [],
       "removedWidgets": [],
       "type": "html"
      }
     },
     "output_type": "display_data"
    }
   ],
   "source": [
    "dati_vaccini_somministrazioni.select([count(when(isnull(c), c)).alias(c) for c in dati_vaccini_somministrazioni.drop('data').columns]).show()"
   ]
  },
  {
   "cell_type": "markdown",
   "metadata": {
    "application/vnd.databricks.v1+cell": {
     "inputWidgets": {},
     "nuid": "ad70e54a-80b8-404a-983b-ea38a6327c7f",
     "showTitle": false,
     "title": ""
    }
   },
   "source": [
    "Si verifica la presenza di *missing values* nella serie temporale."
   ]
  },
  {
   "cell_type": "code",
   "execution_count": 0,
   "metadata": {
    "application/vnd.databricks.v1+cell": {
     "inputWidgets": {},
     "nuid": "2964d0db-ec41-4b46-a019-2bd913ffea88",
     "showTitle": false,
     "title": ""
    }
   },
   "outputs": [
    {
     "data": {
      "text/html": [
       "<style scoped>\n",
       "  .ansiout {\n",
       "    display: block;\n",
       "    unicode-bidi: embed;\n",
       "    white-space: pre-wrap;\n",
       "    word-wrap: break-word;\n",
       "    word-break: break-all;\n",
       "    font-family: \"Source Code Pro\", \"Menlo\", monospace;;\n",
       "    font-size: 13px;\n",
       "    color: #555;\n",
       "    margin-left: 4px;\n",
       "    line-height: 19px;\n",
       "  }\n",
       "</style>\n",
       "<div class=\"ansiout\">+----------+----------+\n",
       "    minimo|   massimo|\n",
       "+----------+----------+\n",
       "2020-12-27|2021-04-30|\n",
       "+----------+----------+\n",
       "\n",
       "</div>"
      ]
     },
     "metadata": {
      "application/vnd.databricks.v1+output": {
       "addedWidgets": {},
       "arguments": {},
       "data": "<div class=\"ansiout\">+----------+----------+\n|    minimo|   massimo|\n+----------+----------+\n|2020-12-27|2021-04-30|\n+----------+----------+\n\n</div>",
       "datasetInfos": [],
       "removedWidgets": [],
       "type": "html"
      }
     },
     "output_type": "display_data"
    }
   ],
   "source": [
    "min_data = dati_vaccini_somministrazioni.agg(min('data_somministrazione').alias('minimo'))\n",
    "max_data = dati_vaccini_somministrazioni.agg(max('data_somministrazione').alias('massimo'))\n",
    "\n",
    "date = min_data.join(max_data)\n",
    "\n",
    "date.show()"
   ]
  },
  {
   "cell_type": "code",
   "execution_count": 0,
   "metadata": {
    "application/vnd.databricks.v1+cell": {
     "inputWidgets": {},
     "nuid": "4e1a036e-5e8a-423a-b787-362e8ae23d16",
     "showTitle": false,
     "title": ""
    }
   },
   "outputs": [
    {
     "data": {
      "text/html": [
       "<style scoped>\n",
       "  .ansiout {\n",
       "    display: block;\n",
       "    unicode-bidi: embed;\n",
       "    white-space: pre-wrap;\n",
       "    word-wrap: break-word;\n",
       "    word-break: break-all;\n",
       "    font-family: \"Source Code Pro\", \"Menlo\", monospace;;\n",
       "    font-size: 13px;\n",
       "    color: #555;\n",
       "    margin-left: 4px;\n",
       "    line-height: 19px;\n",
       "  }\n",
       "</style>\n",
       "<div class=\"ansiout\">+---------------------+\n",
       "data_somministrazione|\n",
       "+---------------------+\n",
       "           2020-12-27|\n",
       "           2020-12-28|\n",
       "           2020-12-29|\n",
       "           2020-12-30|\n",
       "           2020-12-31|\n",
       "           2021-01-01|\n",
       "           2021-01-02|\n",
       "           2021-01-03|\n",
       "           2021-01-04|\n",
       "           2021-01-05|\n",
       "           2021-01-06|\n",
       "           2021-01-07|\n",
       "           2021-01-08|\n",
       "           2021-01-09|\n",
       "           2021-01-10|\n",
       "           2021-01-11|\n",
       "           2021-01-12|\n",
       "           2021-01-13|\n",
       "           2021-01-14|\n",
       "           2021-01-15|\n",
       "+---------------------+\n",
       "only showing top 20 rows\n",
       "\n",
       "</div>"
      ]
     },
     "metadata": {
      "application/vnd.databricks.v1+output": {
       "addedWidgets": {},
       "arguments": {},
       "data": "<div class=\"ansiout\">+---------------------+\n|data_somministrazione|\n+---------------------+\n|           2020-12-27|\n|           2020-12-28|\n|           2020-12-29|\n|           2020-12-30|\n|           2020-12-31|\n|           2021-01-01|\n|           2021-01-02|\n|           2021-01-03|\n|           2021-01-04|\n|           2021-01-05|\n|           2021-01-06|\n|           2021-01-07|\n|           2021-01-08|\n|           2021-01-09|\n|           2021-01-10|\n|           2021-01-11|\n|           2021-01-12|\n|           2021-01-13|\n|           2021-01-14|\n|           2021-01-15|\n+---------------------+\nonly showing top 20 rows\n\n</div>",
       "datasetInfos": [],
       "removedWidgets": [],
       "type": "html"
      }
     },
     "output_type": "display_data"
    }
   ],
   "source": [
    "time_series = date.withColumn('data_somministrazione', explode(expr('sequence(minimo, massimo, interval 1 day)'))) \\\n",
    "                  .select('data_somministrazione')\n",
    "\n",
    "time_series.show()"
   ]
  },
  {
   "cell_type": "code",
   "execution_count": 0,
   "metadata": {
    "application/vnd.databricks.v1+cell": {
     "inputWidgets": {},
     "nuid": "a11945f2-0d1b-4150-97b5-12fe5075fd61",
     "showTitle": false,
     "title": ""
    }
   },
   "outputs": [
    {
     "data": {
      "text/html": [
       "<style scoped>\n",
       "  .ansiout {\n",
       "    display: block;\n",
       "    unicode-bidi: embed;\n",
       "    white-space: pre-wrap;\n",
       "    word-wrap: break-word;\n",
       "    word-break: break-all;\n",
       "    font-family: \"Source Code Pro\", \"Menlo\", monospace;;\n",
       "    font-size: 13px;\n",
       "    color: #555;\n",
       "    margin-left: 4px;\n",
       "    line-height: 19px;\n",
       "  }\n",
       "</style>\n",
       "<div class=\"ansiout\">+---------------------+\n",
       "data_somministrazione|\n",
       "+---------------------+\n",
       "+---------------------+\n",
       "\n",
       "</div>"
      ]
     },
     "metadata": {
      "application/vnd.databricks.v1+output": {
       "addedWidgets": {},
       "arguments": {},
       "data": "<div class=\"ansiout\">+---------------------+\n|data_somministrazione|\n+---------------------+\n+---------------------+\n\n</div>",
       "datasetInfos": [],
       "removedWidgets": [],
       "type": "html"
      }
     },
     "output_type": "display_data"
    }
   ],
   "source": [
    "date_covid = dati_vaccini_somministrazioni.select('data_somministrazione') \\\n",
    "                               .withColumn('data_somministrazione', date_format(dati_vaccini_somministrazioni.data_somministrazione, 'yyyy-MM-dd').cast('date')) \\\n",
    "                               .distinct() \\\n",
    "                               .orderBy('data_somministrazione')\n",
    "\n",
    "date_covid.join(time_series, on='data_somministrazione', how='anti') \\\n",
    "          .show()"
   ]
  },
  {
   "cell_type": "markdown",
   "metadata": {
    "application/vnd.databricks.v1+cell": {
     "inputWidgets": {},
     "nuid": "fdfa7727-8f84-4bb5-a523-3c26602baad6",
     "showTitle": false,
     "title": ""
    }
   },
   "source": [
    "## Elaborazione"
   ]
  },
  {
   "cell_type": "markdown",
   "metadata": {
    "application/vnd.databricks.v1+cell": {
     "inputWidgets": {},
     "nuid": "fca10007-ed19-4d3a-8a82-c3c7e50821fb",
     "showTitle": false,
     "title": ""
    }
   },
   "source": [
    "### Dati Covid-19"
   ]
  },
  {
   "cell_type": "markdown",
   "metadata": {
    "application/vnd.databricks.v1+cell": {
     "inputWidgets": {},
     "nuid": "f8ab9e8b-4c66-4728-a0d1-a6b556b054ce",
     "showTitle": false,
     "title": ""
    }
   },
   "source": [
    "#### Attuali Positivi per Regione"
   ]
  },
  {
   "cell_type": "code",
   "execution_count": 0,
   "metadata": {
    "application/vnd.databricks.v1+cell": {
     "inputWidgets": {},
     "nuid": "e0d4a96f-94ff-44d8-8f51-826b925078a1",
     "showTitle": false,
     "title": ""
    }
   },
   "outputs": [
    {
     "data": {
      "text/html": [
       "<style scoped>\n",
       "  .ansiout {\n",
       "    display: block;\n",
       "    unicode-bidi: embed;\n",
       "    white-space: pre-wrap;\n",
       "    word-wrap: break-word;\n",
       "    word-break: break-all;\n",
       "    font-family: \"Source Code Pro\", \"Menlo\", monospace;;\n",
       "    font-size: 13px;\n",
       "    color: #555;\n",
       "    margin-left: 4px;\n",
       "    line-height: 19px;\n",
       "  }\n",
       "</style>\n",
       "<div class=\"ansiout\">+--------------------+----------------+-----------+-----------------+\n",
       "             regione|attuali_positivi|popolazione|positivi_per_100k|\n",
       "+--------------------+----------------+-----------+-----------------+\n",
       "            Campania|           91388|    5712143|             1599|\n",
       "              Puglia|           47592|    3953305|             1203|\n",
       "          Basilicata|            6230|     553254|             1126|\n",
       "            Sardegna|           17093|    1611621|             1060|\n",
       "      Emilia-Romagna|           44356|    4464119|              993|\n",
       "            Calabria|           15214|    1894110|              803|\n",
       "               Lazio|           44696|    5755700|              776|\n",
       "             Abruzzo|            8383|    1293941|              647|\n",
       "Friuli Venezia Gi...|            7578|    1206216|              628|\n",
       "       Valle d&#39;Aosta|             749|     125034|              599|\n",
       "             Toscana|           20669|    3692555|              559|\n",
       "           Lombardia|           52485|   10027602|              523|\n",
       "             Sicilia|           24896|    4875290|              510|\n",
       "              Veneto|           21892|    4879133|              448|\n",
       "              Marche|            6202|    1512672|              410|\n",
       "            Piemonte|           15699|    4311217|              364|\n",
       "             Liguria|            5471|    1524826|              358|\n",
       "              Umbria|            2933|     870165|              337|\n",
       "              Molise|             629|     300516|              209|\n",
       "              Trento|            1076|     545425|              197|\n",
       "             Bolzano|            1039|     532644|              195|\n",
       "+--------------------+----------------+-----------+-----------------+\n",
       "\n",
       "</div>"
      ]
     },
     "metadata": {
      "application/vnd.databricks.v1+output": {
       "addedWidgets": {},
       "arguments": {},
       "data": "<div class=\"ansiout\">+--------------------+----------------+-----------+-----------------+\n|             regione|attuali_positivi|popolazione|positivi_per_100k|\n+--------------------+----------------+-----------+-----------------+\n|            Campania|           91388|    5712143|             1599|\n|              Puglia|           47592|    3953305|             1203|\n|          Basilicata|            6230|     553254|             1126|\n|            Sardegna|           17093|    1611621|             1060|\n|      Emilia-Romagna|           44356|    4464119|              993|\n|            Calabria|           15214|    1894110|              803|\n|               Lazio|           44696|    5755700|              776|\n|             Abruzzo|            8383|    1293941|              647|\n|Friuli Venezia Gi...|            7578|    1206216|              628|\n|       Valle d&#39;Aosta|             749|     125034|              599|\n|             Toscana|           20669|    3692555|              559|\n|           Lombardia|           52485|   10027602|              523|\n|             Sicilia|           24896|    4875290|              510|\n|              Veneto|           21892|    4879133|              448|\n|              Marche|            6202|    1512672|              410|\n|            Piemonte|           15699|    4311217|              364|\n|             Liguria|            5471|    1524826|              358|\n|              Umbria|            2933|     870165|              337|\n|              Molise|             629|     300516|              209|\n|              Trento|            1076|     545425|              197|\n|             Bolzano|            1039|     532644|              195|\n+--------------------+----------------+-----------+-----------------+\n\n</div>",
       "datasetInfos": [],
       "removedWidgets": [],
       "type": "html"
      }
     },
     "output_type": "display_data"
    }
   ],
   "source": [
    "attuali_positivi_regione = dati_covid_regioni.where(col(\"data\") >= current_date() - expr(\"INTERVAL 1 days\")) \\\n",
    "                                             .select('denominazione_regione', 'totale_positivi') \\\n",
    "                                             .withColumnRenamed('denominazione_regione', 'regione') \\\n",
    "                                             .withColumnRenamed('totale_positivi', 'attuali_positivi')\n",
    "\n",
    "popolazione = popolazione_regioni.groupBy('denominazione_regione') \\\n",
    "                                 .sum('totale_generale')\n",
    "\n",
    "cond = [popolazione.denominazione_regione == attuali_positivi_regione.regione]\n",
    "attuali_positivi_regione = attuali_positivi_regione.join(popolazione, cond, how='left') \\\n",
    "                                                   .drop('denominazione_regione') \\\n",
    "                                                   .withColumnRenamed('sum(totale_generale)', 'popolazione') \\\n",
    "                                                   .orderBy('regione')\n",
    "\n",
    "attuali_positivi_regione = attuali_positivi_regione.withColumn('positivi_per_100k', (attuali_positivi_regione.attuali_positivi / attuali_positivi_regione.popolazione * 100000).cast('int')) \\\n",
    "                                                   .orderBy('positivi_per_100k', ascending=False)\n",
    "\n",
    "attuali_positivi_regione.show(21)"
   ]
  },
  {
   "cell_type": "markdown",
   "metadata": {
    "application/vnd.databricks.v1+cell": {
     "inputWidgets": {},
     "nuid": "e6d5fba2-6335-4148-a508-bf4613a66e52",
     "showTitle": false,
     "title": ""
    }
   },
   "source": [
    "#### Casi Covid-19 per Mese"
   ]
  },
  {
   "cell_type": "code",
   "execution_count": 0,
   "metadata": {
    "application/vnd.databricks.v1+cell": {
     "inputWidgets": {},
     "nuid": "408325c8-a98f-4ee0-86b6-27cad923f8c5",
     "showTitle": false,
     "title": ""
    }
   },
   "outputs": [
    {
     "data": {
      "text/html": [
       "<style scoped>\n",
       "  .ansiout {\n",
       "    display: block;\n",
       "    unicode-bidi: embed;\n",
       "    white-space: pre-wrap;\n",
       "    word-wrap: break-word;\n",
       "    word-break: break-all;\n",
       "    font-family: \"Source Code Pro\", \"Menlo\", monospace;;\n",
       "    font-size: 13px;\n",
       "    color: #555;\n",
       "    margin-left: 4px;\n",
       "    line-height: 19px;\n",
       "  }\n",
       "</style>\n",
       "<div class=\"ansiout\"></div>"
      ]
     },
     "metadata": {
      "application/vnd.databricks.v1+output": {
       "addedWidgets": {},
       "arguments": {},
       "data": "<div class=\"ansiout\"></div>",
       "datasetInfos": [],
       "removedWidgets": [],
       "type": "html"
      }
     },
     "output_type": "display_data"
    }
   ],
   "source": [
    "casi_mensili = dati_covid_regioni.select(date_format('data','yyyy-MM').alias('mese'), 'nuovi_positivi') \\\n",
    "                  .groupby('mese') \\\n",
    "                  .sum('nuovi_positivi') \\\n",
    "                  .withColumnRenamed('sum(nuovi_positivi)', 'casi')"
   ]
  },
  {
   "cell_type": "code",
   "execution_count": 0,
   "metadata": {
    "application/vnd.databricks.v1+cell": {
     "inputWidgets": {},
     "nuid": "a14bf7f8-d9ba-41ba-b41f-fcc6869b9b4a",
     "showTitle": false,
     "title": ""
    }
   },
   "outputs": [
    {
     "data": {
      "text/html": [
       "<style scoped>\n",
       "  .ansiout {\n",
       "    display: block;\n",
       "    unicode-bidi: embed;\n",
       "    white-space: pre-wrap;\n",
       "    word-wrap: break-word;\n",
       "    word-break: break-all;\n",
       "    font-family: \"Source Code Pro\", \"Menlo\", monospace;;\n",
       "    font-size: 13px;\n",
       "    color: #555;\n",
       "    margin-left: 4px;\n",
       "    line-height: 19px;\n",
       "  }\n",
       "</style>\n",
       "<div class=\"ansiout\"></div>"
      ]
     },
     "metadata": {
      "application/vnd.databricks.v1+output": {
       "addedWidgets": {},
       "arguments": {},
       "data": "<div class=\"ansiout\"></div>",
       "datasetInfos": [],
       "removedWidgets": [],
       "type": "html"
      }
     },
     "output_type": "display_data"
    }
   ],
   "source": [
    "tamponi_mensili = dati_covid_regioni.select(date_format('data','yyyy-MM').alias('mese'), 'denominazione_regione', 'tamponi') \\\n",
    "                                    .groupby('mese', 'denominazione_regione') \\\n",
    "                                    .max('tamponi') \\\n",
    "                                    .groupby('mese') \\\n",
    "                                    .sum('max(tamponi)') \\\n",
    "                                    .withColumnRenamed('sum(max(tamponi))', 'tamponi')\n",
    "\n",
    "my_window = Window.partitionBy().orderBy(\"mese\") \n",
    "\n",
    "tamponi_mensili = tamponi_mensili.withColumn(\"prev_value\", lag(tamponi_mensili.tamponi) \\\n",
    "                                 .over(my_window)) \n",
    "tamponi_mensili = tamponi_mensili.withColumn(\"diff\", when(isnull(tamponi_mensili.tamponi - tamponi_mensili.prev_value), tamponi_mensili.tamponi).otherwise(tamponi_mensili.tamponi - tamponi_mensili.prev_value)) \\\n",
    "                                 .drop('tamponi', 'prev_value') \\\n",
    "                                 .withColumnRenamed('diff', 'tamponi')"
   ]
  },
  {
   "cell_type": "code",
   "execution_count": 0,
   "metadata": {
    "application/vnd.databricks.v1+cell": {
     "inputWidgets": {},
     "nuid": "55c868f5-99ae-4318-a6b4-e43246534230",
     "showTitle": false,
     "title": ""
    }
   },
   "outputs": [
    {
     "data": {
      "text/html": [
       "<style scoped>\n",
       "  .ansiout {\n",
       "    display: block;\n",
       "    unicode-bidi: embed;\n",
       "    white-space: pre-wrap;\n",
       "    word-wrap: break-word;\n",
       "    word-break: break-all;\n",
       "    font-family: \"Source Code Pro\", \"Menlo\", monospace;;\n",
       "    font-size: 13px;\n",
       "    color: #555;\n",
       "    margin-left: 4px;\n",
       "    line-height: 19px;\n",
       "  }\n",
       "</style>\n",
       "<div class=\"ansiout\">+-------+------+-------+----------------------------+\n",
       "   mese|  casi|tamponi|percentuale_tamponi_positivi|\n",
       "+-------+------+-------+----------------------------+\n",
       "2021-04|439446|8677255|           5.064343504944825|\n",
       "2021-03|648200|9769610|           6.634860552263601|\n",
       "2021-02|372503|7466161|           4.989217350121435|\n",
       "2021-01|445585|5948709|          7.4904487679595695|\n",
       "2020-12|508914|4772918|          10.662533904835575|\n",
       "2020-11|922206|6160638|          14.969326228874348|\n",
       "2020-10|364607|4450539|           8.192423434554781|\n",
       "2020-09| 45623|2689063|          1.6966132812805055|\n",
       "2020-08| 21702|1831746|          1.1847712510358968|\n",
       "2020-07|  7006|1423003|          0.4923390885331935|\n",
       "2020-06|  7584|1511371|          0.5017960513996894|\n",
       "2020-05| 27556|1899522|          1.4506807502097896|\n",
       "2020-04| 99671|1472249|           6.769982523336745|\n",
       "2020-03|104664| 488307|          21.434056853577772|\n",
       "2020-02|  1120|  18661|           6.001821981673007|\n",
       "+-------+------+-------+----------------------------+\n",
       "\n",
       "</div>"
      ]
     },
     "metadata": {
      "application/vnd.databricks.v1+output": {
       "addedWidgets": {},
       "arguments": {},
       "data": "<div class=\"ansiout\">+-------+------+-------+----------------------------+\n|   mese|  casi|tamponi|percentuale_tamponi_positivi|\n+-------+------+-------+----------------------------+\n|2021-04|439446|8677255|           5.064343504944825|\n|2021-03|648200|9769610|           6.634860552263601|\n|2021-02|372503|7466161|           4.989217350121435|\n|2021-01|445585|5948709|          7.4904487679595695|\n|2020-12|508914|4772918|          10.662533904835575|\n|2020-11|922206|6160638|          14.969326228874348|\n|2020-10|364607|4450539|           8.192423434554781|\n|2020-09| 45623|2689063|          1.6966132812805055|\n|2020-08| 21702|1831746|          1.1847712510358968|\n|2020-07|  7006|1423003|          0.4923390885331935|\n|2020-06|  7584|1511371|          0.5017960513996894|\n|2020-05| 27556|1899522|          1.4506807502097896|\n|2020-04| 99671|1472249|           6.769982523336745|\n|2020-03|104664| 488307|          21.434056853577772|\n|2020-02|  1120|  18661|           6.001821981673007|\n+-------+------+-------+----------------------------+\n\n</div>",
       "datasetInfos": [],
       "removedWidgets": [],
       "type": "html"
      }
     },
     "output_type": "display_data"
    }
   ],
   "source": [
    "panoramica_mensile = casi_mensili.join(tamponi_mensili, on='mese') \\\n",
    "                                 .orderBy('mese', ascending=False)\n",
    "\n",
    "panoramica_mensile = panoramica_mensile.withColumn('percentuale_tamponi_positivi', panoramica_mensile.casi / panoramica_mensile.tamponi * 100)\n",
    "\n",
    "panoramica_mensile.show()\n",
    "\n",
    "# path = \"dbfs:/FileStore/gu.dichiara@studenti.unina.it/panoramica_mensile.csv\"\n",
    "# panoramica_mensile.write.csv(path, mode='overwrite', sep=',', header=True)"
   ]
  },
  {
   "cell_type": "markdown",
   "metadata": {
    "application/vnd.databricks.v1+cell": {
     "inputWidgets": {},
     "nuid": "d2b5a6f1-c67e-40b1-aa72-d309612fc694",
     "showTitle": false,
     "title": ""
    }
   },
   "source": [
    "#### Dati Critici per Mese"
   ]
  },
  {
   "cell_type": "code",
   "execution_count": 0,
   "metadata": {
    "application/vnd.databricks.v1+cell": {
     "inputWidgets": {},
     "nuid": "ee389a3e-5ba2-4c89-a23b-91adb7a89b63",
     "showTitle": false,
     "title": ""
    }
   },
   "outputs": [
    {
     "data": {
      "text/html": [
       "<style scoped>\n",
       "  .ansiout {\n",
       "    display: block;\n",
       "    unicode-bidi: embed;\n",
       "    white-space: pre-wrap;\n",
       "    word-wrap: break-word;\n",
       "    word-break: break-all;\n",
       "    font-family: \"Source Code Pro\", \"Menlo\", monospace;;\n",
       "    font-size: 13px;\n",
       "    color: #555;\n",
       "    margin-left: 4px;\n",
       "    line-height: 19px;\n",
       "  }\n",
       "</style>\n",
       "<div class=\"ansiout\"></div>"
      ]
     },
     "metadata": {
      "application/vnd.databricks.v1+output": {
       "addedWidgets": {},
       "arguments": {},
       "data": "<div class=\"ansiout\"></div>",
       "datasetInfos": [],
       "removedWidgets": [],
       "type": "html"
      }
     },
     "output_type": "display_data"
    }
   ],
   "source": [
    "decessi_mensili = dati_covid_regioni.select(date_format('data','yyyy-MM').alias('mese'), 'denominazione_regione', 'deceduti') \\\n",
    "                                    .groupby('mese', 'denominazione_regione') \\\n",
    "                                    .max('deceduti') \\\n",
    "                                    .groupby('mese') \\\n",
    "                                    .sum('max(deceduti)') \\\n",
    "                                    .withColumnRenamed('sum(max(deceduti))', 'deceduti')\n",
    "\n",
    "my_window = Window.partitionBy().orderBy(\"mese\") \n",
    "\n",
    "decessi_mensili = decessi_mensili.withColumn(\"prev_value\", lag(decessi_mensili.deceduti) \\\n",
    "                                 .over(my_window)) \n",
    "decessi_mensili = decessi_mensili.withColumn(\"diff\", when(isnull(decessi_mensili.deceduti - decessi_mensili.prev_value), decessi_mensili.deceduti).otherwise(decessi_mensili.deceduti - decessi_mensili.prev_value)) \\\n",
    "                                 .drop('deceduti', 'prev_value') \\\n",
    "                                 .withColumnRenamed('diff', 'deceduti')"
   ]
  },
  {
   "cell_type": "code",
   "execution_count": 0,
   "metadata": {
    "application/vnd.databricks.v1+cell": {
     "inputWidgets": {},
     "nuid": "f2deb6f7-a508-450e-9b1e-07adb041f5eb",
     "showTitle": false,
     "title": ""
    }
   },
   "outputs": [
    {
     "data": {
      "text/html": [
       "<style scoped>\n",
       "  .ansiout {\n",
       "    display: block;\n",
       "    unicode-bidi: embed;\n",
       "    white-space: pre-wrap;\n",
       "    word-wrap: break-word;\n",
       "    word-break: break-all;\n",
       "    font-family: \"Source Code Pro\", \"Menlo\", monospace;;\n",
       "    font-size: 13px;\n",
       "    color: #555;\n",
       "    margin-left: 4px;\n",
       "    line-height: 19px;\n",
       "  }\n",
       "</style>\n",
       "<div class=\"ansiout\"></div>"
      ]
     },
     "metadata": {
      "application/vnd.databricks.v1+output": {
       "addedWidgets": {},
       "arguments": {},
       "data": "<div class=\"ansiout\"></div>",
       "datasetInfos": [],
       "removedWidgets": [],
       "type": "html"
      }
     },
     "output_type": "display_data"
    }
   ],
   "source": [
    "terapie_intensive_mensili = dati_covid_regioni.select('data', 'terapia_intensiva') \\\n",
    "                  .groupby('data') \\\n",
    "                  .sum('terapia_intensiva') \\\n",
    "                  .select(date_format('data','yyyy-MM').alias('mese'), 'sum(terapia_intensiva)') \\\n",
    "                  .groupby('mese') \\\n",
    "                  .mean('sum(terapia_intensiva)') \\\n",
    "                  .withColumnRenamed('avg(sum(terapia_intensiva))', 'media_terapia_intensiva')\n",
    "\n",
    "terapie_intensive_mensili = terapie_intensive_mensili.withColumn('media_terapia_intensiva', terapie_intensive_mensili.media_terapia_intensiva.cast('int'))"
   ]
  },
  {
   "cell_type": "code",
   "execution_count": 0,
   "metadata": {
    "application/vnd.databricks.v1+cell": {
     "inputWidgets": {},
     "nuid": "537fb439-3893-4e64-83bc-0754daecdaee",
     "showTitle": false,
     "title": ""
    }
   },
   "outputs": [
    {
     "data": {
      "text/html": [
       "<style scoped>\n",
       "  .ansiout {\n",
       "    display: block;\n",
       "    unicode-bidi: embed;\n",
       "    white-space: pre-wrap;\n",
       "    word-wrap: break-word;\n",
       "    word-break: break-all;\n",
       "    font-family: \"Source Code Pro\", \"Menlo\", monospace;;\n",
       "    font-size: 13px;\n",
       "    color: #555;\n",
       "    margin-left: 4px;\n",
       "    line-height: 19px;\n",
       "  }\n",
       "</style>\n",
       "<div class=\"ansiout\">+-------+--------+------+-----------------------+\n",
       "   mese|deceduti|  casi|media_terapia_intensiva|\n",
       "+-------+--------+------+-----------------------+\n",
       "2020-02|      29|  1120|                     53|\n",
       "2020-03|   12399|104664|                   1985|\n",
       "2020-04|   15539| 99671|                   2975|\n",
       "2020-05|    5458| 27556|                    882|\n",
       "2020-06|    1406|  7584|                    207|\n",
       "2020-07|     311|  7006|                     57|\n",
       "2020-08|     341| 21702|                     58|\n",
       "2020-09|     411| 45623|                    194|\n",
       "2020-10|    2724|364607|                    785|\n",
       "2020-11|   16958|922206|                   3231|\n",
       "2020-12|   18583|508914|                   3005|\n",
       "2021-01|   14357|445585|                   2483|\n",
       "2021-02|    9183|372503|                   2128|\n",
       "2021-03|   11647|648200|                   3127|\n",
       "2021-04|   11461|439446|                   3306|\n",
       "+-------+--------+------+-----------------------+\n",
       "\n",
       "</div>"
      ]
     },
     "metadata": {
      "application/vnd.databricks.v1+output": {
       "addedWidgets": {},
       "arguments": {},
       "data": "<div class=\"ansiout\">+-------+--------+------+-----------------------+\n|   mese|deceduti|  casi|media_terapia_intensiva|\n+-------+--------+------+-----------------------+\n|2020-02|      29|  1120|                     53|\n|2020-03|   12399|104664|                   1985|\n|2020-04|   15539| 99671|                   2975|\n|2020-05|    5458| 27556|                    882|\n|2020-06|    1406|  7584|                    207|\n|2020-07|     311|  7006|                     57|\n|2020-08|     341| 21702|                     58|\n|2020-09|     411| 45623|                    194|\n|2020-10|    2724|364607|                    785|\n|2020-11|   16958|922206|                   3231|\n|2020-12|   18583|508914|                   3005|\n|2021-01|   14357|445585|                   2483|\n|2021-02|    9183|372503|                   2128|\n|2021-03|   11647|648200|                   3127|\n|2021-04|   11461|439446|                   3306|\n+-------+--------+------+-----------------------+\n\n</div>",
       "datasetInfos": [],
       "removedWidgets": [],
       "type": "html"
      }
     },
     "output_type": "display_data"
    }
   ],
   "source": [
    "dati_critici_mensili = decessi_mensili.join(casi_mensili, on='mese') \\\n",
    "                                      .join(terapie_intensive_mensili, on='mese') \\\n",
    "                                      .orderBy('mese')\n",
    "\n",
    "dati_critici_mensili.show()"
   ]
  },
  {
   "cell_type": "markdown",
   "metadata": {
    "application/vnd.databricks.v1+cell": {
     "inputWidgets": {},
     "nuid": "d9391aa7-8106-499d-b9e5-831051911344",
     "showTitle": false,
     "title": ""
    }
   },
   "source": [
    "### Dati Vaccini"
   ]
  },
  {
   "cell_type": "markdown",
   "metadata": {
    "application/vnd.databricks.v1+cell": {
     "inputWidgets": {},
     "nuid": "d71f2405-1afd-41e5-9a11-eb8d46b519c6",
     "showTitle": false,
     "title": ""
    }
   },
   "source": [
    "#### Dosi Somministrate per Regione"
   ]
  },
  {
   "cell_type": "code",
   "execution_count": 0,
   "metadata": {
    "application/vnd.databricks.v1+cell": {
     "inputWidgets": {},
     "nuid": "e71fd5a2-c148-4655-a584-e36f6acb7808",
     "showTitle": false,
     "title": ""
    }
   },
   "outputs": [
    {
     "data": {
      "text/html": [
       "<style scoped>\n",
       "  .ansiout {\n",
       "    display: block;\n",
       "    unicode-bidi: embed;\n",
       "    white-space: pre-wrap;\n",
       "    word-wrap: break-word;\n",
       "    word-break: break-all;\n",
       "    font-family: \"Source Code Pro\", \"Menlo\", monospace;;\n",
       "    font-size: 13px;\n",
       "    color: #555;\n",
       "    margin-left: 4px;\n",
       "    line-height: 19px;\n",
       "  }\n",
       "</style>\n",
       "<div class=\"ansiout\">+--------------------+--------------------+----------------------+-----------+----------------------+------------------------+\n",
       "             regione|vaccinati_prima_dose|vaccinati_seconda_dose|popolazione|percentuale_prima_dose|percentuale_seconda_dose|\n",
       "+--------------------+--------------------+----------------------+-----------+----------------------+------------------------+\n",
       "             Abruzzo|              315821|                126627|    1293941|    24.407681648545026|       9.786149445762984|\n",
       "          Basilicata|              131193|                 54155|     553254|     23.71297812577948|       9.788451597277199|\n",
       "             Bolzano|              136324|                 51672|     532644|    25.593830025307714|       9.701038592380652|\n",
       "            Calabria|              379280|                161775|    1894110|    20.024180221845615|       8.540950631167146|\n",
       "            Campania|             1237505|                477110|    5712143|    21.664461131312716|       8.352557000061097|\n",
       "      Emilia-Romagna|             1110377|                532111|    4464119|     24.87337367126638|      11.919731530454273|\n",
       "Friuli Venezia Gi...|              283762|                135626|    1206216|     23.52497396817817|      11.243923144776723|\n",
       "               Lazio|             1324507|                590965|    5755700|    23.012092360616432|      10.267473982313186|\n",
       "             Liguria|              423584|                190865|    1524826|     27.77916955770691|      12.517165893026483|\n",
       "           Lombardia|             2419930|                955480|   10027602|    24.132688951954815|       9.528499435857148|\n",
       "              Marche|              400176|                153045|    1512672|    26.454908929364727|       10.11752713079901|\n",
       "              Molise|               75377|                 40223|     300516|     25.08252472414114|      13.384645077133998|\n",
       "            Piemonte|             1088512|                460401|    4311217|    25.248369543913007|      10.679142339622432|\n",
       "              Puglia|              968258|                317182|    3953305|     24.49236777835254|        8.02321095893183|\n",
       "            Sardegna|              354594|                152565|    1611621|    22.002319403879696|       9.466555722468248|\n",
       "             Sicilia|              986820|                445884|    4875290|     20.24125744314697|       9.145794404025196|\n",
       "             Toscana|              878416|                390248|    3692555|     23.78883997665573|      10.568508796754552|\n",
       "              Trento|              135223|                 42070|     545425|    24.792226245588303|       7.713251134436448|\n",
       "              Umbria|              215876|                 90102|     870165|     24.80862824866548|      10.354587922980125|\n",
       "       Valle d&#39;Aosta|               33188|                 12352|     125034|     26.54318025497065|       9.878912935681495|\n",
       "              Veneto|             1153470|                516416|    4879133|    23.640880459704626|      10.584175508230663|\n",
       "+--------------------+--------------------+----------------------+-----------+----------------------+------------------------+\n",
       "\n",
       "</div>"
      ]
     },
     "metadata": {
      "application/vnd.databricks.v1+output": {
       "addedWidgets": {},
       "arguments": {},
       "data": "<div class=\"ansiout\">+--------------------+--------------------+----------------------+-----------+----------------------+------------------------+\n|             regione|vaccinati_prima_dose|vaccinati_seconda_dose|popolazione|percentuale_prima_dose|percentuale_seconda_dose|\n+--------------------+--------------------+----------------------+-----------+----------------------+------------------------+\n|             Abruzzo|              315821|                126627|    1293941|    24.407681648545026|       9.786149445762984|\n|          Basilicata|              131193|                 54155|     553254|     23.71297812577948|       9.788451597277199|\n|             Bolzano|              136324|                 51672|     532644|    25.593830025307714|       9.701038592380652|\n|            Calabria|              379280|                161775|    1894110|    20.024180221845615|       8.540950631167146|\n|            Campania|             1237505|                477110|    5712143|    21.664461131312716|       8.352557000061097|\n|      Emilia-Romagna|             1110377|                532111|    4464119|     24.87337367126638|      11.919731530454273|\n|Friuli Venezia Gi...|              283762|                135626|    1206216|     23.52497396817817|      11.243923144776723|\n|               Lazio|             1324507|                590965|    5755700|    23.012092360616432|      10.267473982313186|\n|             Liguria|              423584|                190865|    1524826|     27.77916955770691|      12.517165893026483|\n|           Lombardia|             2419930|                955480|   10027602|    24.132688951954815|       9.528499435857148|\n|              Marche|              400176|                153045|    1512672|    26.454908929364727|       10.11752713079901|\n|              Molise|               75377|                 40223|     300516|     25.08252472414114|      13.384645077133998|\n|            Piemonte|             1088512|                460401|    4311217|    25.248369543913007|      10.679142339622432|\n|              Puglia|              968258|                317182|    3953305|     24.49236777835254|        8.02321095893183|\n|            Sardegna|              354594|                152565|    1611621|    22.002319403879696|       9.466555722468248|\n|             Sicilia|              986820|                445884|    4875290|     20.24125744314697|       9.145794404025196|\n|             Toscana|              878416|                390248|    3692555|     23.78883997665573|      10.568508796754552|\n|              Trento|              135223|                 42070|     545425|    24.792226245588303|       7.713251134436448|\n|              Umbria|              215876|                 90102|     870165|     24.80862824866548|      10.354587922980125|\n|       Valle d&#39;Aosta|               33188|                 12352|     125034|     26.54318025497065|       9.878912935681495|\n|              Veneto|             1153470|                516416|    4879133|    23.640880459704626|      10.584175508230663|\n+--------------------+--------------------+----------------------+-----------+----------------------+------------------------+\n\n</div>",
       "datasetInfos": [],
       "removedWidgets": [],
       "type": "html"
      }
     },
     "output_type": "display_data"
    }
   ],
   "source": [
    "dosi_somministrate_regione = dati_vaccini_somministrazioni.groupBy('nome_area') \\\n",
    "                                                          .sum('prima_dose', 'seconda_dose') \\\n",
    "                                                          .orderBy('nome_area') \\\n",
    "                                                          .withColumnRenamed('nome_area', 'regione') \\\n",
    "                                                          .withColumnRenamed('sum(prima_dose)', 'vaccinati_prima_dose') \\\n",
    "                                                          .withColumnRenamed('sum(seconda_dose)', 'vaccinati_seconda_dose')\n",
    "\n",
    "popolazione = popolazione_regioni.groupBy('denominazione_regione').sum('totale_generale')\n",
    "\n",
    "cond = [popolazione.denominazione_regione == dosi_somministrate_regione.regione]\n",
    "dosi_somministrate_regione = dosi_somministrate_regione.join(popolazione, cond, how='left') \\\n",
    "                                                       .drop('denominazione_regione') \\\n",
    "                                                       .withColumnRenamed('sum(totale_generale)', 'popolazione') \\\n",
    "                                                       .orderBy('regione')\n",
    "\n",
    "dosi_somministrate_regione = dosi_somministrate_regione.withColumn('percentuale_prima_dose', dosi_somministrate_regione.vaccinati_prima_dose / dosi_somministrate_regione.popolazione * 100)\n",
    "dosi_somministrate_regione = dosi_somministrate_regione.withColumn('percentuale_seconda_dose', dosi_somministrate_regione.vaccinati_seconda_dose / dosi_somministrate_regione.popolazione * 100)\n",
    "\n",
    "dosi_somministrate_regione.show(21)"
   ]
  },
  {
   "cell_type": "markdown",
   "metadata": {
    "application/vnd.databricks.v1+cell": {
     "inputWidgets": {},
     "nuid": "23337d7f-c2d7-4cbe-b787-2b80691034a3",
     "showTitle": false,
     "title": ""
    }
   },
   "source": [
    "#### Dosi Somministrate per Fascia Anagrafica"
   ]
  },
  {
   "cell_type": "code",
   "execution_count": 0,
   "metadata": {
    "application/vnd.databricks.v1+cell": {
     "inputWidgets": {},
     "nuid": "f237c53e-8051-4dcd-bd48-664402ca42b9",
     "showTitle": false,
     "title": ""
    }
   },
   "outputs": [
    {
     "data": {
      "text/html": [
       "<style scoped>\n",
       "  .ansiout {\n",
       "    display: block;\n",
       "    unicode-bidi: embed;\n",
       "    white-space: pre-wrap;\n",
       "    word-wrap: break-word;\n",
       "    word-break: break-all;\n",
       "    font-family: \"Source Code Pro\", \"Menlo\", monospace;;\n",
       "    font-size: 13px;\n",
       "    color: #555;\n",
       "    margin-left: 4px;\n",
       "    line-height: 19px;\n",
       "  }\n",
       "</style>\n",
       "<div class=\"ansiout\">+-----------------+--------------------+----------------------+-----------+----------------------+------------------------+\n",
       "fascia_anagrafica|vaccinati_prima_dose|vaccinati_seconda_dose|popolazione|percentuale_prima_dose|percentuale_seconda_dose|\n",
       "+-----------------+--------------------+----------------------+-----------+----------------------+------------------------+\n",
       "            16-19|               28153|                  9250|    2298846|    1.2246579370692947|     0.40237580072784346|\n",
       "            20-29|              567939|                286377|    6084382|     9.334374468927164|        4.70675575596667|\n",
       "            30-39|              820538|                382754|    6854632|    11.970562387594258|       5.583873795121313|\n",
       "            40-49|             1203438|                494618|    8937229|     13.46544885444918|       5.534355223526219|\n",
       "            50-59|             1678332|                679190|    9414195|    17.827674060288746|       7.214530822869082|\n",
       "            60-69|             2287448|                570961|    7364364|     31.06103935112387|      7.7530252442709235|\n",
       "            70-79|             3603044|                538469|    5968373|    60.368948120367136|       9.022040009898845|\n",
       "            80-89|             3157181|               2413368|    3628160|     87.01879189451402|       66.51768389486682|\n",
       "              90+|              706120|                521887|     791543|     89.20804049811571|       65.93286782903772|\n",
       "+-----------------+--------------------+----------------------+-----------+----------------------+------------------------+\n",
       "\n",
       "</div>"
      ]
     },
     "metadata": {
      "application/vnd.databricks.v1+output": {
       "addedWidgets": {},
       "arguments": {},
       "data": "<div class=\"ansiout\">+-----------------+--------------------+----------------------+-----------+----------------------+------------------------+\n|fascia_anagrafica|vaccinati_prima_dose|vaccinati_seconda_dose|popolazione|percentuale_prima_dose|percentuale_seconda_dose|\n+-----------------+--------------------+----------------------+-----------+----------------------+------------------------+\n|            16-19|               28153|                  9250|    2298846|    1.2246579370692947|     0.40237580072784346|\n|            20-29|              567939|                286377|    6084382|     9.334374468927164|        4.70675575596667|\n|            30-39|              820538|                382754|    6854632|    11.970562387594258|       5.583873795121313|\n|            40-49|             1203438|                494618|    8937229|     13.46544885444918|       5.534355223526219|\n|            50-59|             1678332|                679190|    9414195|    17.827674060288746|       7.214530822869082|\n|            60-69|             2287448|                570961|    7364364|     31.06103935112387|      7.7530252442709235|\n|            70-79|             3603044|                538469|    5968373|    60.368948120367136|       9.022040009898845|\n|            80-89|             3157181|               2413368|    3628160|     87.01879189451402|       66.51768389486682|\n|              90+|              706120|                521887|     791543|     89.20804049811571|       65.93286782903772|\n+-----------------+--------------------+----------------------+-----------+----------------------+------------------------+\n\n</div>",
       "datasetInfos": [],
       "removedWidgets": [],
       "type": "html"
      }
     },
     "output_type": "display_data"
    }
   ],
   "source": [
    "dosi_somministrate_fascia = dati_vaccini_somministrazioni.groupBy('fascia_anagrafica') \\\n",
    "                                                          .sum('prima_dose', 'seconda_dose') \\\n",
    "                                                          .orderBy('fascia_anagrafica') \\\n",
    "                                                          .withColumnRenamed('sum(prima_dose)', 'vaccinati_prima_dose') \\\n",
    "                                                          .withColumnRenamed('sum(seconda_dose)', 'vaccinati_seconda_dose')\n",
    "\n",
    "popolazione = popolazione_regioni.groupBy('range_eta').sum('totale_generale')\n",
    "\n",
    "cond = [popolazione.range_eta == dosi_somministrate_fascia.fascia_anagrafica]\n",
    "dosi_somministrate_fascia = dosi_somministrate_fascia.join(popolazione, cond, how='left') \\\n",
    "                                                       .withColumnRenamed('sum(totale_generale)', 'popolazione') \\\n",
    "                                                       .drop('range_eta') \\\n",
    "                                                       .orderBy('fascia_anagrafica')\n",
    "\n",
    "dosi_somministrate_fascia = dosi_somministrate_fascia.withColumn('percentuale_prima_dose', dosi_somministrate_fascia.vaccinati_prima_dose / dosi_somministrate_fascia.popolazione * 100)\n",
    "dosi_somministrate_fascia = dosi_somministrate_fascia.withColumn('percentuale_seconda_dose', dosi_somministrate_fascia.vaccinati_seconda_dose / dosi_somministrate_fascia.popolazione * 100)\n",
    "\n",
    "dosi_somministrate_fascia.show(9)"
   ]
  },
  {
   "cell_type": "markdown",
   "metadata": {
    "application/vnd.databricks.v1+cell": {
     "inputWidgets": {},
     "nuid": "77813be1-f878-4c78-90ec-853f55709bc0",
     "showTitle": false,
     "title": ""
    }
   },
   "source": [
    "#### Dosi Somministrate per Regione e Fascia Anagrafica"
   ]
  },
  {
   "cell_type": "code",
   "execution_count": 0,
   "metadata": {
    "application/vnd.databricks.v1+cell": {
     "inputWidgets": {},
     "nuid": "de6bbe40-128d-4e03-af40-06252d5dc65c",
     "showTitle": false,
     "title": ""
    }
   },
   "outputs": [
    {
     "data": {
      "text/html": [
       "<style scoped>\n",
       "  .ansiout {\n",
       "    display: block;\n",
       "    unicode-bidi: embed;\n",
       "    white-space: pre-wrap;\n",
       "    word-wrap: break-word;\n",
       "    word-break: break-all;\n",
       "    font-family: \"Source Code Pro\", \"Menlo\", monospace;;\n",
       "    font-size: 13px;\n",
       "    color: #555;\n",
       "    margin-left: 4px;\n",
       "    line-height: 19px;\n",
       "  }\n",
       "</style>\n",
       "<div class=\"ansiout\">+--------+-----------------+--------------------+----------------------+-----------+----------------------+------------------------+\n",
       " regione|fascia_anagrafica|vaccinati_prima_dose|vaccinati_seconda_dose|popolazione|percentuale_prima_dose|percentuale_seconda_dose|\n",
       "+--------+-----------------+--------------------+----------------------+-----------+----------------------+------------------------+\n",
       "Campania|            16-19|                3551|                  1198|     261694|    1.3569283208632983|     0.45778657516030175|\n",
       "Campania|            20-29|               53102|                 24637|     693479|      7.65733353136865|       3.552667059853291|\n",
       "Campania|            30-39|               80894|                 36263|     715258|    11.309765147680977|       5.069918826493377|\n",
       "Campania|            40-49|              117968|                 43183|     835597|    14.117810379884082|       5.167921857067462|\n",
       "Campania|            50-59|              178825|                 61567|     868684|      20.5857365854557|       7.087387358348951|\n",
       "Campania|            60-69|              276850|                 69851|     670867|     41.26749415308847|      10.412048885993796|\n",
       "Campania|            70-79|              292292|                 55668|     484380|     60.34353193773484|      11.492629753499319|\n",
       "Campania|            80-89|              198475|                160737|     255273|     77.75009499633725|       62.96670623215146|\n",
       "Campania|              90+|               35548|                 24006|      49044|     72.48185302993231|        48.9478835331539|\n",
       "+--------+-----------------+--------------------+----------------------+-----------+----------------------+------------------------+\n",
       "\n",
       "</div>"
      ]
     },
     "metadata": {
      "application/vnd.databricks.v1+output": {
       "addedWidgets": {},
       "arguments": {},
       "data": "<div class=\"ansiout\">+--------+-----------------+--------------------+----------------------+-----------+----------------------+------------------------+\n| regione|fascia_anagrafica|vaccinati_prima_dose|vaccinati_seconda_dose|popolazione|percentuale_prima_dose|percentuale_seconda_dose|\n+--------+-----------------+--------------------+----------------------+-----------+----------------------+------------------------+\n|Campania|            16-19|                3551|                  1198|     261694|    1.3569283208632983|     0.45778657516030175|\n|Campania|            20-29|               53102|                 24637|     693479|      7.65733353136865|       3.552667059853291|\n|Campania|            30-39|               80894|                 36263|     715258|    11.309765147680977|       5.069918826493377|\n|Campania|            40-49|              117968|                 43183|     835597|    14.117810379884082|       5.167921857067462|\n|Campania|            50-59|              178825|                 61567|     868684|      20.5857365854557|       7.087387358348951|\n|Campania|            60-69|              276850|                 69851|     670867|     41.26749415308847|      10.412048885993796|\n|Campania|            70-79|              292292|                 55668|     484380|     60.34353193773484|      11.492629753499319|\n|Campania|            80-89|              198475|                160737|     255273|     77.75009499633725|       62.96670623215146|\n|Campania|              90+|               35548|                 24006|      49044|     72.48185302993231|        48.9478835331539|\n+--------+-----------------+--------------------+----------------------+-----------+----------------------+------------------------+\n\n</div>",
       "datasetInfos": [],
       "removedWidgets": [],
       "type": "html"
      }
     },
     "output_type": "display_data"
    }
   ],
   "source": [
    "dosi_somministrate = dati_vaccini_somministrazioni.groupBy('nome_area', 'fascia_anagrafica') \\\n",
    "                                                  .sum('prima_dose', 'seconda_dose') \\\n",
    "                                                  .orderBy('nome_area', 'fascia_anagrafica') \\\n",
    "                                                  .withColumnRenamed('nome_area', 'regione') \\\n",
    "                                                  .withColumnRenamed('sum(prima_dose)', 'vaccinati_prima_dose') \\\n",
    "                                                  .withColumnRenamed('sum(seconda_dose)', 'vaccinati_seconda_dose')\n",
    "\n",
    "cond = [popolazione_regioni.denominazione_regione == dosi_somministrate.regione, popolazione_regioni.range_eta == dosi_somministrate.fascia_anagrafica]\n",
    "dosi_somministrate = dosi_somministrate.join(popolazione_regioni.select('denominazione_regione', 'range_eta', 'totale_generale'), cond, how='left') \\\n",
    "                                       .drop('denominazione_regione', 'range_eta') \\\n",
    "                                       .withColumnRenamed('totale_generale', 'popolazione') \\\n",
    "                                       .orderBy('regione', 'fascia_anagrafica')\n",
    "\n",
    "dosi_somministrate = dosi_somministrate.withColumn('percentuale_prima_dose', dosi_somministrate.vaccinati_prima_dose / dosi_somministrate.popolazione * 100)\n",
    "dosi_somministrate = dosi_somministrate.withColumn('percentuale_seconda_dose', dosi_somministrate.vaccinati_seconda_dose / dosi_somministrate.popolazione * 100)\n",
    "\n",
    "dosi_somministrate.where('regione == \"Campania\"').show(189)"
   ]
  },
  {
   "cell_type": "markdown",
   "metadata": {
    "application/vnd.databricks.v1+cell": {
     "inputWidgets": {},
     "nuid": "ec113676-7594-4b1f-b763-efe72ff0cc74",
     "showTitle": false,
     "title": ""
    }
   },
   "source": [
    "#### Dosi Somministrate per Fascia Anagrafica e Fornitore"
   ]
  },
  {
   "cell_type": "code",
   "execution_count": 0,
   "metadata": {
    "application/vnd.databricks.v1+cell": {
     "inputWidgets": {},
     "nuid": "1ec5596a-ae2a-4dde-b626-4d7860ec6140",
     "showTitle": false,
     "title": ""
    }
   },
   "outputs": [
    {
     "data": {
      "text/html": [
       "<style scoped>\n",
       "  .ansiout {\n",
       "    display: block;\n",
       "    unicode-bidi: embed;\n",
       "    white-space: pre-wrap;\n",
       "    word-wrap: break-word;\n",
       "    word-break: break-all;\n",
       "    font-family: \"Source Code Pro\", \"Menlo\", monospace;;\n",
       "    font-size: 13px;\n",
       "    color: #555;\n",
       "    margin-left: 4px;\n",
       "    line-height: 19px;\n",
       "  }\n",
       "</style>\n",
       "<div class=\"ansiout\">+-----------------+--------------------+----------------+\n",
       "fascia_anagrafica|           fornitore|percentuale_dosi|\n",
       "+-----------------+--------------------+----------------+\n",
       "            16-19|             Janssen|           0.032|\n",
       "            16-19|             Moderna|           7.398|\n",
       "            16-19|     Pfizer/BioNTech|          85.806|\n",
       "            16-19|Vaxzevria (AstraZ...|           6.764|\n",
       "            20-29|             Janssen|           0.176|\n",
       "            20-29|             Moderna|           4.492|\n",
       "            20-29|     Pfizer/BioNTech|           74.67|\n",
       "            20-29|Vaxzevria (AstraZ...|          20.662|\n",
       "            30-39|             Janssen|            0.16|\n",
       "            30-39|             Moderna|           4.464|\n",
       "            30-39|     Pfizer/BioNTech|          70.325|\n",
       "            30-39|Vaxzevria (AstraZ...|          25.052|\n",
       "            40-49|             Janssen|           0.118|\n",
       "            40-49|             Moderna|            4.81|\n",
       "            40-49|     Pfizer/BioNTech|          67.071|\n",
       "            40-49|Vaxzevria (AstraZ...|          28.001|\n",
       "            50-59|             Janssen|           0.086|\n",
       "            50-59|             Moderna|           5.273|\n",
       "            50-59|     Pfizer/BioNTech|          69.584|\n",
       "            50-59|Vaxzevria (AstraZ...|          25.057|\n",
       "            60-69|             Janssen|           0.711|\n",
       "            60-69|             Moderna|           6.375|\n",
       "            60-69|     Pfizer/BioNTech|          61.828|\n",
       "            60-69|Vaxzevria (AstraZ...|          31.086|\n",
       "            70-79|             Janssen|           0.734|\n",
       "            70-79|             Moderna|            7.18|\n",
       "            70-79|     Pfizer/BioNTech|           48.78|\n",
       "            70-79|Vaxzevria (AstraZ...|          43.306|\n",
       "            80-89|             Janssen|            0.01|\n",
       "            80-89|             Moderna|           9.496|\n",
       "            80-89|     Pfizer/BioNTech|          89.352|\n",
       "            80-89|Vaxzevria (AstraZ...|           1.142|\n",
       "              90+|             Janssen|           0.007|\n",
       "              90+|             Moderna|          13.803|\n",
       "              90+|     Pfizer/BioNTech|          85.511|\n",
       "              90+|Vaxzevria (AstraZ...|           0.678|\n",
       "+-----------------+--------------------+----------------+\n",
       "\n",
       "</div>"
      ]
     },
     "metadata": {
      "application/vnd.databricks.v1+output": {
       "addedWidgets": {},
       "arguments": {},
       "data": "<div class=\"ansiout\">+-----------------+--------------------+----------------+\n|fascia_anagrafica|           fornitore|percentuale_dosi|\n+-----------------+--------------------+----------------+\n|            16-19|             Janssen|           0.032|\n|            16-19|             Moderna|           7.398|\n|            16-19|     Pfizer/BioNTech|          85.806|\n|            16-19|Vaxzevria (AstraZ...|           6.764|\n|            20-29|             Janssen|           0.176|\n|            20-29|             Moderna|           4.492|\n|            20-29|     Pfizer/BioNTech|           74.67|\n|            20-29|Vaxzevria (AstraZ...|          20.662|\n|            30-39|             Janssen|            0.16|\n|            30-39|             Moderna|           4.464|\n|            30-39|     Pfizer/BioNTech|          70.325|\n|            30-39|Vaxzevria (AstraZ...|          25.052|\n|            40-49|             Janssen|           0.118|\n|            40-49|             Moderna|            4.81|\n|            40-49|     Pfizer/BioNTech|          67.071|\n|            40-49|Vaxzevria (AstraZ...|          28.001|\n|            50-59|             Janssen|           0.086|\n|            50-59|             Moderna|           5.273|\n|            50-59|     Pfizer/BioNTech|          69.584|\n|            50-59|Vaxzevria (AstraZ...|          25.057|\n|            60-69|             Janssen|           0.711|\n|            60-69|             Moderna|           6.375|\n|            60-69|     Pfizer/BioNTech|          61.828|\n|            60-69|Vaxzevria (AstraZ...|          31.086|\n|            70-79|             Janssen|           0.734|\n|            70-79|             Moderna|            7.18|\n|            70-79|     Pfizer/BioNTech|           48.78|\n|            70-79|Vaxzevria (AstraZ...|          43.306|\n|            80-89|             Janssen|            0.01|\n|            80-89|             Moderna|           9.496|\n|            80-89|     Pfizer/BioNTech|          89.352|\n|            80-89|Vaxzevria (AstraZ...|           1.142|\n|              90+|             Janssen|           0.007|\n|              90+|             Moderna|          13.803|\n|              90+|     Pfizer/BioNTech|          85.511|\n|              90+|Vaxzevria (AstraZ...|           0.678|\n+-----------------+--------------------+----------------+\n\n</div>",
       "datasetInfos": [],
       "removedWidgets": [],
       "type": "html"
      }
     },
     "output_type": "display_data"
    }
   ],
   "source": [
    "dosi_fascia_fornitore = dati_vaccini_somministrazioni.groupBy('fascia_anagrafica', 'fornitore') \\\n",
    "                                                          .sum('prima_dose', 'seconda_dose') \\\n",
    "                                                          .orderBy('fascia_anagrafica', 'fornitore') \n",
    "\n",
    "totale_dosi_somministrate_fascia = dosi_somministrate_fascia.select('fascia_anagrafica', 'vaccinati_prima_dose', 'vaccinati_seconda_dose') \\\n",
    "                                                            .withColumn('totale_dosi', dosi_somministrate_fascia.vaccinati_prima_dose + dosi_somministrate_fascia.vaccinati_seconda_dose) \\\n",
    "                                                            .drop('vaccinati_prima_dose', 'vaccinati_seconda_dose')\n",
    "\n",
    "dosi_fascia_fornitore = dosi_fascia_fornitore.join(totale_dosi_somministrate_fascia, on='fascia_anagrafica')\n",
    "\n",
    "dosi_fascia_fornitore = dosi_fascia_fornitore.withColumn('percentuale_dosi', round((dosi_fascia_fornitore['sum(prima_dose)'] + dosi_fascia_fornitore['sum(seconda_dose)']) *100 /  dosi_fascia_fornitore.totale_dosi, 3)) \\\n",
    "                                             .drop('sum(prima_dose)', 'sum(seconda_dose)', 'totale_dosi') \\\n",
    "                                             .orderBy('fascia_anagrafica', 'fornitore')\n",
    "\n",
    "dosi_fascia_fornitore.show(100)"
   ]
  },
  {
   "cell_type": "markdown",
   "metadata": {
    "application/vnd.databricks.v1+cell": {
     "inputWidgets": {},
     "nuid": "03c8dfb5-d5c2-400d-99ce-65b11804bcb1",
     "showTitle": false,
     "title": ""
    }
   },
   "source": [
    "#### Dosi Somministrate per Mese e Categoria"
   ]
  },
  {
   "cell_type": "code",
   "execution_count": 0,
   "metadata": {
    "application/vnd.databricks.v1+cell": {
     "inputWidgets": {},
     "nuid": "f783eedf-6f62-4943-b994-ba82deed8be4",
     "showTitle": false,
     "title": ""
    }
   },
   "outputs": [
    {
     "data": {
      "text/html": [
       "<style scoped>\n",
       "  .ansiout {\n",
       "    display: block;\n",
       "    unicode-bidi: embed;\n",
       "    white-space: pre-wrap;\n",
       "    word-wrap: break-word;\n",
       "    word-break: break-all;\n",
       "    font-family: \"Source Code Pro\", \"Menlo\", monospace;;\n",
       "    font-size: 13px;\n",
       "    color: #555;\n",
       "    margin-left: 4px;\n",
       "    line-height: 19px;\n",
       "  }\n",
       "</style>\n",
       "<div class=\"ansiout\"></div>"
      ]
     },
     "metadata": {
      "application/vnd.databricks.v1+output": {
       "addedWidgets": {},
       "arguments": {},
       "data": "<div class=\"ansiout\"></div>",
       "datasetInfos": [],
       "removedWidgets": [],
       "type": "html"
      }
     },
     "output_type": "display_data"
    }
   ],
   "source": [
    "dosi_somministrate_categorie_mensili = dati_vaccini_somministrazioni.select(date_format('data_somministrazione','yyyy-MM').alias('mese'), \\\n",
    "                                                                            'categoria_operatori_sanitari_sociosanitari', 'categoria_personale_non_sanitario', 'categoria_ospiti_rsa', \\\n",
    "                                                                            'categoria_60_69', 'categoria_70_79', 'categoria_over80', 'categoria_forze_armate', 'categoria_personale_scolastico', \\\n",
    "                                                                            'categoria_soggetti_fragili', 'categoria_altro') \\\n",
    "                                                                    .groupby('mese') \\\n",
    "                                                                    .agg(sum('categoria_operatori_sanitari_sociosanitari').alias('operatori_sanitari_sociosanitari'), \\\n",
    "                                                                         sum('categoria_personale_non_sanitario').alias('personale_non_sanitario'), \\\n",
    "                                                                         sum('categoria_ospiti_rsa').alias('ospiti_rsa'), \\\n",
    "                                                                         sum('categoria_60_69').alias('60_69'), \\\n",
    "                                                                         sum('categoria_70_79').alias('70_79'), \\\n",
    "                                                                         sum('categoria_over80').alias('over80'), \\\n",
    "                                                                         sum('categoria_forze_armate').alias('forze_armate'), \\\n",
    "                                                                         sum('categoria_personale_scolastico').alias('personale_scolastico'), \\\n",
    "                                                                         sum('categoria_soggetti_fragili').alias('soggetti_fragili'), \\\n",
    "                                                                         sum('categoria_altro').alias('altro')) \\\n",
    "                                                                      .orderBy('mese')\n",
    "\n",
    "# dosi_somministrate_categorie_mensili.show()"
   ]
  },
  {
   "cell_type": "code",
   "execution_count": 0,
   "metadata": {
    "application/vnd.databricks.v1+cell": {
     "inputWidgets": {},
     "nuid": "9b2eddd7-4dfa-432b-ac2c-495ecd487472",
     "showTitle": false,
     "title": ""
    }
   },
   "outputs": [
    {
     "data": {
      "text/html": [
       "<style scoped>\n",
       "  .ansiout {\n",
       "    display: block;\n",
       "    unicode-bidi: embed;\n",
       "    white-space: pre-wrap;\n",
       "    word-wrap: break-word;\n",
       "    word-break: break-all;\n",
       "    font-family: \"Source Code Pro\", \"Menlo\", monospace;;\n",
       "    font-size: 13px;\n",
       "    color: #555;\n",
       "    margin-left: 4px;\n",
       "    line-height: 19px;\n",
       "  }\n",
       "</style>\n",
       "<div class=\"ansiout\">+-------+--------------------------------+-----------------------+----------+------+------+------+------------+--------------------+----------------+-----+\n",
       "   mese|operatori_sanitari_sociosanitari|personale_non_sanitario|ospiti_rsa| 60_69| 70_79|over80|forze_armate|personale_scolastico|soggetti_fragili|altro|\n",
       "+-------+--------------------------------+-----------------------+----------+------+------+------+------------+--------------------+----------------+-----+\n",
       "2020-12|                          85.275|                   3.75|     8.193| 0.409| 0.105| 0.128|         0.0|                0.02|           0.003|2.117|\n",
       "2021-01|                          73.676|                 11.605|    10.148| 0.603| 0.226| 0.898|       0.009|               0.016|           0.007|2.811|\n",
       "2021-02|                           38.03|                 11.388|     8.972| 0.608| 0.353|27.002|       2.845|               7.462|            0.11| 3.23|\n",
       "2021-03|                          10.036|                  4.709|     2.594| 1.457| 6.731|47.339|       3.611|              14.207|           7.361|1.955|\n",
       "2021-04|                           2.594|                   1.13|     0.868|10.048|26.763|27.981|       0.438|               1.466|          27.504|1.208|\n",
       "+-------+--------------------------------+-----------------------+----------+------+------+------+------------+--------------------+----------------+-----+\n",
       "\n",
       "</div>"
      ]
     },
     "metadata": {
      "application/vnd.databricks.v1+output": {
       "addedWidgets": {},
       "arguments": {},
       "data": "<div class=\"ansiout\">+-------+--------------------------------+-----------------------+----------+------+------+------+------------+--------------------+----------------+-----+\n|   mese|operatori_sanitari_sociosanitari|personale_non_sanitario|ospiti_rsa| 60_69| 70_79|over80|forze_armate|personale_scolastico|soggetti_fragili|altro|\n+-------+--------------------------------+-----------------------+----------+------+------+------+------------+--------------------+----------------+-----+\n|2020-12|                          85.275|                   3.75|     8.193| 0.409| 0.105| 0.128|         0.0|                0.02|           0.003|2.117|\n|2021-01|                          73.676|                 11.605|    10.148| 0.603| 0.226| 0.898|       0.009|               0.016|           0.007|2.811|\n|2021-02|                           38.03|                 11.388|     8.972| 0.608| 0.353|27.002|       2.845|               7.462|            0.11| 3.23|\n|2021-03|                          10.036|                  4.709|     2.594| 1.457| 6.731|47.339|       3.611|              14.207|           7.361|1.955|\n|2021-04|                           2.594|                   1.13|     0.868|10.048|26.763|27.981|       0.438|               1.466|          27.504|1.208|\n+-------+--------------------------------+-----------------------+----------+------+------+------+------------+--------------------+----------------+-----+\n\n</div>",
       "datasetInfos": [],
       "removedWidgets": [],
       "type": "html"
      }
     },
     "output_type": "display_data"
    }
   ],
   "source": [
    "dosi_somministrate_mensili = dati_vaccini_somministrazioni.select(date_format('data_somministrazione','yyyy-MM').alias('mese'), 'prima_dose', 'seconda_dose') \\\n",
    "                                                          .groupby('mese') \\\n",
    "                                                          .sum('prima_dose', 'seconda_dose')\n",
    "\n",
    "dosi_somministrate_mensili = dosi_somministrate_mensili.withColumnRenamed('sum(prima_dose)', 'vaccinati_prima_dose') \\\n",
    "                                                       .withColumnRenamed('sum(seconda_dose)', 'vaccinati_seconda_dose')\n",
    "\n",
    "\n",
    "totale_dosi_somministrate_mensili = dosi_somministrate_mensili.withColumn('totale_dosi', dosi_somministrate_mensili.vaccinati_prima_dose + dosi_somministrate_mensili.vaccinati_seconda_dose)\n",
    "\n",
    "percentuale_dosi_categorie = totale_dosi_somministrate_mensili.join(dosi_somministrate_categorie_mensili, on='mese') \\\n",
    "                                                              .drop('vaccinati_prima_dose', 'vaccinati_seconda_dose') \\\n",
    "                                                              .withColumn('operatori_sanitari_sociosanitari', round(dosi_somministrate_categorie_mensili.operatori_sanitari_sociosanitari / totale_dosi_somministrate_mensili.totale_dosi *100, 3)) \\\n",
    "                                                              .withColumn('personale_non_sanitario', round(dosi_somministrate_categorie_mensili.personale_non_sanitario / totale_dosi_somministrate_mensili.totale_dosi *100, 3)) \\\n",
    "                                                              .withColumn('ospiti_rsa', round(dosi_somministrate_categorie_mensili.ospiti_rsa / totale_dosi_somministrate_mensili.totale_dosi *100, 3)) \\\n",
    "                                                              .withColumn('60_69', round(dosi_somministrate_categorie_mensili['60_69'] / totale_dosi_somministrate_mensili.totale_dosi *100, 3)) \\\n",
    "                                                              .withColumn('70_79', round(dosi_somministrate_categorie_mensili['70_79'] / totale_dosi_somministrate_mensili.totale_dosi *100, 3)) \\\n",
    "                                                              .withColumn('over80', round(dosi_somministrate_categorie_mensili.over80 / totale_dosi_somministrate_mensili.totale_dosi *100, 3)) \\\n",
    "                                                              .withColumn('forze_armate', round(dosi_somministrate_categorie_mensili.forze_armate / totale_dosi_somministrate_mensili.totale_dosi *100, 3)) \\\n",
    "                                                              .withColumn('personale_scolastico', round(dosi_somministrate_categorie_mensili.personale_scolastico / totale_dosi_somministrate_mensili.totale_dosi *100, 3)) \\\n",
    "                                                              .withColumn('soggetti_fragili', round(dosi_somministrate_categorie_mensili.soggetti_fragili / totale_dosi_somministrate_mensili.totale_dosi *100, 3)) \\\n",
    "                                                              .withColumn('altro', round(dosi_somministrate_categorie_mensili.altro / totale_dosi_somministrate_mensili.totale_dosi *100, 3)) \\\n",
    "                                                              .drop('totale_dosi') \\\n",
    "                                                              .orderBy('mese')\n",
    "    \n",
    "percentuale_dosi_categorie.show()"
   ]
  },
  {
   "cell_type": "markdown",
   "metadata": {
    "application/vnd.databricks.v1+cell": {
     "inputWidgets": {},
     "nuid": "25ed7371-26b8-49b8-bdb3-02e81eaeb6c9",
     "showTitle": false,
     "title": ""
    }
   },
   "source": [
    "### Correlazione Dati Covid-19 e Dati Vaccini"
   ]
  },
  {
   "cell_type": "markdown",
   "metadata": {
    "application/vnd.databricks.v1+cell": {
     "inputWidgets": {},
     "nuid": "9fafb766-f2f2-4809-90a0-ec1715ce1ef4",
     "showTitle": false,
     "title": ""
    }
   },
   "source": [
    "#### Dosi Somministrate per Mese e Media Terapia Intensiva"
   ]
  },
  {
   "cell_type": "code",
   "execution_count": 0,
   "metadata": {
    "application/vnd.databricks.v1+cell": {
     "inputWidgets": {},
     "nuid": "98fba04b-a688-4234-bf1b-4442587b15ef",
     "showTitle": false,
     "title": ""
    }
   },
   "outputs": [
    {
     "data": {
      "text/html": [
       "<style scoped>\n",
       "  .ansiout {\n",
       "    display: block;\n",
       "    unicode-bidi: embed;\n",
       "    white-space: pre-wrap;\n",
       "    word-wrap: break-word;\n",
       "    word-break: break-all;\n",
       "    font-family: \"Source Code Pro\", \"Menlo\", monospace;;\n",
       "    font-size: 13px;\n",
       "    color: #555;\n",
       "    margin-left: 4px;\n",
       "    line-height: 19px;\n",
       "  }\n",
       "</style>\n",
       "<div class=\"ansiout\">+-------+--------------------+----------------------+-----------------------+\n",
       "   mese|vaccinati_prima_dose|vaccinati_seconda_dose|media_terapia_intensiva|\n",
       "+-------+--------------------+----------------------+-----------------------+\n",
       "2020-12|               39816|                     0|                   3005|\n",
       "2021-01|             1339306|                640322|                   2483|\n",
       "2021-02|             1588351|                781316|                   2128|\n",
       "2021-03|             4149031|               1815357|                   3127|\n",
       "2021-04|             6935689|               2659879|                   3306|\n",
       "+-------+--------------------+----------------------+-----------------------+\n",
       "\n",
       "</div>"
      ]
     },
     "metadata": {
      "application/vnd.databricks.v1+output": {
       "addedWidgets": {},
       "arguments": {},
       "data": "<div class=\"ansiout\">+-------+--------------------+----------------------+-----------------------+\n|   mese|vaccinati_prima_dose|vaccinati_seconda_dose|media_terapia_intensiva|\n+-------+--------------------+----------------------+-----------------------+\n|2020-12|               39816|                     0|                   3005|\n|2021-01|             1339306|                640322|                   2483|\n|2021-02|             1588351|                781316|                   2128|\n|2021-03|             4149031|               1815357|                   3127|\n|2021-04|             6935689|               2659879|                   3306|\n+-------+--------------------+----------------------+-----------------------+\n\n</div>",
       "datasetInfos": [],
       "removedWidgets": [],
       "type": "html"
      }
     },
     "output_type": "display_data"
    }
   ],
   "source": [
    "dosi_somministrate_terapie_intensive = dosi_somministrate_mensili.join(terapie_intensive_mensili, on='mese', how='left') \\\n",
    "                                                                 .orderBy('mese')\n",
    "dosi_somministrate_terapie_intensive.show()"
   ]
  },
  {
   "cell_type": "code",
   "execution_count": 0,
   "metadata": {
    "application/vnd.databricks.v1+cell": {
     "inputWidgets": {},
     "nuid": "e57da04b-6fd8-459b-b1ab-f1320af59f20",
     "showTitle": false,
     "title": ""
    }
   },
   "outputs": [
    {
     "data": {
      "text/html": [
       "<style scoped>\n",
       "  .ansiout {\n",
       "    display: block;\n",
       "    unicode-bidi: embed;\n",
       "    white-space: pre-wrap;\n",
       "    word-wrap: break-word;\n",
       "    word-break: break-all;\n",
       "    font-family: \"Source Code Pro\", \"Menlo\", monospace;;\n",
       "    font-size: 13px;\n",
       "    color: #555;\n",
       "    margin-left: 4px;\n",
       "    line-height: 19px;\n",
       "  }\n",
       "</style>\n",
       "<div class=\"ansiout\">+-------+----------------------+------------------------+-----------------------+\n",
       "   mese|percentuale_prima_dose|percentuale_seconda_dose|media_terapia_intensiva|\n",
       "+-------+----------------------+------------------------+-----------------------+\n",
       "2020-12|     0.066758897765931|                     0.0|                   3005|\n",
       "2021-01|    2.3123534409470134|      1.0736184181051955|                   2483|\n",
       "2021-02|     4.975518048778394|      2.3836393887422798|                   2128|\n",
       "2021-03|    11.932136904431358|       5.427421596188211|                   3127|\n",
       "2021-04|    23.561103975138916|       9.887201338772767|                   3306|\n",
       "+-------+----------------------+------------------------+-----------------------+\n",
       "\n",
       "</div>"
      ]
     },
     "metadata": {
      "application/vnd.databricks.v1+output": {
       "addedWidgets": {},
       "arguments": {},
       "data": "<div class=\"ansiout\">+-------+----------------------+------------------------+-----------------------+\n|   mese|percentuale_prima_dose|percentuale_seconda_dose|media_terapia_intensiva|\n+-------+----------------------+------------------------+-----------------------+\n|2020-12|     0.066758897765931|                     0.0|                   3005|\n|2021-01|    2.3123534409470134|      1.0736184181051955|                   2483|\n|2021-02|     4.975518048778394|      2.3836393887422798|                   2128|\n|2021-03|    11.932136904431358|       5.427421596188211|                   3127|\n|2021-04|    23.561103975138916|       9.887201338772767|                   3306|\n+-------+----------------------+------------------------+-----------------------+\n\n</div>",
       "datasetInfos": [],
       "removedWidgets": [],
       "type": "html"
      }
     },
     "output_type": "display_data"
    }
   ],
   "source": [
    "popolazione_totale = popolazione_regioni.groupBy().sum()\n",
    "\n",
    "temp = dosi_somministrate_mensili.join(terapie_intensive_mensili, on='mese', how='left')\n",
    "\n",
    "temp = temp.join(popolazione_totale) \\\n",
    "            .withColumnRenamed('sum(totale_generale)', 'totale') \\\n",
    "            .orderBy('mese')\n",
    "\n",
    "cum_sum = temp.withColumn('cumsum_prima_dose', sum(temp.vaccinati_prima_dose).over(Window.partitionBy().orderBy().rowsBetween(-sys.maxsize, 0))) \\\n",
    "              .withColumn('cumsum_seconda_dose', sum(temp.vaccinati_seconda_dose).over(Window.partitionBy().orderBy().rowsBetween(-sys.maxsize, 0)))\n",
    "\n",
    "cum_sum = cum_sum.withColumn('percentuale_prima_dose', cum_sum.cumsum_prima_dose / cum_sum.totale * 100)\n",
    "cum_sum = cum_sum.withColumn('percentuale_seconda_dose', cum_sum.cumsum_seconda_dose / cum_sum.totale * 100)\n",
    "\n",
    "dosi_somministrate_terapie_intensive = cum_sum.select('mese', 'percentuale_prima_dose', 'percentuale_seconda_dose', 'media_terapia_intensiva')\n",
    "dosi_somministrate_terapie_intensive.show()"
   ]
  },
  {
   "cell_type": "markdown",
   "metadata": {
    "application/vnd.databricks.v1+cell": {
     "inputWidgets": {},
     "nuid": "c976f86c-5d1f-4e56-a5d6-1634ec619095",
     "showTitle": false,
     "title": ""
    }
   },
   "source": [
    "#### Dosi Attualmente Somministrate per Regione e Attuale Terapia Intensiva"
   ]
  },
  {
   "cell_type": "code",
   "execution_count": 0,
   "metadata": {
    "application/vnd.databricks.v1+cell": {
     "inputWidgets": {},
     "nuid": "29264fbb-6743-4489-b827-846cc3b4a1a4",
     "showTitle": false,
     "title": ""
    }
   },
   "outputs": [
    {
     "data": {
      "text/html": [
       "<style scoped>\n",
       "  .ansiout {\n",
       "    display: block;\n",
       "    unicode-bidi: embed;\n",
       "    white-space: pre-wrap;\n",
       "    word-wrap: break-word;\n",
       "    word-break: break-all;\n",
       "    font-family: \"Source Code Pro\", \"Menlo\", monospace;;\n",
       "    font-size: 13px;\n",
       "    color: #555;\n",
       "    margin-left: 4px;\n",
       "    line-height: 19px;\n",
       "  }\n",
       "</style>\n",
       "<div class=\"ansiout\"></div>"
      ]
     },
     "metadata": {
      "application/vnd.databricks.v1+output": {
       "addedWidgets": {},
       "arguments": {},
       "data": "<div class=\"ansiout\"></div>",
       "datasetInfos": [],
       "removedWidgets": [],
       "type": "html"
      }
     },
     "output_type": "display_data"
    }
   ],
   "source": [
    "attuali_terapie_intensive_regioni = dati_covid_regioni.where(col(\"data\") >= current_date() - expr(\"INTERVAL 1 days\")) \\\n",
    "                                             .select('denominazione_regione', 'terapia_intensiva') \\\n",
    "                                             .withColumnRenamed('denominazione_regione', 'regione')"
   ]
  },
  {
   "cell_type": "code",
   "execution_count": 0,
   "metadata": {
    "application/vnd.databricks.v1+cell": {
     "inputWidgets": {},
     "nuid": "d48930c8-64d1-4655-a61e-71d3592e8e1e",
     "showTitle": false,
     "title": ""
    }
   },
   "outputs": [
    {
     "data": {
      "text/html": [
       "<style scoped>\n",
       "  .ansiout {\n",
       "    display: block;\n",
       "    unicode-bidi: embed;\n",
       "    white-space: pre-wrap;\n",
       "    word-wrap: break-word;\n",
       "    word-break: break-all;\n",
       "    font-family: \"Source Code Pro\", \"Menlo\", monospace;;\n",
       "    font-size: 13px;\n",
       "    color: #555;\n",
       "    margin-left: 4px;\n",
       "    line-height: 19px;\n",
       "  }\n",
       "</style>\n",
       "<div class=\"ansiout\">+--------------------+----------------------+------------------------+-----------------+\n",
       "             regione|percentuale_prima_dose|percentuale_seconda_dose|terapia_intensiva|\n",
       "+--------------------+----------------------+------------------------+-----------------+\n",
       "             Abruzzo|    24.407681648545026|       9.786149445762984|               36|\n",
       "          Basilicata|     23.71297812577948|       9.788451597277199|                8|\n",
       "             Bolzano|    25.593830025307714|       9.701038592380652|                2|\n",
       "            Calabria|    20.024180221845615|       8.540950631167146|               46|\n",
       "            Campania|    21.664461131312716|       8.352557000061097|              137|\n",
       "      Emilia-Romagna|     24.87337367126638|      11.919731530454273|              226|\n",
       "Friuli Venezia Gi...|     23.52497396817817|      11.243923144776723|               30|\n",
       "               Lazio|    23.012092360616432|      10.267473982313186|              284|\n",
       "             Liguria|     27.77916955770691|      12.517165893026483|               65|\n",
       "           Lombardia|    24.132688951954815|       9.528499435857148|              550|\n",
       "              Marche|    26.454908929364727|       10.11752713079901|               67|\n",
       "              Molise|     25.08252472414114|      13.384645077133998|                8|\n",
       "            Piemonte|    25.248369543913007|      10.679142339622432|              210|\n",
       "              Puglia|     24.49236777835254|        8.02321095893183|              224|\n",
       "            Sardegna|    22.002319403879696|       9.466555722468248|               49|\n",
       "             Sicilia|     20.24125744314697|       9.145794404025196|              165|\n",
       "             Toscana|     23.78883997665573|      10.568508796754552|              253|\n",
       "              Trento|    24.792226245588303|       7.713251134436448|               20|\n",
       "              Umbria|     24.80862824866548|      10.354587922980125|               34|\n",
       "       Valle d&#39;Aosta|     26.54318025497065|       9.878912935681495|                8|\n",
       "              Veneto|    23.640880459704626|      10.584175508230663|              161|\n",
       "+--------------------+----------------------+------------------------+-----------------+\n",
       "\n",
       "</div>"
      ]
     },
     "metadata": {
      "application/vnd.databricks.v1+output": {
       "addedWidgets": {},
       "arguments": {},
       "data": "<div class=\"ansiout\">+--------------------+----------------------+------------------------+-----------------+\n|             regione|percentuale_prima_dose|percentuale_seconda_dose|terapia_intensiva|\n+--------------------+----------------------+------------------------+-----------------+\n|             Abruzzo|    24.407681648545026|       9.786149445762984|               36|\n|          Basilicata|     23.71297812577948|       9.788451597277199|                8|\n|             Bolzano|    25.593830025307714|       9.701038592380652|                2|\n|            Calabria|    20.024180221845615|       8.540950631167146|               46|\n|            Campania|    21.664461131312716|       8.352557000061097|              137|\n|      Emilia-Romagna|     24.87337367126638|      11.919731530454273|              226|\n|Friuli Venezia Gi...|     23.52497396817817|      11.243923144776723|               30|\n|               Lazio|    23.012092360616432|      10.267473982313186|              284|\n|             Liguria|     27.77916955770691|      12.517165893026483|               65|\n|           Lombardia|    24.132688951954815|       9.528499435857148|              550|\n|              Marche|    26.454908929364727|       10.11752713079901|               67|\n|              Molise|     25.08252472414114|      13.384645077133998|                8|\n|            Piemonte|    25.248369543913007|      10.679142339622432|              210|\n|              Puglia|     24.49236777835254|        8.02321095893183|              224|\n|            Sardegna|    22.002319403879696|       9.466555722468248|               49|\n|             Sicilia|     20.24125744314697|       9.145794404025196|              165|\n|             Toscana|     23.78883997665573|      10.568508796754552|              253|\n|              Trento|    24.792226245588303|       7.713251134436448|               20|\n|              Umbria|     24.80862824866548|      10.354587922980125|               34|\n|       Valle d&#39;Aosta|     26.54318025497065|       9.878912935681495|                8|\n|              Veneto|    23.640880459704626|      10.584175508230663|              161|\n+--------------------+----------------------+------------------------+-----------------+\n\n</div>",
       "datasetInfos": [],
       "removedWidgets": [],
       "type": "html"
      }
     },
     "output_type": "display_data"
    }
   ],
   "source": [
    "attuali_dosi_somministrate_terapie_intensive = attuali_terapie_intensive_regioni.join(dosi_somministrate_regione, on='regione') \\\n",
    "                                                                                .select('regione', 'percentuale_prima_dose', 'percentuale_seconda_dose', 'terapia_intensiva') \\\n",
    "                                                                                .orderBy('regione')\n",
    "attuali_dosi_somministrate_terapie_intensive.show(21)"
   ]
  }
 ],
 "metadata": {
  "application/vnd.databricks.v1+notebook": {
   "dashboards": [],
   "language": "python",
   "notebookMetadata": {
    "pythonIndentUnit": 2
   },
   "notebookName": "homework2",
   "notebookOrigID": 3130135793358842,
   "widgets": {}
  },
  "kernelspec": {
   "display_name": "Python 3",
   "language": "python",
   "name": "python3"
  },
  "language_info": {
   "codemirror_mode": {
    "name": "ipython",
    "version": 3
   },
   "file_extension": ".py",
   "mimetype": "text/x-python",
   "name": "python",
   "nbconvert_exporter": "python",
   "pygments_lexer": "ipython3",
   "version": "3.5.6"
  }
 },
 "nbformat": 4,
 "nbformat_minor": 1
}
