{
 "cells": [
  {
   "cell_type": "markdown",
   "id": "designing-radical",
   "metadata": {},
   "source": [
    "# Homework 3 - MongoDB"
   ]
  },
  {
   "cell_type": "code",
   "execution_count": 1,
   "id": "arranged-presence",
   "metadata": {},
   "outputs": [],
   "source": [
    "import json\n",
    "import os\n",
    "import pymongo"
   ]
  },
  {
   "cell_type": "markdown",
   "id": "controversial-jimmy",
   "metadata": {},
   "source": [
    "## Read"
   ]
  },
  {
   "cell_type": "code",
   "execution_count": 2,
   "id": "silver-vintage",
   "metadata": {},
   "outputs": [],
   "source": [
    "dataset_dir = './dataset/'\n",
    "dati_covid_path = os.path.join(dataset_dir, 'dpc-covid19-ita-regioni.json')\n",
    "dati_vaccini_path = os.path.join(dataset_dir, 'somministrazioni-vaccini-latest.json')\n",
    "\n",
    "dati_covid = []\n",
    "with open(dati_covid_path, 'r') as j:\n",
    "    dati_covid = json.load(j)\n",
    "\n",
    "dati_vaccini = []\n",
    "with open(dati_vaccini_path, 'r') as j:\n",
    "    dati_vaccini = json.load(j)\n",
    "dati_vaccini = dati_vaccini['data']"
   ]
  },
  {
   "cell_type": "code",
   "execution_count": 3,
   "id": "dominant-development",
   "metadata": {},
   "outputs": [
    {
     "name": "stdout",
     "output_type": "stream",
     "text": [
      "Available database:  ['admin', 'config', 'local']\n",
      "Available collections:  []\n"
     ]
    }
   ],
   "source": [
    "client = pymongo.MongoClient('localhost', 27017)\n",
    "\n",
    "db = client['homework3']\n",
    "\n",
    "collection_covid = db.dati_covid\n",
    "collection_vaccini = db.dati_vaccini\n",
    "\n",
    "print('Available database: ', client.list_database_names())\n",
    "print('Available collections: ', db.list_collection_names())"
   ]
  },
  {
   "cell_type": "code",
   "execution_count": 4,
   "id": "italian-lincoln",
   "metadata": {},
   "outputs": [
    {
     "data": {
      "text/plain": [
       "<pymongo.results.InsertManyResult at 0x1b45aa02208>"
      ]
     },
     "execution_count": 4,
     "metadata": {},
     "output_type": "execute_result"
    }
   ],
   "source": [
    "# collection_covid.insert_many(dati_covid)\n",
    "# collection_vaccini.insert_many(dati_vaccini)"
   ]
  },
  {
   "cell_type": "code",
   "execution_count": 5,
   "id": "acquired-somalia",
   "metadata": {},
   "outputs": [
    {
     "name": "stdout",
     "output_type": "stream",
     "text": [
      "Available database:  ['admin', 'config', 'homework3', 'local']\n",
      "Available collections:  ['dati_vaccini', 'dati_covid']\n"
     ]
    }
   ],
   "source": [
    "print('Available database: ', client.list_database_names())\n",
    "print('Available collections: ', db.list_collection_names())"
   ]
  },
  {
   "cell_type": "code",
   "execution_count": null,
   "id": "endangered-garden",
   "metadata": {},
   "outputs": [],
   "source": []
  }
 ],
 "metadata": {
  "kernelspec": {
   "display_name": "Python 3",
   "language": "python",
   "name": "python3"
  },
  "language_info": {
   "codemirror_mode": {
    "name": "ipython",
    "version": 3
   },
   "file_extension": ".py",
   "mimetype": "text/x-python",
   "name": "python",
   "nbconvert_exporter": "python",
   "pygments_lexer": "ipython3",
   "version": "3.5.6"
  }
 },
 "nbformat": 4,
 "nbformat_minor": 5
}
